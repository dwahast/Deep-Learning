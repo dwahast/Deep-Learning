{
  "nbformat": 4,
  "nbformat_minor": 0,
  "metadata": {
    "colab": {
      "name": "MLP PyTorch.ipynb",
      "version": "0.3.2",
      "provenance": [],
      "include_colab_link": true
    },
    "kernelspec": {
      "name": "python3",
      "display_name": "Python 3"
    },
    "accelerator": "GPU"
  },
  "cells": [
    {
      "cell_type": "markdown",
      "metadata": {
        "id": "view-in-github",
        "colab_type": "text"
      },
      "source": [
        "<a href=\"https://colab.research.google.com/github/dwahast/Deep-learning/blob/master/MLP_PyTorch.ipynb\" target=\"_parent\"><img src=\"https://colab.research.google.com/assets/colab-badge.svg\" alt=\"Open In Colab\"/></a>"
      ]
    },
    {
      "metadata": {
        "id": "T_RsmTkQ98Vz",
        "colab_type": "text"
      },
      "cell_type": "markdown",
      "source": [
        "# Objetivos deste trabalho\n",
        "- Familiarizar-se com a biblioteca PyTorch\n",
        "- Definir arquiteturas MLP simples em PyTorch\n",
        "- Treinar utilizando CIFAR10, testando diferentes arquiteturas, parâmetros, funções de loss e otimizadores\n",
        "- Comparar os resultados obtidos utilizando apenas Perpceptrons\n",
        "- Link útil (https://towardsdatascience.com/cifar-10-image-classification-in-tensorflow-5b501f7dc77c)"
      ]
    },
    {
      "metadata": {
        "id": "qUwhuYBi98V2",
        "colab_type": "code",
        "colab": {}
      },
      "cell_type": "code",
      "source": [
        "%matplotlib inline\n",
        "\n",
        "import numpy as np \n",
        "import matplotlib.pyplot as plt\n",
        "\n",
        "import torch\n",
        "import torch.nn as nn\n",
        "from torch.utils.data import DataLoader\n",
        "\n",
        "import torchvision\n",
        "import torchvision.transforms as transforms\n",
        "\n",
        "import torch.nn.functional as F # softmax\n",
        "\n",
        "#import pandas as pd # organize files \n"
      ],
      "execution_count": 0,
      "outputs": []
    },
    {
      "metadata": {
        "id": "LU2fLgnR98WA",
        "colab_type": "code",
        "outputId": "f078c019-c40d-41f4-adb0-998e0210f31e",
        "colab": {
          "base_uri": "https://localhost:8080/",
          "height": 51
        }
      },
      "cell_type": "code",
      "source": [
        "# Carregar os datasets\n",
        "\n",
        "transform=transforms.Compose([\n",
        "    transforms.Grayscale(num_output_channels=1),\n",
        "    transforms.ToTensor()\n",
        "])\n",
        "\n",
        "dataset_train = torchvision.datasets.CIFAR10(root='./data', train=True,\n",
        "                                        download=True, transform=transform)\n",
        "\n",
        "dataset_test = torchvision.datasets.CIFAR10(root='./data', train=False,\n",
        "                                        download=True, transform=transform)"
      ],
      "execution_count": 2,
      "outputs": [
        {
          "output_type": "stream",
          "text": [
            "Files already downloaded and verified\n",
            "Files already downloaded and verified\n"
          ],
          "name": "stdout"
        }
      ]
    },
    {
      "metadata": {
        "id": "A-o4YkPr98WI",
        "colab_type": "code",
        "outputId": "d7c7b04f-5ec9-4f3d-d40a-595f25c5d8b1",
        "colab": {
          "base_uri": "https://localhost:8080/",
          "height": 34
        }
      },
      "cell_type": "code",
      "source": [
        "train_loader = DataLoader(dataset=dataset_train, shuffle=True)\n",
        "test_loader = DataLoader(dataset=dataset_test, shuffle=False)\n",
        "print(len(test_loader))"
      ],
      "execution_count": 3,
      "outputs": [
        {
          "output_type": "stream",
          "text": [
            "10000\n"
          ],
          "name": "stdout"
        }
      ]
    },
    {
      "metadata": {
        "id": "L36yfjGr98WO",
        "colab_type": "code",
        "colab": {}
      },
      "cell_type": "code",
      "source": [
        "# Definir a arquitetura MLP\n",
        "\n",
        "class MLP(nn.Module):\n",
        "    def __init__(self):\n",
        "        super(MLP, self).__init__()\n",
        "        self.fc1 = nn.Linear(32*32, 20)\n",
        "        self.fc2 = nn.Linear(20, 10)\n",
        "        self.activation_function = nn.Sigmoid()\n",
        "    def forward(self, x):\n",
        "        x = x.view(-1, 32*32)\n",
        "        x = self.activation_function(self.fc1(x))\n",
        "        x = self.activation_function(self.fc2(x))\n",
        "        return x\n",
        "# Arquitecture with RELU      \n",
        "class MLP_relu(nn.Module):\n",
        "    def __init__(self):\n",
        "        super(MLP_relu, self).__init__()\n",
        "        self.fc1 = nn.Linear(32*32, 20)\n",
        "        self.fc2 = nn.Linear(20, 10)\n",
        "    def forward(self, x):\n",
        "        x = x.view(-1, 32*32)\n",
        "        x = F.relu(self.fc1(x))\n",
        "        x = F.log_softmax(self.fc2(x),dim =1)\n",
        "        return x\n",
        "      \n",
        "# New Arquitecture with RELU   \n",
        "class MLP_Srelu(nn.Module):\n",
        "    def __init__(self):\n",
        "        super(MLP_Srelu, self).__init__()\n",
        "        self.fc1 = nn.Linear(32*32, 256)\n",
        "        self.fc2 = nn.Linear(256, 128)\n",
        "        self.fc3 = nn.Linear(128, 32)\n",
        "        self.fc4 = nn.Linear(32, 10)\n",
        "    def forward(self, x):\n",
        "        x = x.view(-1, 32*32)\n",
        "        x = F.relu(self.fc1(x))\n",
        "        x = F.relu(self.fc2(x))\n",
        "        x = F.relu(self.fc3(x))\n",
        "        x = F.log_softmax(self.fc4(x),dim =1)\n",
        "        return x   \n"
      ],
      "execution_count": 0,
      "outputs": []
    },
    {
      "metadata": {
        "id": "7DSF3ZnQ98WT",
        "colab_type": "code",
        "colab": {}
      },
      "cell_type": "code",
      "source": [
        "model_std = MLP()\n",
        "model_relu = MLP_relu()\n",
        "model_Srelu = MLP_Srelu()\n",
        "#print(model)"
      ],
      "execution_count": 0,
      "outputs": []
    },
    {
      "metadata": {
        "id": "Rh1fBZcW98WZ",
        "colab_type": "code",
        "colab": {}
      },
      "cell_type": "code",
      "source": [
        "# Definir otimizador e loss\n",
        "# Nota: testar outros otimizadores e funções de loss (em particular cross entropy)\n",
        "\n",
        "def optimizer_set(model,optimizer_method, learning_rate):\n",
        "  if optimizer_method == \"sgd\":\n",
        "    optimizer = torch.optim.SGD(model.parameters(), lr = learning_rate)\n",
        "  elif optimizer_method == \"adadelta\":\n",
        "    optimizer = torch.optim.Adadelta(model.parameters(), lr = learning_rate)\n",
        "  elif optimizer_method == \"adagrad\":\n",
        "    optimizer = torch.optim.Adagrad(model.parameters(), lr = learning_rate)\n",
        "  elif optimizer_method == \"adamax\":\n",
        "    optimizer = torch.optim.Adamax(model.parameters(), lr = learning_rate)\n",
        "  elif optimizer_method == \"rms\":\n",
        "    optimizer = torch.optim.RMSprop(model.parameters(), lr = learning_rate)\n",
        "  return optimizer\n",
        "\n",
        "def loss_function_set(loss_function):\n",
        "  if loss_function == \"mse\":\n",
        "    loss_fn = torch.nn.MSELoss()\n",
        "  elif loss_function == \"nllos\":\n",
        "     loss_fn = torch.nn.NLLoss()\n",
        "  elif loss_function == \"cross\":\n",
        "     loss_fn = torch.nn.CrossEntropyLoss()\n",
        "  return loss_fn\n",
        "  "
      ],
      "execution_count": 0,
      "outputs": []
    },
    {
      "metadata": {
        "id": "ZG-R1kCQEweC",
        "colab_type": "code",
        "colab": {}
      },
      "cell_type": "code",
      "source": [
        "def one_hot(label, output_size):\n",
        "    \n",
        "    label_select = np.zeros(output_size)\n",
        "    label_select[label]=1\n",
        "    \n",
        "    return torch.Tensor(label_select)"
      ],
      "execution_count": 0,
      "outputs": []
    },
    {
      "metadata": {
        "colab_type": "code",
        "id": "p87aRLgR2pPo",
        "colab": {}
      },
      "cell_type": "code",
      "source": [
        "def evaluate(model, loss_function, dataset):\n",
        "  model.eval() # set model to Evaluate \"mode\"\n",
        " # losses = []\n",
        "  corrects = 0\n",
        "  current_total = 0\n",
        "  accuracies = 0\n",
        "  \n",
        " # loss_fn = loss_function_set(loss_function)\n",
        "  \n",
        "  for image, label in dataset:\n",
        "    outputs = model(image)\n",
        "    \n",
        "   # if(loss_function == 'mse'):\n",
        "   #   label_target = one_hot(label,10) # one_hot to set the training class in the escalar\n",
        "   #   loss = loss_fn(outputs,label_target)\n",
        "   # else:\n",
        "   #   loss = loss_fn(outputs,label)\n",
        "      \n",
        "   # losses.append(loss.item())\n",
        "    \n",
        "    _, predicted = torch.max(outputs.data, 1)\n",
        "    \n",
        "    if(predicted==label):\n",
        "      corrects += 1\n",
        "    \n",
        "    current_total += 1\n",
        "  \n",
        "  accuracy = corrects/current_total\n",
        "\n",
        "  return accuracy #, np.mean(losses)\n",
        "      "
      ],
      "execution_count": 0,
      "outputs": []
    },
    {
      "metadata": {
        "id": "rFVQOHzayfj6",
        "colab_type": "text"
      },
      "cell_type": "markdown",
      "source": [
        "#Training function"
      ]
    },
    {
      "metadata": {
        "id": "MELtsUbB98Wf",
        "colab_type": "code",
        "colab": {}
      },
      "cell_type": "code",
      "source": [
        "# Realizar o treinamento aqui\n",
        "def fit(model, epochs, optimizer_method, loss_function, learning_rate):\n",
        "  \n",
        "  print(\"Opt Method:\", optimizer_method.upper(), \"| Loss Function:\", loss_function.upper(), \"| Learning Rate:\", learning_rate)\n",
        "  optimizer = optimizer_set(model,optimizer_method, learning_rate) #optimizer and Learning rate setter\n",
        "  loss_fn = loss_function_set(loss_function) \n",
        "  accuracies = []\n",
        "  losses = []\n",
        "  train_acc = []\n",
        "  for epoch in range(epochs):\n",
        "    model.train() # Set model to TRAIN \"mode\" (can be set to False for Test)\n",
        "    epoch_losses = []\n",
        "    for image,label in train_loader:\n",
        "      optimizer.zero_grad()  # cleaning gradients between mini batches\n",
        "      outputs = model(image) \n",
        "     \n",
        "      if(loss_function == 'mse'):\n",
        "        label_target = one_hot(label,10) # one_hot to set the training class in the escalar\n",
        "        loss = loss_fn(outputs,label_target)\n",
        "      else: \n",
        "        loss = loss_fn(outputs, label)\n",
        "        \n",
        "      loss.backward() # Backpropagation \n",
        "      optimizer.step() # Optimization Method\n",
        "      \n",
        "      epoch_losses.append(loss.item())\n",
        "\n",
        "    losses.append(np.mean(epoch_losses)) # Append mean losses for each epoch\n",
        "   \n",
        "    \n",
        "    acc = evaluate(model, loss_function, train_loader)\n",
        "    train_acc.append(acc)\n",
        "    acc = evaluate(model, loss_function, test_loader) #evaluate\n",
        "    accuracies.append(acc)\n",
        "    \n",
        "    #if(epoch%10==0):\n",
        "    print(\"Epoch:\",epoch, \"- Average loss:\", np.mean(epoch_losses),\"- Accuracy:\", acc) # Print mean Loss for each epoch\n",
        " \n",
        "  return {\n",
        "      \"Model\": outputs,\n",
        "      \"Acc\": accuracies,\n",
        "      \"Train Acc\": train_acc,\n",
        "      \"Loss\": losses,\n",
        "      \"Name\": optimizer_method + \" | \" + loss_function + \" | \" + str(learning_rate),\n",
        "      \"Arc\": model\n",
        "      #\"Evaluate Train Loss\": train_losses,\n",
        "      \n",
        "  }"
      ],
      "execution_count": 0,
      "outputs": []
    },
    {
      "metadata": {
        "id": "cFeR8SBEw0ue",
        "colab_type": "text"
      },
      "cell_type": "markdown",
      "source": [
        "# Training Your Model\n",
        "- Variable \"trained_models\" append all models trained\n",
        "- function \"fit\" train and return the Model and the all variable that will be used latter\n",
        "  - *fit(Model, Epochs, Optimizer method, Loss function, Learning rate, momentum)*"
      ]
    },
    {
      "metadata": {
        "id": "6kAvty-S98Wk",
        "colab_type": "code",
        "outputId": "3384d110-18db-48af-e0c0-3db48cc6c18a",
        "colab": {
          "base_uri": "https://localhost:8080/",
          "height": 459
        }
      },
      "cell_type": "code",
      "source": [
        "# Avaliar o modelo aqui (no conjunto de teste)\n",
        "trained_models = []\n",
        "ep = 25 #epocas\n",
        "trained_models.append(fit(model_Srelu,ep,\"sgd\", \"cross\", 0.01))\n"
      ],
      "execution_count": 10,
      "outputs": [
        {
          "output_type": "stream",
          "text": [
            "Opt Method: SGD | Loss Function: CROSS | Learning Rate: 0.01\n",
            "Epoch: 0 - Average loss: 2.0712986106920614 - Accuracy: 0.2891\n",
            "Epoch: 1 - Average loss: 1.9604914856082014 - Accuracy: 0.2991\n",
            "Epoch: 2 - Average loss: 1.914032141123321 - Accuracy: 0.3264\n",
            "Epoch: 3 - Average loss: 1.8839490118369786 - Accuracy: 0.3241\n",
            "Epoch: 4 - Average loss: 1.8565922414367708 - Accuracy: 0.3066\n",
            "Epoch: 5 - Average loss: 1.8343426412782815 - Accuracy: 0.3259\n",
            "Epoch: 6 - Average loss: 1.8136476827707846 - Accuracy: 0.3508\n",
            "Epoch: 7 - Average loss: 1.7955197176432942 - Accuracy: 0.326\n",
            "Epoch: 8 - Average loss: 1.7833482163117311 - Accuracy: 0.3573\n",
            "Epoch: 9 - Average loss: 1.7724362909541118 - Accuracy: 0.3616\n",
            "Epoch: 10 - Average loss: 1.762945708078026 - Accuracy: 0.3514\n",
            "Epoch: 11 - Average loss: 1.7490276745984115 - Accuracy: 0.3619\n",
            "Epoch: 12 - Average loss: 1.745818556948064 - Accuracy: 0.341\n",
            "Epoch: 13 - Average loss: 1.7376982464032884 - Accuracy: 0.36\n",
            "Epoch: 14 - Average loss: 1.7288865757033014 - Accuracy: 0.337\n",
            "Epoch: 15 - Average loss: 1.7244472248803941 - Accuracy: 0.3454\n",
            "Epoch: 16 - Average loss: 1.7184751660449173 - Accuracy: 0.3774\n",
            "Epoch: 17 - Average loss: 1.7112819362634613 - Accuracy: 0.364\n",
            "Epoch: 18 - Average loss: 1.7017019550077175 - Accuracy: 0.3677\n",
            "Epoch: 19 - Average loss: 1.6944335665071861 - Accuracy: 0.3625\n",
            "Epoch: 20 - Average loss: 1.6906863893344926 - Accuracy: 0.3697\n",
            "Epoch: 21 - Average loss: 1.686507697705141 - Accuracy: 0.3632\n",
            "Epoch: 22 - Average loss: 1.6863633815808081 - Accuracy: 0.379\n",
            "Epoch: 23 - Average loss: 1.675981002443415 - Accuracy: 0.3701\n",
            "Epoch: 24 - Average loss: 1.671730000149152 - Accuracy: 0.3679\n"
          ],
          "name": "stdout"
        }
      ]
    },
    {
      "metadata": {
        "id": "v7s50jzco4K-",
        "colab_type": "code",
        "outputId": "8b91e274-0a05-4850-e603-8c4e7cfc5a93",
        "colab": {
          "base_uri": "https://localhost:8080/",
          "height": 459
        }
      },
      "cell_type": "code",
      "source": [
        "trained_models.append(fit(model_relu,ep,\"sgd\", \"cross\", 0.01))"
      ],
      "execution_count": 11,
      "outputs": [
        {
          "output_type": "stream",
          "text": [
            "Opt Method: SGD | Loss Function: CROSS | Learning Rate: 0.01\n",
            "Epoch: 0 - Average loss: 2.206798139694631 - Accuracy: 0.1796\n",
            "Epoch: 1 - Average loss: 2.1406792406504227 - Accuracy: 0.2058\n",
            "Epoch: 2 - Average loss: 2.108375342767928 - Accuracy: 0.2152\n",
            "Epoch: 3 - Average loss: 2.090791848410666 - Accuracy: 0.2481\n",
            "Epoch: 4 - Average loss: 2.0755400175541685 - Accuracy: 0.2517\n",
            "Epoch: 5 - Average loss: 2.0510283879160673 - Accuracy: 0.2321\n",
            "Epoch: 6 - Average loss: 2.0420472592153027 - Accuracy: 0.2537\n",
            "Epoch: 7 - Average loss: 2.034787000824462 - Accuracy: 0.2402\n",
            "Epoch: 8 - Average loss: 2.0260362716884583 - Accuracy: 0.2757\n",
            "Epoch: 9 - Average loss: 2.0206933263132907 - Accuracy: 0.2634\n",
            "Epoch: 10 - Average loss: 2.017755160059514 - Accuracy: 0.2854\n",
            "Epoch: 11 - Average loss: 2.015393937327093 - Accuracy: 0.2721\n",
            "Epoch: 12 - Average loss: 2.0120904047490984 - Accuracy: 0.2624\n",
            "Epoch: 13 - Average loss: 2.010561599853345 - Accuracy: 0.24\n",
            "Epoch: 14 - Average loss: 2.006150469422268 - Accuracy: 0.2819\n",
            "Epoch: 15 - Average loss: 2.0016455137074054 - Accuracy: 0.2718\n",
            "Epoch: 16 - Average loss: 2.0014129627972674 - Accuracy: 0.2695\n",
            "Epoch: 17 - Average loss: 1.9953295954999037 - Accuracy: 0.2491\n",
            "Epoch: 18 - Average loss: 1.9967680895674718 - Accuracy: 0.2554\n",
            "Epoch: 19 - Average loss: 1.990749395176414 - Accuracy: 0.2837\n",
            "Epoch: 20 - Average loss: 1.989418218139112 - Accuracy: 0.2565\n",
            "Epoch: 21 - Average loss: 1.987975807822707 - Accuracy: 0.2595\n",
            "Epoch: 22 - Average loss: 1.9841041969513427 - Accuracy: 0.2487\n",
            "Epoch: 23 - Average loss: 1.9846518203117558 - Accuracy: 0.2849\n",
            "Epoch: 24 - Average loss: 1.9795242002307385 - Accuracy: 0.2567\n"
          ],
          "name": "stdout"
        }
      ]
    },
    {
      "metadata": {
        "id": "l9qX0-UwOR9K",
        "colab_type": "code",
        "colab": {
          "base_uri": "https://localhost:8080/",
          "height": 459
        },
        "outputId": "c37dadd5-64f5-4fbc-9f8f-4133e076cce6"
      },
      "cell_type": "code",
      "source": [
        "trained_models.append(fit(model_std,ep,\"sgd\", \"cross\", 0.01))"
      ],
      "execution_count": 12,
      "outputs": [
        {
          "output_type": "stream",
          "text": [
            "Opt Method: SGD | Loss Function: CROSS | Learning Rate: 0.01\n",
            "Epoch: 0 - Average loss: 2.2178344408535957 - Accuracy: 0.2446\n",
            "Epoch: 1 - Average loss: 2.1486216933107376 - Accuracy: 0.2527\n",
            "Epoch: 2 - Average loss: 2.1268301559615135 - Accuracy: 0.2722\n",
            "Epoch: 3 - Average loss: 2.1126370102477074 - Accuracy: 0.2825\n",
            "Epoch: 4 - Average loss: 2.101193777871132 - Accuracy: 0.2835\n",
            "Epoch: 5 - Average loss: 2.0911605295038225 - Accuracy: 0.2993\n",
            "Epoch: 6 - Average loss: 2.0825133217239378 - Accuracy: 0.3046\n",
            "Epoch: 7 - Average loss: 2.0745993898653983 - Accuracy: 0.3093\n",
            "Epoch: 8 - Average loss: 2.067130934972763 - Accuracy: 0.3126\n",
            "Epoch: 9 - Average loss: 2.060771965632439 - Accuracy: 0.3186\n",
            "Epoch: 10 - Average loss: 2.054257458472252 - Accuracy: 0.3237\n",
            "Epoch: 11 - Average loss: 2.0492362650442124 - Accuracy: 0.3286\n",
            "Epoch: 12 - Average loss: 2.045043985681534 - Accuracy: 0.3255\n",
            "Epoch: 13 - Average loss: 2.040279405286312 - Accuracy: 0.3238\n",
            "Epoch: 14 - Average loss: 2.037027691731453 - Accuracy: 0.3343\n",
            "Epoch: 15 - Average loss: 2.0333146629500387 - Accuracy: 0.3267\n",
            "Epoch: 16 - Average loss: 2.0300458909511567 - Accuracy: 0.3199\n",
            "Epoch: 17 - Average loss: 2.0274966073942187 - Accuracy: 0.3299\n",
            "Epoch: 18 - Average loss: 2.0243999193096163 - Accuracy: 0.3387\n",
            "Epoch: 19 - Average loss: 2.0218111505913736 - Accuracy: 0.3367\n",
            "Epoch: 20 - Average loss: 2.019593954098225 - Accuracy: 0.3388\n",
            "Epoch: 21 - Average loss: 2.0173372306394577 - Accuracy: 0.3403\n",
            "Epoch: 22 - Average loss: 2.01541002443552 - Accuracy: 0.3328\n",
            "Epoch: 23 - Average loss: 2.013415720822811 - Accuracy: 0.3436\n",
            "Epoch: 24 - Average loss: 2.011621529145241 - Accuracy: 0.3453\n"
          ],
          "name": "stdout"
        }
      ]
    },
    {
      "metadata": {
        "id": "NBp2wlJLkhDA",
        "colab_type": "code",
        "colab": {
          "base_uri": "https://localhost:8080/",
          "height": 1343
        },
        "outputId": "28946089-288e-4510-8a07-afdc5e623b66"
      },
      "cell_type": "code",
      "source": [
        "#Another Optimizer\n",
        "model_std = MLP()\n",
        "model_relu = MLP_relu()\n",
        "model_Srelu = MLP_Srelu()\n",
        "\n",
        "trained_models1 = []\n",
        "\n",
        "trained_models1.append(fit(model_Srelu,ep,\"adadelta\", \"cross\", 0.01))\n",
        "trained_models1.append(fit(model_relu,ep,\"adadelta\", \"cross\", 0.01))\n",
        "trained_models1.append(fit(model_std,ep,\"adadelta\", \"cross\", 0.01))"
      ],
      "execution_count": 44,
      "outputs": [
        {
          "output_type": "stream",
          "text": [
            "Opt Method: ADADELTA | Loss Function: CROSS | Learning Rate: 0.01\n",
            "Epoch: 0 - Average loss: 2.1595754825755953 - Accuracy: 0.2274\n",
            "Epoch: 1 - Average loss: 2.0811740418618916 - Accuracy: 0.2366\n",
            "Epoch: 2 - Average loss: 2.0570735734796526 - Accuracy: 0.2583\n",
            "Epoch: 3 - Average loss: 2.036419494776726 - Accuracy: 0.2332\n",
            "Epoch: 4 - Average loss: 2.0134072666722536 - Accuracy: 0.3039\n",
            "Epoch: 5 - Average loss: 2.0002261819742992 - Accuracy: 0.2326\n",
            "Epoch: 6 - Average loss: 1.9942172896361352 - Accuracy: 0.2902\n",
            "Epoch: 7 - Average loss: 1.9889197466730326 - Accuracy: 0.2854\n",
            "Epoch: 8 - Average loss: 1.9861932916793599 - Accuracy: 0.3104\n",
            "Epoch: 9 - Average loss: 1.9804945161269978 - Accuracy: 0.3155\n",
            "Epoch: 10 - Average loss: 1.975350617162697 - Accuracy: 0.3091\n",
            "Epoch: 11 - Average loss: 1.9715140229450445 - Accuracy: 0.2993\n",
            "Epoch: 12 - Average loss: 1.974059485347448 - Accuracy: 0.3089\n",
            "Epoch: 13 - Average loss: 1.9797873053704131 - Accuracy: 0.3122\n",
            "Epoch: 14 - Average loss: 1.9786077587256095 - Accuracy: 0.3084\n",
            "Epoch: 15 - Average loss: 1.975715417782793 - Accuracy: 0.332\n",
            "Epoch: 16 - Average loss: 1.9721337992193724 - Accuracy: 0.3153\n",
            "Epoch: 17 - Average loss: 1.9663386037279542 - Accuracy: 0.3028\n",
            "Epoch: 18 - Average loss: 1.9680899124797937 - Accuracy: 0.2847\n",
            "Epoch: 19 - Average loss: 1.9672642353465501 - Accuracy: 0.3278\n",
            "Epoch: 20 - Average loss: 1.9633110259153674 - Accuracy: 0.3339\n",
            "Epoch: 21 - Average loss: 1.9634043145171018 - Accuracy: 0.2904\n",
            "Epoch: 22 - Average loss: 1.9621496441894035 - Accuracy: 0.322\n",
            "Epoch: 23 - Average loss: 1.9660001813207448 - Accuracy: 0.2458\n",
            "Epoch: 24 - Average loss: 1.9680670858770435 - Accuracy: 0.3337\n",
            "Opt Method: ADADELTA | Loss Function: CROSS | Learning Rate: 0.01\n",
            "Epoch: 0 - Average loss: 2.1958576628875734 - Accuracy: 0.2345\n",
            "Epoch: 1 - Average loss: 2.09676437743932 - Accuracy: 0.2577\n",
            "Epoch: 2 - Average loss: 2.0696730454684795 - Accuracy: 0.267\n",
            "Epoch: 3 - Average loss: 2.052962122602761 - Accuracy: 0.262\n",
            "Epoch: 4 - Average loss: 2.0394274788218736 - Accuracy: 0.2741\n",
            "Epoch: 5 - Average loss: 2.030330242484957 - Accuracy: 0.2722\n",
            "Epoch: 6 - Average loss: 2.0225916342373194 - Accuracy: 0.2648\n",
            "Epoch: 7 - Average loss: 2.0151716087168454 - Accuracy: 0.2842\n",
            "Epoch: 8 - Average loss: 2.009571776212752 - Accuracy: 0.2932\n",
            "Epoch: 9 - Average loss: 2.0033281288574636 - Accuracy: 0.2872\n",
            "Epoch: 10 - Average loss: 1.9974295880842954 - Accuracy: 0.2958\n",
            "Epoch: 11 - Average loss: 1.9920861097148805 - Accuracy: 0.3058\n",
            "Epoch: 12 - Average loss: 1.9871027398496495 - Accuracy: 0.297\n",
            "Epoch: 13 - Average loss: 1.983244441297911 - Accuracy: 0.2964\n",
            "Epoch: 14 - Average loss: 1.9789445388242417 - Accuracy: 0.3024\n",
            "Epoch: 15 - Average loss: 1.9761190776645952 - Accuracy: 0.3011\n",
            "Epoch: 16 - Average loss: 1.9720771089167521 - Accuracy: 0.3036\n",
            "Epoch: 17 - Average loss: 1.969611517491024 - Accuracy: 0.3077\n",
            "Epoch: 18 - Average loss: 1.96878360885513 - Accuracy: 0.3073\n",
            "Epoch: 19 - Average loss: 1.9659448601126113 - Accuracy: 0.3106\n",
            "Epoch: 20 - Average loss: 1.9633334761061705 - Accuracy: 0.3079\n",
            "Epoch: 21 - Average loss: 1.962490606064666 - Accuracy: 0.3159\n",
            "Epoch: 22 - Average loss: 1.96003171039504 - Accuracy: 0.3065\n",
            "Epoch: 23 - Average loss: 1.9590190224281698 - Accuracy: 0.313\n",
            "Epoch: 24 - Average loss: 1.956859538775538 - Accuracy: 0.3128\n",
            "Opt Method: ADADELTA | Loss Function: CROSS | Learning Rate: 0.01\n",
            "Epoch: 0 - Average loss: 2.2822412579679487 - Accuracy: 0.215\n",
            "Epoch: 1 - Average loss: 2.259169459769726 - Accuracy: 0.1997\n",
            "Epoch: 2 - Average loss: 2.251991590766907 - Accuracy: 0.2008\n",
            "Epoch: 3 - Average loss: 2.2505056814789772 - Accuracy: 0.1945\n",
            "Epoch: 4 - Average loss: 2.2507177838611603 - Accuracy: 0.1942\n",
            "Epoch: 5 - Average loss: 2.2511107359313964 - Accuracy: 0.1971\n",
            "Epoch: 6 - Average loss: 2.2513817609381674 - Accuracy: 0.1979\n",
            "Epoch: 7 - Average loss: 2.2518745167946816 - Accuracy: 0.2029\n",
            "Epoch: 8 - Average loss: 2.2524103385162353 - Accuracy: 0.2025\n",
            "Epoch: 9 - Average loss: 2.252757453277111 - Accuracy: 0.2115\n",
            "Epoch: 10 - Average loss: 2.2533974601864815 - Accuracy: 0.2112\n",
            "Epoch: 11 - Average loss: 2.254006432836056 - Accuracy: 0.2094\n",
            "Epoch: 12 - Average loss: 2.2543928540849687 - Accuracy: 0.2103\n",
            "Epoch: 13 - Average loss: 2.254824672510624 - Accuracy: 0.2112\n",
            "Epoch: 14 - Average loss: 2.2551476165509223 - Accuracy: 0.2068\n",
            "Epoch: 15 - Average loss: 2.2555158053326605 - Accuracy: 0.2039\n",
            "Epoch: 16 - Average loss: 2.255849363296032 - Accuracy: 0.2025\n",
            "Epoch: 17 - Average loss: 2.2562148222112657 - Accuracy: 0.1997\n",
            "Epoch: 18 - Average loss: 2.256385716047287 - Accuracy: 0.2024\n",
            "Epoch: 19 - Average loss: 2.2567290763783454 - Accuracy: 0.2015\n",
            "Epoch: 20 - Average loss: 2.2570119470643997 - Accuracy: 0.2013\n",
            "Epoch: 21 - Average loss: 2.2571632452869417 - Accuracy: 0.204\n",
            "Epoch: 22 - Average loss: 2.257351111624241 - Accuracy: 0.2048\n",
            "Epoch: 23 - Average loss: 2.257338003993034 - Accuracy: 0.2049\n",
            "Epoch: 24 - Average loss: 2.257563856022358 - Accuracy: 0.2057\n"
          ],
          "name": "stdout"
        }
      ]
    },
    {
      "metadata": {
        "id": "gkcA8bMVUngo",
        "colab_type": "code",
        "colab": {
          "base_uri": "https://localhost:8080/",
          "height": 1343
        },
        "outputId": "ba21076d-c05b-4b0b-99b5-35def6ca4931"
      },
      "cell_type": "code",
      "source": [
        "#Another Optimizer\n",
        "model_std = MLP()\n",
        "model_relu = MLP_relu()\n",
        "model_Srelu = MLP_Srelu()\n",
        "\n",
        "trained_models2 = []\n",
        "\n",
        "trained_models2.append(fit(model_Srelu,ep,\"sgd\", \"mse\", 0.01))\n",
        "trained_models2.append(fit(model_relu,ep,\"sgd\", \"mse\", 0.01))\n",
        "trained_models2.append(fit(model_std,ep,\"sgd\", \"mse\", 0.01))"
      ],
      "execution_count": 46,
      "outputs": [
        {
          "output_type": "stream",
          "text": [
            "Opt Method: SGD | Loss Function: MSE | Learning Rate: 0.01\n",
            "Epoch: 0 - Average loss: 5.860953749799728 - Accuracy: 0.2961\n",
            "Epoch: 1 - Average loss: 5.860021422691346 - Accuracy: 0.3323\n",
            "Epoch: 2 - Average loss: 5.8595053579330445 - Accuracy: 0.3364\n",
            "Epoch: 3 - Average loss: 5.859140379886627 - Accuracy: 0.3624\n",
            "Epoch: 4 - Average loss: 5.8588371799755095 - Accuracy: 0.3641\n",
            "Epoch: 5 - Average loss: 5.858576901874542 - Accuracy: 0.3712\n",
            "Epoch: 6 - Average loss: 5.858356099843979 - Accuracy: 0.3864\n",
            "Epoch: 7 - Average loss: 5.858139945106506 - Accuracy: 0.386\n",
            "Epoch: 8 - Average loss: 5.8579520998573305 - Accuracy: 0.4012\n",
            "Epoch: 9 - Average loss: 5.857758838462829 - Accuracy: 0.3901\n",
            "Epoch: 10 - Average loss: 5.85757956366539 - Accuracy: 0.4029\n",
            "Epoch: 11 - Average loss: 5.857409520788193 - Accuracy: 0.4126\n",
            "Epoch: 12 - Average loss: 5.857250818662643 - Accuracy: 0.4123\n",
            "Epoch: 13 - Average loss: 5.857097074365615 - Accuracy: 0.4034\n",
            "Epoch: 14 - Average loss: 5.856930483989715 - Accuracy: 0.4118\n",
            "Epoch: 15 - Average loss: 5.856784562578201 - Accuracy: 0.4229\n",
            "Epoch: 16 - Average loss: 5.856646380271911 - Accuracy: 0.4196\n",
            "Epoch: 17 - Average loss: 5.856493516998291 - Accuracy: 0.4205\n",
            "Epoch: 18 - Average loss: 5.8563783331394195 - Accuracy: 0.4249\n",
            "Epoch: 19 - Average loss: 5.856234521389007 - Accuracy: 0.4207\n",
            "Epoch: 20 - Average loss: 5.856100189743042 - Accuracy: 0.4175\n",
            "Epoch: 21 - Average loss: 5.855959837846756 - Accuracy: 0.4191\n",
            "Epoch: 22 - Average loss: 5.855845213317871 - Accuracy: 0.4411\n",
            "Epoch: 23 - Average loss: 5.855719004039765 - Accuracy: 0.4388\n",
            "Epoch: 24 - Average loss: 5.855606597929001 - Accuracy: 0.4496\n",
            "Opt Method: SGD | Loss Function: MSE | Learning Rate: 0.01\n",
            "Epoch: 0 - Average loss: 5.862089752397537 - Accuracy: 0.1784\n",
            "Epoch: 1 - Average loss: 5.861343603477478 - Accuracy: 0.2057\n",
            "Epoch: 2 - Average loss: 5.861029009227753 - Accuracy: 0.2247\n",
            "Epoch: 3 - Average loss: 5.860849224653244 - Accuracy: 0.2229\n",
            "Epoch: 4 - Average loss: 5.860726184129715 - Accuracy: 0.2413\n",
            "Epoch: 5 - Average loss: 5.860606003313064 - Accuracy: 0.2611\n",
            "Epoch: 6 - Average loss: 5.860525984830856 - Accuracy: 0.2692\n",
            "Epoch: 7 - Average loss: 5.860464187068939 - Accuracy: 0.2646\n",
            "Epoch: 8 - Average loss: 5.860418287000656 - Accuracy: 0.2663\n",
            "Epoch: 9 - Average loss: 5.860374079647064 - Accuracy: 0.2776\n",
            "Epoch: 10 - Average loss: 5.860327569627762 - Accuracy: 0.2753\n",
            "Epoch: 11 - Average loss: 5.860278110294342 - Accuracy: 0.268\n",
            "Epoch: 12 - Average loss: 5.860229422521591 - Accuracy: 0.2545\n",
            "Epoch: 13 - Average loss: 5.860173167619705 - Accuracy: 0.2862\n",
            "Epoch: 14 - Average loss: 5.860116715669632 - Accuracy: 0.2889\n",
            "Epoch: 15 - Average loss: 5.860081565389633 - Accuracy: 0.2839\n",
            "Epoch: 16 - Average loss: 5.860049850912094 - Accuracy: 0.2851\n",
            "Epoch: 17 - Average loss: 5.860033482275009 - Accuracy: 0.2853\n",
            "Epoch: 18 - Average loss: 5.860004379577637 - Accuracy: 0.2971\n",
            "Epoch: 19 - Average loss: 5.859978197860718 - Accuracy: 0.2993\n",
            "Epoch: 20 - Average loss: 5.859950308160782 - Accuracy: 0.2933\n",
            "Epoch: 21 - Average loss: 5.859925868835449 - Accuracy: 0.3034\n",
            "Epoch: 22 - Average loss: 5.859903908290863 - Accuracy: 0.2898\n",
            "Epoch: 23 - Average loss: 5.859894096860885 - Accuracy: 0.2916\n",
            "Epoch: 24 - Average loss: 5.859872749891281 - Accuracy: 0.3029\n",
            "Opt Method: SGD | Loss Function: MSE | Learning Rate: 0.01\n",
            "Epoch: 0 - Average loss: 0.09151313150078058 - Accuracy: 0.1485\n",
            "Epoch: 1 - Average loss: 0.08952612114235758 - Accuracy: 0.1488\n",
            "Epoch: 2 - Average loss: 0.08894394455954432 - Accuracy: 0.1525\n",
            "Epoch: 3 - Average loss: 0.08829967185713351 - Accuracy: 0.1557\n",
            "Epoch: 4 - Average loss: 0.08778074862375855 - Accuracy: 0.1778\n",
            "Epoch: 5 - Average loss: 0.08734917762614787 - Accuracy: 0.1948\n",
            "Epoch: 6 - Average loss: 0.08692738501608371 - Accuracy: 0.2051\n",
            "Epoch: 7 - Average loss: 0.08648139378152787 - Accuracy: 0.2185\n",
            "Epoch: 8 - Average loss: 0.08603240802191198 - Accuracy: 0.2368\n",
            "Epoch: 9 - Average loss: 0.08563088263183832 - Accuracy: 0.238\n",
            "Epoch: 10 - Average loss: 0.08528370198890567 - Accuracy: 0.2465\n",
            "Epoch: 11 - Average loss: 0.08497797067895532 - Accuracy: 0.2519\n",
            "Epoch: 12 - Average loss: 0.08471360678322613 - Accuracy: 0.26\n",
            "Epoch: 13 - Average loss: 0.08446245174877345 - Accuracy: 0.2624\n",
            "Epoch: 14 - Average loss: 0.0842340671545267 - Accuracy: 0.2629\n",
            "Epoch: 15 - Average loss: 0.08401114187795669 - Accuracy: 0.27\n",
            "Epoch: 16 - Average loss: 0.08381826877925545 - Accuracy: 0.2678\n",
            "Epoch: 17 - Average loss: 0.08363827054146677 - Accuracy: 0.2749\n",
            "Epoch: 18 - Average loss: 0.08347048583459109 - Accuracy: 0.2789\n",
            "Epoch: 19 - Average loss: 0.08331553167957813 - Accuracy: 0.2834\n",
            "Epoch: 20 - Average loss: 0.08316614447727799 - Accuracy: 0.2828\n",
            "Epoch: 21 - Average loss: 0.08301984209144488 - Accuracy: 0.2869\n",
            "Epoch: 22 - Average loss: 0.08288211903247983 - Accuracy: 0.2918\n",
            "Epoch: 23 - Average loss: 0.08276458064468578 - Accuracy: 0.2973\n",
            "Epoch: 24 - Average loss: 0.08263084791919216 - Accuracy: 0.2884\n"
          ],
          "name": "stdout"
        }
      ]
    },
    {
      "metadata": {
        "id": "NEYr1-Z1wlq-",
        "colab_type": "text"
      },
      "cell_type": "markdown",
      "source": [
        "# Text and Graphical Output"
      ]
    },
    {
      "metadata": {
        "id": "qD3jggrzfXa9",
        "colab_type": "code",
        "colab": {}
      },
      "cell_type": "code",
      "source": [
        "def graphical_outputs(trained_models):\n",
        "  plt.title(\"\\n\\nAccuracy \" + trained_models[0][\"Name\"].upper() +\"\\n\", fontsize=20, loc=\"left\")\n",
        "  plt.title(\"dotted line = train\")\n",
        "  for models in trained_models:\n",
        "    plt.plot(models[\"Acc\"], label = str(models[\"Arc\"]).partition(\"(\")[0])\n",
        "    plt.plot(models[\"Train Acc\"],\"--\") \n",
        "    print(models[\"Arc\"],\"\\n\", \"ACC: \", np.mean(models[\"Acc\"]),\"\\n\")\n",
        "\n",
        "  plt.legend(loc='best')\n",
        "  plt.show\n"
      ],
      "execution_count": 0,
      "outputs": []
    },
    {
      "metadata": {
        "id": "DDxFC1RGjrLc",
        "colab_type": "code",
        "colab": {
          "base_uri": "https://localhost:8080/",
          "height": 710
        },
        "outputId": "d5fcd0aa-8bc9-4964-859b-c2ca0edbfb99"
      },
      "cell_type": "code",
      "source": [
        "graphical_outputs(trained_models)"
      ],
      "execution_count": 43,
      "outputs": [
        {
          "output_type": "stream",
          "text": [
            "MLP_Srelu(\n",
            "  (fc1): Linear(in_features=1024, out_features=256, bias=True)\n",
            "  (fc2): Linear(in_features=256, out_features=128, bias=True)\n",
            "  (fc3): Linear(in_features=128, out_features=32, bias=True)\n",
            "  (fc4): Linear(in_features=32, out_features=10, bias=True)\n",
            ") \n",
            " ACC:  0.347404 \n",
            "\n",
            "MLP_relu(\n",
            "  (fc1): Linear(in_features=1024, out_features=20, bias=True)\n",
            "  (fc2): Linear(in_features=20, out_features=10, bias=True)\n",
            ") \n",
            " ACC:  0.253724 \n",
            "\n",
            "MLP(\n",
            "  (fc1): Linear(in_features=1024, out_features=20, bias=True)\n",
            "  (fc2): Linear(in_features=20, out_features=10, bias=True)\n",
            "  (activation_function): Sigmoid()\n",
            ") \n",
            " ACC:  0.31474 \n",
            "\n"
          ],
          "name": "stdout"
        },
        {
          "output_type": "display_data",
          "data": {
            "image/png": "[encoded data removed]",
            "text/plain": [
              "<Figure size 432x288 with 1 Axes>"
            ]
          },
          "metadata": {
            "tags": []
          }
        }
      ]
    },
    {
      "metadata": {
        "id": "tJ0Qc0T2lSf-",
        "colab_type": "code",
        "colab": {
          "base_uri": "https://localhost:8080/",
          "height": 710
        },
        "outputId": "f6305476-7a69-4eed-b7ba-7308da4b199c"
      },
      "cell_type": "code",
      "source": [
        "graphical_outputs(trained_models1)"
      ],
      "execution_count": 45,
      "outputs": [
        {
          "output_type": "stream",
          "text": [
            "MLP_Srelu(\n",
            "  (fc1): Linear(in_features=1024, out_features=256, bias=True)\n",
            "  (fc2): Linear(in_features=256, out_features=128, bias=True)\n",
            "  (fc3): Linear(in_features=128, out_features=32, bias=True)\n",
            "  (fc4): Linear(in_features=32, out_features=10, bias=True)\n",
            ") \n",
            " ACC:  0.292792 \n",
            "\n",
            "MLP_relu(\n",
            "  (fc1): Linear(in_features=1024, out_features=20, bias=True)\n",
            "  (fc2): Linear(in_features=20, out_features=10, bias=True)\n",
            ") \n",
            " ACC:  0.29122800000000004 \n",
            "\n",
            "MLP(\n",
            "  (fc1): Linear(in_features=1024, out_features=20, bias=True)\n",
            "  (fc2): Linear(in_features=20, out_features=10, bias=True)\n",
            "  (activation_function): Sigmoid()\n",
            ") \n",
            " ACC:  0.20382800000000004 \n",
            "\n"
          ],
          "name": "stdout"
        },
        {
          "output_type": "display_data",
          "data": {
            "image/png": "[encoded data removed]",
            "text/plain": [
              "<Figure size 432x288 with 1 Axes>"
            ]
          },
          "metadata": {
            "tags": []
          }
        }
      ]
    },
    {
      "metadata": {
        "id": "Aq_WUKSZmg50",
        "colab_type": "code",
        "colab": {
          "base_uri": "https://localhost:8080/",
          "height": 710
        },
        "outputId": "b1b3d1e2-2752-48b8-f774-7c1f2c972ebd"
      },
      "cell_type": "code",
      "source": [
        "graphical_outputs(trained_models2)"
      ],
      "execution_count": 47,
      "outputs": [
        {
          "output_type": "stream",
          "text": [
            "MLP_Srelu(\n",
            "  (fc1): Linear(in_features=1024, out_features=256, bias=True)\n",
            "  (fc2): Linear(in_features=256, out_features=128, bias=True)\n",
            "  (fc3): Linear(in_features=128, out_features=32, bias=True)\n",
            "  (fc4): Linear(in_features=32, out_features=10, bias=True)\n",
            ") \n",
            " ACC:  0.397756 \n",
            "\n",
            "MLP_relu(\n",
            "  (fc1): Linear(in_features=1024, out_features=20, bias=True)\n",
            "  (fc2): Linear(in_features=20, out_features=10, bias=True)\n",
            ") \n",
            " ACC:  0.26865600000000006 \n",
            "\n",
            "MLP(\n",
            "  (fc1): Linear(in_features=1024, out_features=20, bias=True)\n",
            "  (fc2): Linear(in_features=20, out_features=10, bias=True)\n",
            "  (activation_function): Sigmoid()\n",
            ") \n",
            " ACC:  0.239296 \n",
            "\n"
          ],
          "name": "stdout"
        },
        {
          "output_type": "display_data",
          "data": {
            "image/png": "[encoded data removed]",
            "text/plain": [
              "<Figure size 432x288 with 1 Axes>"
            ]
          },
          "metadata": {
            "tags": []
          }
        }
      ]
    }
  ]
}