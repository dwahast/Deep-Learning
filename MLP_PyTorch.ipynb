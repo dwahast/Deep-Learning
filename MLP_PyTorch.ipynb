{
  "nbformat": 4,
  "nbformat_minor": 0,
  "metadata": {
    "colab": {
      "name": "MLP PyTorch.ipynb",
      "version": "0.3.2",
      "provenance": [],
      "include_colab_link": true
    },
    "kernelspec": {
      "name": "python3",
      "display_name": "Python 3"
    },
    "accelerator": "GPU"
  },
  "cells": [
    {
      "cell_type": "markdown",
      "metadata": {
        "id": "view-in-github",
        "colab_type": "text"
      },
      "source": [
        "<a href=\"https://colab.research.google.com/github/dwahast/Deep-learning/blob/master/MLP_PyTorch.ipynb\" target=\"_parent\"><img src=\"https://colab.research.google.com/assets/colab-badge.svg\" alt=\"Open In Colab\"/></a>"
      ]
    },
    {
      "metadata": {
        "id": "T_RsmTkQ98Vz",
        "colab_type": "text"
      },
      "cell_type": "markdown",
      "source": [
        "# Objetivos deste trabalho\n",
        "- Familiarizar-se com a biblioteca PyTorch\n",
        "- Definir arquiteturas MLP simples em PyTorch\n",
        "- Treinar utilizando CIFAR10, testando diferentes arquiteturas, parâmetros, funções de loss e otimizadores\n",
        "- Comparar os resultados obtidos utilizando apenas Perpceptrons\n",
        "- Link útil (https://towardsdatascience.com/cifar-10-image-classification-in-tensorflow-5b501f7dc77c)"
      ]
    },
    {
      "metadata": {
        "id": "qUwhuYBi98V2",
        "colab_type": "code",
        "colab": {}
      },
      "cell_type": "code",
      "source": [
        "%matplotlib inline\n",
        "\n",
        "import numpy as np \n",
        "import matplotlib.pyplot as plt\n",
        "\n",
        "import torch\n",
        "import torch.nn as nn\n",
        "from torch.utils.data import DataLoader\n",
        "\n",
        "import torchvision\n",
        "import torchvision.transforms as transforms\n",
        "\n",
        "import torch.nn.functional as F # softmax\n",
        "\n",
        "#import pandas as pd # organize files \n"
      ],
      "execution_count": 0,
      "outputs": []
    },
    {
      "metadata": {
        "id": "LU2fLgnR98WA",
        "colab_type": "code",
        "outputId": "392c23a8-b833-4a02-aeb7-1a530833b8e2",
        "colab": {
          "base_uri": "https://localhost:8080/",
          "height": 51
        }
      },
      "cell_type": "code",
      "source": [
        "# Carregar os datasets\n",
        "\n",
        "transform=transforms.Compose([\n",
        "    transforms.Grayscale(num_output_channels=1),\n",
        "    transforms.ToTensor()\n",
        "])\n",
        "\n",
        "dataset_train = torchvision.datasets.CIFAR10(root='./data', train=True,\n",
        "                                        download=True, transform=transform)\n",
        "\n",
        "dataset_test = torchvision.datasets.CIFAR10(root='./data', train=False,\n",
        "                                        download=True, transform=transform)"
      ],
      "execution_count": 0,
      "outputs": [
        {
          "output_type": "stream",
          "text": [
            "\r0it [00:00, ?it/s]"
          ],
          "name": "stderr"
        },
        {
          "output_type": "stream",
          "text": [
            "Downloading https://www.cs.toronto.edu/~kriz/cifar-10-python.tar.gz to ./data/cifar-10-python.tar.gz\n"
          ],
          "name": "stdout"
        },
        {
          "output_type": "stream",
          "text": [
            "100%|█████████▉| 169910272/170498071 [00:30<00:00, 10638667.43it/s]"
          ],
          "name": "stderr"
        },
        {
          "output_type": "stream",
          "text": [
            "Files already downloaded and verified\n"
          ],
          "name": "stdout"
        }
      ]
    },
    {
      "metadata": {
        "id": "A-o4YkPr98WI",
        "colab_type": "code",
        "outputId": "f57d08d7-f3bb-47a1-89c7-479a8c2a76c9",
        "colab": {
          "base_uri": "https://localhost:8080/",
          "height": 34
        }
      },
      "cell_type": "code",
      "source": [
        "train_loader = DataLoader(dataset=dataset_train, shuffle=True)\n",
        "test_loader = DataLoader(dataset=dataset_test, shuffle=False)\n",
        "print(len(test_loader))"
      ],
      "execution_count": 0,
      "outputs": [
        {
          "output_type": "stream",
          "text": [
            "10000\n"
          ],
          "name": "stdout"
        }
      ]
    },
    {
      "metadata": {
        "id": "L36yfjGr98WO",
        "colab_type": "code",
        "colab": {}
      },
      "cell_type": "code",
      "source": [
        "# Definir a arquitetura MLP\n",
        "\n",
        "class MLP(nn.Module):\n",
        "    def __init__(self):\n",
        "        super(MLP, self).__init__()\n",
        "        self.fc1 = nn.Linear(32*32, 20)\n",
        "        self.fc2 = nn.Linear(20, 10)\n",
        "        self.activation_function = nn.Sigmoid()\n",
        "    def forward(self, x):\n",
        "        x = x.view(-1, 32*32)\n",
        "        x = self.activation_function(self.fc1(x))\n",
        "        x = self.activation_function(self.fc2(x))\n",
        "        return x\n",
        "# Arquitecture with RELU      \n",
        "class MLP_relu(nn.Module):\n",
        "    def __init__(self):\n",
        "        super(MLP_relu, self).__init__()\n",
        "        self.fc1 = nn.Linear(32*32, 20)\n",
        "        self.fc2 = nn.Linear(20, 10)\n",
        "    def forward(self, x):\n",
        "        x = x.view(-1, 32*32)\n",
        "        x = F.relu(self.fc1(x))\n",
        "        x = F.log_softmax(self.fc2(x),dim =1)\n",
        "        return x\n",
        "      \n",
        "# New Arquitecture with RELU   \n",
        "class MLP_Srelu(nn.Module):\n",
        "    def __init__(self):\n",
        "        super(MLP_Srelu, self).__init__()\n",
        "        self.fc1 = nn.Linear(32*32, 256)\n",
        "        self.fc2 = nn.Linear(256, 128)\n",
        "        self.fc3 = nn.Linear(128, 32)\n",
        "        self.fc4 = nn.Linear(32, 10)\n",
        "    def forward(self, x):\n",
        "        x = x.view(-1, 32*32)\n",
        "        x = F.relu(self.fc1(x))\n",
        "        x = F.relu(self.fc2(x))\n",
        "        x = F.relu(self.fc3(x))\n",
        "        x = F.log_softmax(self.fc4(x),dim =1)\n",
        "        return x   \n"
      ],
      "execution_count": 0,
      "outputs": []
    },
    {
      "metadata": {
        "id": "7DSF3ZnQ98WT",
        "colab_type": "code",
        "colab": {}
      },
      "cell_type": "code",
      "source": [
        "model_std = MLP()\n",
        "model_relu = MLP_relu()\n",
        "model_Srelu = MLP_Srelu()\n",
        "#print(model)"
      ],
      "execution_count": 0,
      "outputs": []
    },
    {
      "metadata": {
        "id": "Rh1fBZcW98WZ",
        "colab_type": "code",
        "colab": {}
      },
      "cell_type": "code",
      "source": [
        "# Definir otimizador e loss\n",
        "# Nota: testar outros otimizadores e funções de loss (em particular cross entropy)\n",
        "\n",
        "def optimizer_set(model,optimizer_method, learning_rate):\n",
        "  if optimizer_method == \"sgd\":\n",
        "    optimizer = torch.optim.SGD(model.parameters(), lr = learning_rate)\n",
        "  elif optimizer_method == \"adadelta\":\n",
        "    optimizer = torch.optim.Adadelta(model.parameters(), lr = learning_rate)\n",
        "  elif optimizer_method == \"adagrad\":\n",
        "    optimizer = torch.optim.Adagrad(model.parameters(), lr = learning_rate)\n",
        "  elif optimizer_method == \"adamax\":\n",
        "    optimizer = torch.optim.Adamax(model.parameters(), lr = learning_rate)\n",
        "  elif optimizer_method == \"rms\":\n",
        "    optimizer = torch.optim.RMSprop(model.parameters(), lr = learning_rate)\n",
        "  return optimizer\n",
        "\n",
        "def loss_function_set(loss_function):\n",
        "  if loss_function == \"mse\":\n",
        "    loss_fn = torch.nn.MSELoss()\n",
        "  elif loss_function == \"nllos\":\n",
        "     loss_fn = torch.nn.NLLoss()\n",
        "  elif loss_function == \"cross\":\n",
        "     loss_fn = torch.nn.CrossEntropyLoss()\n",
        "  return loss_fn\n",
        "  "
      ],
      "execution_count": 0,
      "outputs": []
    },
    {
      "metadata": {
        "id": "ZG-R1kCQEweC",
        "colab_type": "code",
        "colab": {}
      },
      "cell_type": "code",
      "source": [
        "def one_hot(label, output_size):\n",
        "    \n",
        "    label_select = np.zeros(output_size)\n",
        "    label_select[label]=1\n",
        "    \n",
        "    return torch.Tensor(label_select)"
      ],
      "execution_count": 0,
      "outputs": []
    },
    {
      "metadata": {
        "colab_type": "code",
        "id": "p87aRLgR2pPo",
        "colab": {}
      },
      "cell_type": "code",
      "source": [
        "def evaluate(model, loss_function, dataset):\n",
        "  model.eval() # set model to Evaluate \"mode\"\n",
        " # losses = []\n",
        "  corrects = 0\n",
        "  current_total = 0\n",
        "  accuracies = 0\n",
        "  \n",
        " # loss_fn = loss_function_set(loss_function)\n",
        "  \n",
        "  for image, label in dataset:\n",
        "    outputs = model(image)\n",
        "    \n",
        "   # if(loss_function == 'mse'):\n",
        "   #   label_target = one_hot(label,10) # one_hot to set the training class in the escalar\n",
        "   #   loss = loss_fn(outputs,label_target)\n",
        "   # else:\n",
        "   #   loss = loss_fn(outputs,label)\n",
        "      \n",
        "   # losses.append(loss.item())\n",
        "    \n",
        "    _, predicted = torch.max(outputs.data, 1)\n",
        "    \n",
        "    if(predicted==label):\n",
        "      corrects += 1\n",
        "    \n",
        "    current_total += 1\n",
        "  \n",
        "  accuracy = corrects/current_total\n",
        "\n",
        "  return accuracy #, np.mean(losses)\n",
        "      "
      ],
      "execution_count": 0,
      "outputs": []
    },
    {
      "metadata": {
        "id": "rFVQOHzayfj6",
        "colab_type": "text"
      },
      "cell_type": "markdown",
      "source": [
        "#Training function"
      ]
    },
    {
      "metadata": {
        "id": "MELtsUbB98Wf",
        "colab_type": "code",
        "colab": {}
      },
      "cell_type": "code",
      "source": [
        "# Realizar o treinamento aqui\n",
        "def fit(model, epochs, optimizer_method, loss_function, learning_rate):\n",
        "  \n",
        "  print(\"Opt Method:\", optimizer_method.upper(), \"| Loss Function:\", loss_function.upper(), \"| Learning Rate:\", learning_rate)\n",
        "  optimizer = optimizer_set(model,optimizer_method, learning_rate) #optimizer and Learning rate setter\n",
        "  loss_fn = loss_function_set(loss_function) \n",
        "  accuracies = []\n",
        "  losses = []\n",
        "  train_acc = []\n",
        "  for epoch in range(epochs):\n",
        "    model.train() # Set model to TRAIN \"mode\" (can be set to False for Test)\n",
        "    epoch_losses = []\n",
        "    for image,label in train_loader:\n",
        "      optimizer.zero_grad()  # cleaning gradients between mini batches\n",
        "      outputs = model(image) \n",
        "     \n",
        "      if(loss_function == 'mse'):\n",
        "        label_target = one_hot(label,10) # one_hot to set the training class in the escalar\n",
        "        loss = loss_fn(outputs,label_target)\n",
        "      else: \n",
        "        loss = loss_fn(outputs, label)\n",
        "        \n",
        "      loss.backward() # Backpropagation \n",
        "      optimizer.step() # Optimization Method\n",
        "      \n",
        "      epoch_losses.append(loss.item())\n",
        "\n",
        "    losses.append(np.mean(epoch_losses)) # Append mean losses for each epoch\n",
        "   \n",
        "    \n",
        "    acc = evaluate(model, loss_function, train_loader)\n",
        "    train_acc.append(acc)\n",
        "    acc = evaluate(model, loss_function, test_loader) #evaluate\n",
        "    accuracies.append(acc)\n",
        "    \n",
        "    #if(epoch%10==0):\n",
        "    print(\"Epoch:\",epoch, \"- Average loss:\", np.mean(epoch_losses),\"- Accuracy:\", acc) # Print mean Loss for each epoch\n",
        " \n",
        "  return {\n",
        "      \"Model\": outputs,\n",
        "      \"Acc\": accuracies,\n",
        "      \"Train Acc\": train_acc,\n",
        "      \"Loss\": losses,\n",
        "      \"Name\": optimizer_method + \" | \" + loss_function + \" | \" + str(learning_rate),\n",
        "      \"Arc\": model\n",
        "      #\"Evaluate Train Loss\": train_losses,\n",
        "      \n",
        "  }"
      ],
      "execution_count": 0,
      "outputs": []
    },
    {
      "metadata": {
        "id": "cFeR8SBEw0ue",
        "colab_type": "text"
      },
      "cell_type": "markdown",
      "source": [
        "# Training Your Model\n",
        "- Variable \"trained_models\" append all models trained\n",
        "- function \"fit\" train and return the Model and the all variable that will be used latter\n",
        "  - *fit(Model, Epochs, Optimizer method, Loss function, Learning rate, momentum)*"
      ]
    },
    {
      "metadata": {
        "id": "6kAvty-S98Wk",
        "colab_type": "code",
        "outputId": "5724ba66-1c94-431d-99a5-5b245803244f",
        "colab": {
          "base_uri": "https://localhost:8080/",
          "height": 309
        }
      },
      "cell_type": "code",
      "source": [
        "# Avaliar o modelo aqui (no conjunto de teste)\n",
        "trained_models = []\n",
        "ep = 15 #epocas\n",
        "trained_models.append(fit(model_Srelu,ep,\"sgd\", \"cross\", 0.01))\n"
      ],
      "execution_count": 0,
      "outputs": [
        {
          "output_type": "stream",
          "text": [
            "Opt Method: SGD | Loss Function: CROSS | Learning Rate: 0.01\n"
          ],
          "name": "stdout"
        },
        {
          "output_type": "stream",
          "text": [
            "\r170500096it [00:50, 10638667.43it/s]                               "
          ],
          "name": "stderr"
        },
        {
          "output_type": "stream",
          "text": [
            "Epoch: 0 - Average loss: 2.0784283808950335 - Accuracy: 0.2934\n",
            "Epoch: 1 - Average loss: 1.960777882314194 - Accuracy: 0.3212\n",
            "Epoch: 2 - Average loss: 1.9145613556133116 - Accuracy: 0.2994\n",
            "Epoch: 3 - Average loss: 1.884536284412506 - Accuracy: 0.3159\n",
            "Epoch: 4 - Average loss: 1.8615422393570724 - Accuracy: 0.3254\n",
            "Epoch: 5 - Average loss: 1.8400372352328769 - Accuracy: 0.3128\n",
            "Epoch: 6 - Average loss: 1.825969719096942 - Accuracy: 0.36\n",
            "Epoch: 7 - Average loss: 1.8055871504671819 - Accuracy: 0.3282\n",
            "Epoch: 8 - Average loss: 1.7896194417047815 - Accuracy: 0.3394\n",
            "Epoch: 9 - Average loss: 1.7773657819861215 - Accuracy: 0.3478\n",
            "Epoch: 10 - Average loss: 1.7729876651601086 - Accuracy: 0.3531\n",
            "Epoch: 11 - Average loss: 1.7585717905694125 - Accuracy: 0.3616\n",
            "Epoch: 12 - Average loss: 1.7565515745698206 - Accuracy: 0.3661\n",
            "Epoch: 13 - Average loss: 1.7403368565046589 - Accuracy: 0.3586\n",
            "Epoch: 14 - Average loss: 1.735835617748654 - Accuracy: 0.3668\n"
          ],
          "name": "stdout"
        }
      ]
    },
    {
      "metadata": {
        "id": "v7s50jzco4K-",
        "colab_type": "code",
        "outputId": "7735f30d-822d-48c8-ccf6-e6fc9642a4f1",
        "colab": {
          "base_uri": "https://localhost:8080/",
          "height": 289
        }
      },
      "cell_type": "code",
      "source": [
        "trained_models.append(fit(model_relu,ep,\"sgd\", \"cross\", 0.01))"
      ],
      "execution_count": 11,
      "outputs": [
        {
          "output_type": "stream",
          "text": [
            "Opt Method: SGD | Loss Function: CROSS | Learning Rate: 0.01\n",
            "Epoch: 0 - Average loss: 2.176930358274989 - Accuracy: 0.1869\n",
            "Epoch: 1 - Average loss: 2.143415468234271 - Accuracy: 0.1926\n",
            "Epoch: 2 - Average loss: 2.1230499698368086 - Accuracy: 0.2316\n",
            "Epoch: 3 - Average loss: 2.1006028169123643 - Accuracy: 0.2132\n",
            "Epoch: 4 - Average loss: 2.0852851983035916 - Accuracy: 0.2435\n",
            "Epoch: 5 - Average loss: 2.0706762541624624 - Accuracy: 0.2486\n",
            "Epoch: 6 - Average loss: 2.0607662474479063 - Accuracy: 0.2327\n",
            "Epoch: 7 - Average loss: 2.049855690868823 - Accuracy: 0.2468\n",
            "Epoch: 8 - Average loss: 2.03566390202292 - Accuracy: 0.2426\n",
            "Epoch: 9 - Average loss: 2.0270039034514293 - Accuracy: 0.2479\n",
            "Epoch: 10 - Average loss: 2.0174357471588347 - Accuracy: 0.261\n",
            "Epoch: 11 - Average loss: 2.012131307207397 - Accuracy: 0.2692\n",
            "Epoch: 12 - Average loss: 2.009805220571369 - Accuracy: 0.2756\n",
            "Epoch: 13 - Average loss: 2.0042812974709845 - Accuracy: 0.2311\n",
            "Epoch: 14 - Average loss: 2.00168069197615 - Accuracy: 0.2543\n"
          ],
          "name": "stdout"
        }
      ]
    },
    {
      "metadata": {
        "id": "l9qX0-UwOR9K",
        "colab_type": "code",
        "colab": {
          "base_uri": "https://localhost:8080/",
          "height": 289
        },
        "outputId": "5fa474a0-aee2-44b2-e7eb-9023bb855ac5"
      },
      "cell_type": "code",
      "source": [
        "trained_models.append(fit(model_std,ep,\"sgd\", \"cross\", 0.01))"
      ],
      "execution_count": 12,
      "outputs": [
        {
          "output_type": "stream",
          "text": [
            "Opt Method: SGD | Loss Function: CROSS | Learning Rate: 0.01\n",
            "Epoch: 0 - Average loss: 2.2174378641796113 - Accuracy: 0.2455\n",
            "Epoch: 1 - Average loss: 2.1501621321797373 - Accuracy: 0.2604\n",
            "Epoch: 2 - Average loss: 2.127378500041962 - Accuracy: 0.2715\n",
            "Epoch: 3 - Average loss: 2.114199147174358 - Accuracy: 0.2812\n",
            "Epoch: 4 - Average loss: 2.1028377521800996 - Accuracy: 0.2801\n",
            "Epoch: 5 - Average loss: 2.0926656264448167 - Accuracy: 0.2957\n",
            "Epoch: 6 - Average loss: 2.083765948085785 - Accuracy: 0.3102\n",
            "Epoch: 7 - Average loss: 2.075050434126854 - Accuracy: 0.3044\n",
            "Epoch: 8 - Average loss: 2.067800013849735 - Accuracy: 0.3149\n",
            "Epoch: 9 - Average loss: 2.0612232571363447 - Accuracy: 0.3074\n",
            "Epoch: 10 - Average loss: 2.0558036031270026 - Accuracy: 0.3141\n",
            "Epoch: 11 - Average loss: 2.0501651181674005 - Accuracy: 0.3255\n",
            "Epoch: 12 - Average loss: 2.045978261492252 - Accuracy: 0.3257\n",
            "Epoch: 13 - Average loss: 2.0414072931838034 - Accuracy: 0.3233\n",
            "Epoch: 14 - Average loss: 2.037806482760906 - Accuracy: 0.3251\n"
          ],
          "name": "stdout"
        }
      ]
    },
    {
      "metadata": {
        "id": "NEYr1-Z1wlq-",
        "colab_type": "text"
      },
      "cell_type": "markdown",
      "source": [
        "# Text and Graphical Output"
      ]
    },
    {
      "metadata": {
        "id": "qD3jggrzfXa9",
        "colab_type": "code",
        "colab": {
          "base_uri": "https://localhost:8080/",
          "height": 682
        },
        "outputId": "d3eccf27-33dd-454b-9c1b-656d0f3ce9a8"
      },
      "cell_type": "code",
      "source": [
        "plt.title(\"\\nAccuracy\", fontsize=20, loc=\"left\")\n",
        "plt.title(\"dotted line = train\")\n",
        "for models in trained_models:\n",
        "  plt.plot(models[\"Acc\"], label=models[\"Name\"])\n",
        "  plt.plot(models[\"Train Acc\"],\"--\") \n",
        "  print(models[\"Arc\"],\"\\n\",models[\"Name\"], \"| ACC: \", np.mean(models[\"Acc\"]),\"\\n\")\n",
        "\n",
        "plt.legend(loc='best')\n",
        "plt.show\n"
      ],
      "execution_count": 15,
      "outputs": [
        {
          "output_type": "stream",
          "text": [
            "MLP_Srelu(\n",
            "  (fc1): Linear(in_features=1024, out_features=256, bias=True)\n",
            "  (fc2): Linear(in_features=256, out_features=128, bias=True)\n",
            "  (fc3): Linear(in_features=128, out_features=32, bias=True)\n",
            "  (fc4): Linear(in_features=32, out_features=10, bias=True)\n",
            ") \n",
            " sgd | cross | 0.01 | ACC:  0.33664666666666665 \n",
            "\n",
            "MLP_relu(\n",
            "  (fc1): Linear(in_features=1024, out_features=20, bias=True)\n",
            "  (fc2): Linear(in_features=20, out_features=10, bias=True)\n",
            ") \n",
            " sgd | cross | 0.01 | ACC:  0.2385066666666667 \n",
            "\n",
            "MLP(\n",
            "  (fc1): Linear(in_features=1024, out_features=20, bias=True)\n",
            "  (fc2): Linear(in_features=20, out_features=10, bias=True)\n",
            "  (activation_function): Sigmoid()\n",
            ") \n",
            " sgd | cross | 0.01 | ACC:  0.299 \n",
            "\n"
          ],
          "name": "stdout"
        },
        {
          "output_type": "execute_result",
          "data": {
            "text/plain": [
              "<function matplotlib.pyplot.show>"
            ]
          },
          "metadata": {
            "tags": []
          },
          "execution_count": 15
        },
        {
          "output_type": "display_data",
          "data": {
            "image/png": "[encoded data removed]",
            "text/plain": [
              "<Figure size 432x288 with 1 Axes>"
            ]
          },
          "metadata": {
            "tags": []
          }
        }
      ]
    }
  ]
}