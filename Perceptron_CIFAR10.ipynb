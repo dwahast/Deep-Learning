{
  "nbformat": 4,
  "nbformat_minor": 0,
  "metadata": {
    "colab": {
      "name": "tarefa1-RNP.ipynb",
      "version": "0.3.2",
      "provenance": []
    },
    "kernelspec": {
      "display_name": "Python 3",
      "language": "python",
      "name": "python3"
    },
    "accelerator": "TPU"
  },
  "cells": [
    {
      "metadata": {
        "colab_type": "text",
        "id": "2AjOq8sf4ILq"
      },
      "cell_type": "markdown",
      "source": [
        "# Objetivos deste trabalho:\n",
        "- Se familiarizar com o ambiente Notebook e com Python\n",
        "- Implementar um perceptron simples, treiná-lo no conjunto de TREINO do CIFAR-10 e avaliá-lo no conjunto de TESTE (alvo: distinguir fotos de animais de meios de transporte)\n",
        "- Utilizar a função sigmóide e verificar seu efeito no treinamento e na avaliação\n",
        "- Modificar a metodologia para classificar cada classe individualmente (i.e. treinar 10 perceptrons, um para cada classe). Considerar: dado um exemplo, que passará por cada perceptron, como decidir qual é a classe dele?"
      ]
    },
    {
      "metadata": {
        "colab_type": "code",
        "id": "nNGtiLyP4ILt",
        "outputId": "6eb5291d-6c9f-4779-98d3-04706cb89c4f",
        "colab": {
          "base_uri": "https://localhost:8080/",
          "height": 34
        }
      },
      "cell_type": "code",
      "source": [
        "from __future__ import division\n",
        "\n",
        "%matplotlib inline\n",
        "\n",
        "import torch\n",
        "import torchvision\n",
        "import numpy as np\n",
        "\n",
        "np.seterr(all='raise')"
      ],
      "execution_count": 1,
      "outputs": [
        {
          "output_type": "execute_result",
          "data": {
            "text/plain": [
              "{'divide': 'warn', 'invalid': 'warn', 'over': 'warn', 'under': 'ignore'}"
            ]
          },
          "metadata": {
            "tags": []
          },
          "execution_count": 1
        }
      ]
    },
    {
      "metadata": {
        "colab_type": "code",
        "id": "iT7Q3ZFu4IMC",
        "outputId": "0848940f-c58d-4fa6-e657-6b138adbc021",
        "colab": {
          "base_uri": "https://localhost:8080/",
          "height": 68
        }
      },
      "cell_type": "code",
      "source": [
        "# Carregar os datasets\n",
        "\n",
        "dataset_train = torchvision.datasets.CIFAR10(root='./data', train=True,\n",
        "                                        download=True)\n",
        "\n",
        "dataset_test = torchvision.datasets.CIFAR10(root='./data', train=False,\n",
        "                                        download=True)"
      ],
      "execution_count": 2,
      "outputs": [
        {
          "output_type": "stream",
          "text": [
            "\r0it [00:00, ?it/s]"
          ],
          "name": "stderr"
        },
        {
          "output_type": "stream",
          "text": [
            "Downloading https://www.cs.toronto.edu/~kriz/cifar-10-python.tar.gz to ./data/cifar-10-python.tar.gz\n"
          ],
          "name": "stdout"
        },
        {
          "output_type": "stream",
          "text": [
            "170500096it [00:09, 17839593.87it/s]                               \n"
          ],
          "name": "stderr"
        },
        {
          "output_type": "stream",
          "text": [
            "Files already downloaded and verified\n"
          ],
          "name": "stdout"
        }
      ]
    },
    {
      "metadata": {
        "colab_type": "code",
        "id": "9I0XxbTV4IMM",
        "colab": {}
      },
      "cell_type": "code",
      "source": [
        "classes = ('plane', 'car', 'bird', 'cat',\n",
        "           'deer', 'dog', 'frog', 'horse', 'ship', 'truck')"
      ],
      "execution_count": 0,
      "outputs": []
    },
    {
      "metadata": {
        "colab_type": "code",
        "id": "Y2dICeBR4IMW",
        "outputId": "5fb13c53-6c35-4664-ec53-b836b93128ce",
        "colab": {
          "base_uri": "https://localhost:8080/",
          "height": 34
        }
      },
      "cell_type": "code",
      "source": [
        "print(len(dataset_train), len(dataset_test))"
      ],
      "execution_count": 4,
      "outputs": [
        {
          "output_type": "stream",
          "text": [
            "50000 10000\n"
          ],
          "name": "stdout"
        }
      ]
    },
    {
      "metadata": {
        "colab_type": "code",
        "id": "Yx5nCbt_4IMo",
        "colab": {}
      },
      "cell_type": "code",
      "source": [
        "# Converter para tons de cinza\n",
        "\n",
        "# Treino\n",
        "grayscale_dataset_train = []\n",
        "for img,label in dataset_train:\n",
        "    category = classes[label]\n",
        "    gray_npimg = np.array(img.convert('L'))\n",
        "    grayscale_dataset_train.append((gray_npimg,category))\n",
        "    \n",
        "# Teste\n",
        "grayscale_dataset_test = []\n",
        "for img,label in dataset_test:\n",
        "    category = classes[label]\n",
        "    gray_npimg = np.array(img.convert('L'))\n",
        "    grayscale_dataset_test.append((gray_npimg,category))    "
      ],
      "execution_count": 0,
      "outputs": []
    },
    {
      "metadata": {
        "colab_type": "code",
        "id": "La8wfFCP4IMy",
        "outputId": "60c9bdb3-9313-4f82-d1f8-2b1c60e300dc",
        "colab": {
          "base_uri": "https://localhost:8080/",
          "height": 280
        }
      },
      "cell_type": "code",
      "source": [
        "# Mostrar uma imagem\n",
        "\n",
        "import matplotlib.pyplot as plt\n",
        "import numpy as np\n",
        "\n",
        "image_index = 1\n",
        "label = grayscale_dataset_train[image_index][1]\n",
        "npimg = grayscale_dataset_train[image_index][0]\n",
        "\n",
        "plt.imshow(npimg, cmap='gray')\n",
        "plt.title(label)\n",
        "plt.show()"
      ],
      "execution_count": 6,
      "outputs": [
        {
          "output_type": "display_data",
          "data": {
            "image/png": "[encoded data removed]",
            "text/plain": [
              "<Figure size 432x288 with 1 Axes>"
            ]
          },
          "metadata": {
            "tags": []
          }
        }
      ]
    },
    {
      "metadata": {
        "colab_type": "code",
        "id": "qIH065fo4INJ",
        "colab": {}
      },
      "cell_type": "code",
      "source": [
        "# Converter para vetores 1D\n",
        "\n",
        "# Para pensar: por que a divisão por 255 no código abaixo?\n",
        "\n",
        "# A divisão por 255 (maior valor possível que cada pixel em tom de cinza alcança)\n",
        "# ocorre para \"normalizar os valores\". Valores muito altos poderiam causar problemas\n",
        "# à rede, ou até erros de overflow  nas iterações iniciais, além de exigir que os pesos\n",
        "# dos perceptrons sejam extremamente precisos em pequena escala, podendo impedir a\n",
        "# melhoria do modelo por falta de capacidade de representação\n",
        "\n",
        "linear_dataset_train = []\n",
        "target_labels = ('plane', 'car', 'ship', 'truck')\n",
        "for img,category in grayscale_dataset_train:\n",
        "    linear_img = img.reshape(img.shape[0]*img.shape[1],1) / 255\n",
        "    if category in target_labels:\n",
        "        label = 1\n",
        "    else:\n",
        "        label = 0\n",
        "    linear_dataset_train.append((linear_img,label))\n",
        "    \n",
        "linear_dataset_test = []\n",
        "target_labels = ('plane', 'car', 'ship', 'truck')\n",
        "for img,category in grayscale_dataset_test:\n",
        "    linear_img = img.reshape(img.shape[0]*img.shape[1],1) / 255\n",
        "    if category in target_labels:\n",
        "        label = 1\n",
        "    else:\n",
        "        label = 0\n",
        "    linear_dataset_test.append((linear_img,label))   \n",
        "    \n"
      ],
      "execution_count": 0,
      "outputs": []
    },
    {
      "metadata": {
        "colab_type": "code",
        "id": "AyJEBdQ44INV",
        "outputId": "562c9b78-8f5e-4c47-c8aa-863fc647b39e",
        "colab": {
          "base_uri": "https://localhost:8080/",
          "height": 34
        }
      },
      "cell_type": "code",
      "source": [
        "size = len(linear_dataset_train[0][0])\n",
        "print(size)"
      ],
      "execution_count": 8,
      "outputs": [
        {
          "output_type": "stream",
          "text": [
            "1024\n"
          ],
          "name": "stdout"
        }
      ]
    },
    {
      "metadata": {
        "colab_type": "text",
        "id": "SkLjt5434IN4"
      },
      "cell_type": "markdown",
      "source": [
        "# Definindo o perceptron"
      ]
    },
    {
      "metadata": {
        "colab_type": "code",
        "id": "gb2k2kzg4IN8",
        "colab": {}
      },
      "cell_type": "code",
      "source": [
        "def sigmoid(x):\n",
        "    return 1/(1+np.exp(-x))\n",
        "\n",
        "def perceptron(inputs, weights):\n",
        "    o = inputs.dot(weights)\n",
        "    return o"
      ],
      "execution_count": 0,
      "outputs": []
    },
    {
      "metadata": {
        "colab_type": "text",
        "id": "kTBQ1QZs4IOL"
      },
      "cell_type": "markdown",
      "source": [
        "# Treinando o perceptron"
      ]
    },
    {
      "metadata": {
        "colab_type": "code",
        "id": "-YL9f5fP4IOO",
        "colab": {}
      },
      "cell_type": "code",
      "source": [
        "def sigmoid_dx(x):\n",
        "    y = sigmoid(x)\n",
        "    return y*(1-y)\n",
        "\n",
        "def Quantizer(x, threshold=0.5):\n",
        "    if x > threshold:\n",
        "        return 1\n",
        "    return 0\n",
        "  \n",
        "def err(target, pred):\n",
        "    return target - pred\n",
        "\n",
        "def evaluate(weights, dataset):\n",
        "    # Defina a métrica de avaliação do perceptron aqui (e.g. acurácia)\n",
        "    mse,tp,tn,fp,fn = 0,0,0,0,0\n",
        "    for img,label in dataset:\n",
        "        inputs = np.append(img, [1])\n",
        "        o = perceptron(inputs, weights)\n",
        "        y = sigmoid(o)\n",
        "        \n",
        "        mse += (label-y)**2\n",
        "        result = Quantizer(y)\n",
        "       \n",
        "        if result == 1:\n",
        "            if label == 1: tp+=1\n",
        "            else: fp+=1\n",
        "        else: \n",
        "            if label == 1: fn+=1\n",
        "            else: tn+=1        \n",
        "\n",
        "    return {\n",
        "        \"Accuracy\": (tp+tn)/len(dataset),\n",
        "        \"Sensibility\": tp/(tp+fn),\n",
        "        \"Specifics\": tn/(tn+fp),\n",
        "        \"MSE\": mse/len(dataset)\n",
        "    }"
      ],
      "execution_count": 0,
      "outputs": []
    },
    {
      "metadata": {
        "colab_type": "code",
        "id": "0mDcab0s4IOk",
        "outputId": "32e55c5f-25ed-4afd-d303-7ba04c7eff6a",
        "scrolled": true,
        "colab": {
          "base_uri": "https://localhost:8080/",
          "height": 1734
        }
      },
      "cell_type": "code",
      "source": [
        "# Inicialização\n",
        "weights = (np.random.rand(1,size) - 0.5)[0]\n",
        "bias = (np.random.rand(1) - 0.5) \n",
        "weights = np.append(weights, bias) \n",
        "\n",
        "neta = 0.0015\n",
        "\n",
        "np.random.shuffle(linear_dataset_train)\n",
        "\n",
        "# Implemente o treino aqui (para separar as duas classes definidas)\n",
        "\n",
        "accuracies = []\n",
        "\n",
        "for epoch in range(100):  \n",
        "    for img, label in linear_dataset_train:\n",
        "        inputs = np.append(img, [1])\n",
        "        o = perceptron(inputs, weights)\n",
        "        y = sigmoid(o)\n",
        "        loss = neta * inputs * err(label, y) * sigmoid_dx(o)\n",
        "        weights += loss\n",
        "        \n",
        "    results = evaluate(weights, linear_dataset_train)\n",
        "    accuracies.append(results[\"Accuracy\"])\n",
        "    print(\"Epoch \", epoch, \": \", results[\"Accuracy\"])\n",
        "    \n",
        "print(\"Binary Training: \", results)\n",
        "    "
      ],
      "execution_count": 11,
      "outputs": [
        {
          "output_type": "stream",
          "text": [
            "Epoch  0 :  0.6874\n",
            "Epoch  1 :  0.69742\n",
            "Epoch  2 :  0.70306\n",
            "Epoch  3 :  0.707\n",
            "Epoch  4 :  0.70896\n",
            "Epoch  5 :  0.71208\n",
            "Epoch  6 :  0.71396\n",
            "Epoch  7 :  0.71562\n",
            "Epoch  8 :  0.71668\n",
            "Epoch  9 :  0.71792\n",
            "Epoch  10 :  0.71862\n",
            "Epoch  11 :  0.71932\n",
            "Epoch  12 :  0.71996\n",
            "Epoch  13 :  0.72024\n",
            "Epoch  14 :  0.72048\n",
            "Epoch  15 :  0.72106\n",
            "Epoch  16 :  0.7221\n",
            "Epoch  17 :  0.72228\n",
            "Epoch  18 :  0.72234\n",
            "Epoch  19 :  0.7232\n",
            "Epoch  20 :  0.72364\n",
            "Epoch  21 :  0.72376\n",
            "Epoch  22 :  0.72404\n",
            "Epoch  23 :  0.72466\n",
            "Epoch  24 :  0.72502\n",
            "Epoch  25 :  0.72556\n",
            "Epoch  26 :  0.72588\n",
            "Epoch  27 :  0.72634\n",
            "Epoch  28 :  0.7264\n",
            "Epoch  29 :  0.72652\n",
            "Epoch  30 :  0.7271\n",
            "Epoch  31 :  0.7272\n",
            "Epoch  32 :  0.72736\n",
            "Epoch  33 :  0.72742\n",
            "Epoch  34 :  0.72776\n",
            "Epoch  35 :  0.728\n",
            "Epoch  36 :  0.7283\n",
            "Epoch  37 :  0.72846\n",
            "Epoch  38 :  0.72868\n",
            "Epoch  39 :  0.72866\n",
            "Epoch  40 :  0.7286\n",
            "Epoch  41 :  0.7289\n",
            "Epoch  42 :  0.729\n",
            "Epoch  43 :  0.72914\n",
            "Epoch  44 :  0.72932\n",
            "Epoch  45 :  0.72948\n",
            "Epoch  46 :  0.72968\n",
            "Epoch  47 :  0.72966\n",
            "Epoch  48 :  0.72974\n",
            "Epoch  49 :  0.72994\n",
            "Epoch  50 :  0.73024\n",
            "Epoch  51 :  0.73042\n",
            "Epoch  52 :  0.73036\n",
            "Epoch  53 :  0.73044\n",
            "Epoch  54 :  0.73034\n",
            "Epoch  55 :  0.73042\n",
            "Epoch  56 :  0.73042\n",
            "Epoch  57 :  0.73038\n",
            "Epoch  58 :  0.7303\n",
            "Epoch  59 :  0.73036\n",
            "Epoch  60 :  0.7303\n",
            "Epoch  61 :  0.73012\n",
            "Epoch  62 :  0.73028\n",
            "Epoch  63 :  0.73042\n",
            "Epoch  64 :  0.7304\n",
            "Epoch  65 :  0.73038\n",
            "Epoch  66 :  0.73046\n",
            "Epoch  67 :  0.73056\n",
            "Epoch  68 :  0.73064\n",
            "Epoch  69 :  0.73068\n",
            "Epoch  70 :  0.7307\n",
            "Epoch  71 :  0.7306\n",
            "Epoch  72 :  0.7306\n",
            "Epoch  73 :  0.7307\n",
            "Epoch  74 :  0.73078\n",
            "Epoch  75 :  0.73072\n",
            "Epoch  76 :  0.73068\n",
            "Epoch  77 :  0.73092\n",
            "Epoch  78 :  0.73096\n",
            "Epoch  79 :  0.73106\n",
            "Epoch  80 :  0.73112\n",
            "Epoch  81 :  0.73116\n",
            "Epoch  82 :  0.73118\n",
            "Epoch  83 :  0.73124\n",
            "Epoch  84 :  0.73106\n",
            "Epoch  85 :  0.73118\n",
            "Epoch  86 :  0.73128\n",
            "Epoch  87 :  0.73134\n",
            "Epoch  88 :  0.73148\n",
            "Epoch  89 :  0.7315\n",
            "Epoch  90 :  0.7315\n",
            "Epoch  91 :  0.73144\n",
            "Epoch  92 :  0.73138\n",
            "Epoch  93 :  0.7313\n",
            "Epoch  94 :  0.73144\n",
            "Epoch  95 :  0.73138\n",
            "Epoch  96 :  0.73154\n",
            "Epoch  97 :  0.73158\n",
            "Epoch  98 :  0.73156\n",
            "Epoch  99 :  0.73168\n",
            "Binary Training:  {'Accuracy': 0.73168, 'Sensibility': 0.60795, 'Specifics': 0.8141666666666667, 'MSE': 0.1851628588548583}\n"
          ],
          "name": "stdout"
        }
      ]
    },
    {
      "metadata": {
        "colab_type": "code",
        "id": "J5I2ThHc4IO7",
        "outputId": "02874bf1-ccfd-4610-d01d-f4f7c7d607ae",
        "colab": {
          "base_uri": "https://localhost:8080/",
          "height": 51
        }
      },
      "cell_type": "code",
      "source": [
        "# Avalie o modelo treinado aqui\n",
        "# Como a acurácia no conjunto de teste se compara com a acurácia obtida no conjunto de treino?\n",
        "train_results = evaluate(weights, linear_dataset_train)\n",
        "print(\"Train Data Accuracy\", train_results)\n",
        "test_results = evaluate(weights, linear_dataset_test)\n",
        "print(\"Test Data Accuracy\", test_results)"
      ],
      "execution_count": 12,
      "outputs": [
        {
          "output_type": "stream",
          "text": [
            "Train Data Accuracy {'Accuracy': 0.73168, 'Sensibility': 0.60795, 'Specifics': 0.8141666666666667, 'MSE': 0.1851628588548583}\n",
            "Test Data Accuracy {'Accuracy': 0.7243, 'Sensibility': 0.603, 'Specifics': 0.8051666666666667, 'MSE': 0.19132895556922502}\n"
          ],
          "name": "stdout"
        }
      ]
    },
    {
      "metadata": {
        "colab_type": "code",
        "id": "Q15oL-Rf4IPP",
        "outputId": "e396c90d-d4a4-4161-f695-c46cec32fd97",
        "colab": {
          "base_uri": "https://localhost:8080/",
          "height": 282
        }
      },
      "cell_type": "code",
      "source": [
        "# Caso queiram plotar alguma coisa\n",
        "\n",
        "import matplotlib.pyplot as plt\n",
        "\n",
        "plt.plot(accuracies)"
      ],
      "execution_count": 13,
      "outputs": [
        {
          "output_type": "execute_result",
          "data": {
            "text/plain": [
              "[<matplotlib.lines.Line2D at 0x7f44eeab6c50>]"
            ]
          },
          "metadata": {
            "tags": []
          },
          "execution_count": 13
        },
        {
          "output_type": "display_data",
          "data": {
            "image/png": "[encoded data removed]",
            "text/plain": [
              "<Figure size 432x288 with 1 Axes>"
            ]
          },
          "metadata": {
            "tags": []
          }
        }
      ]
    },
    {
      "metadata": {
        "colab_type": "text",
        "id": "dA2k7vcp4IPn"
      },
      "cell_type": "markdown",
      "source": [
        "# Classificando classes individuais\n",
        "\n",
        "Implemente aqui a modificação do processo de avaliação e treinamento para poder classificar cada classe individualmente.\n",
        "\n",
        "- Ideia geral: treinar um perceptron por classe (exemplo positivo = exemplos da classe; exemplos negativos = exemplo de todas outras classes)\n",
        "- Dado um exemplo qualquer, como decidir qual perceptron está dando a classe correta?"
      ]
    },
    {
      "metadata": {
        "colab_type": "code",
        "id": "FlhQGU404IP4",
        "colab": {}
      },
      "cell_type": "code",
      "source": [
        "def individual_dataset(target_labels):\n",
        "  linear_dataset_train = []\n",
        "  for img,category in grayscale_dataset_train:\n",
        "      linear_img = img.reshape(img.shape[0]*img.shape[1],1) / 255\n",
        "      if category in target_labels:\n",
        "          label = 1\n",
        "      else:\n",
        "          label = 0\n",
        "      linear_dataset_train.append((linear_img,label))\n",
        "\n",
        "\n",
        "  linear_dataset_test = []\n",
        "  for img,category in grayscale_dataset_test:\n",
        "      linear_img = img.reshape(img.shape[0]*img.shape[1],1) / 255\n",
        "      if category in target_labels:\n",
        "          label = 1\n",
        "      else:\n",
        "          label = 0\n",
        "      linear_dataset_test.append((linear_img,label))    \n",
        "\n",
        "  return linear_dataset_train, linear_dataset_test"
      ],
      "execution_count": 0,
      "outputs": []
    },
    {
      "metadata": {
        "colab_type": "code",
        "id": "8nsvv7G74IQk",
        "outputId": "6303020a-ab78-4507-ae92-8771f6cfdf83",
        "scrolled": true,
        "colab": {
          "base_uri": "https://localhost:8080/",
          "height": 527
        }
      },
      "cell_type": "code",
      "source": [
        "modelos = []\n",
        "for target_label in classes:\n",
        "  \n",
        "    linear_dataset_train, linear_dataset_test = individual_dataset(target_label)\n",
        "    \n",
        "    weights = (np.random.rand(1,size) - 0.5)[0]\n",
        "    bias = (np.random.rand(1) - 0.5) \n",
        "    weights = np.append(weights, bias) \n",
        "    \n",
        "    neta = 0.0015\n",
        "    \n",
        "    np.random.shuffle(linear_dataset_train)\n",
        "\n",
        "    print(\"Training\", target_label + \"...\")\n",
        "\n",
        "    for epoch in range(100):        \n",
        "        for img, label in linear_dataset_train:\n",
        "            inputs = np.append(img, [1])\n",
        "            o = perceptron(inputs, weights)\n",
        "            y = sigmoid(o)\n",
        "            loss = neta * inputs * err(label, y) * sigmoid_dx(o)\n",
        "            weights += loss\n",
        "\n",
        "        train_results = evaluate(weights, linear_dataset_train) \n",
        "        acc = train_results['Accuracy']\n",
        "    \n",
        "    \n",
        "    test_results = evaluate(weights, linear_dataset_test)\n",
        "    acc_test = test_results['Accuracy']\n",
        "    modelos.append(\n",
        "       {\n",
        "        \"Weights\": weights,\n",
        "        \"Accu\": acc,\n",
        "        \"T_Accu\": acc_test,\n",
        "        \"Label\": target_label\n",
        "      }\n",
        "    )\n",
        "    print(\"Accuracy train: \", acc)\n",
        "    print(\"Accuracy test: \", acc_test)\n",
        "    "
      ],
      "execution_count": 15,
      "outputs": [
        {
          "output_type": "stream",
          "text": [
            "Training plane...\n",
            "Accuracy train:  0.90226\n",
            "Accuracy test:  0.9018\n",
            "Training car...\n",
            "Accuracy train:  0.90772\n",
            "Accuracy test:  0.9037\n",
            "Training bird...\n",
            "Accuracy train:  0.89994\n",
            "Accuracy test:  0.8995\n",
            "Training cat...\n",
            "Accuracy train:  0.90012\n",
            "Accuracy test:  0.8997\n",
            "Training deer...\n",
            "Accuracy train:  0.89982\n",
            "Accuracy test:  0.8999\n",
            "Training dog...\n",
            "Accuracy train:  0.9039\n",
            "Accuracy test:  0.9041\n",
            "Training frog...\n",
            "Accuracy train:  0.90014\n",
            "Accuracy test:  0.8994\n",
            "Training horse...\n",
            "Accuracy train:  0.90644\n",
            "Accuracy test:  0.9026\n",
            "Training ship...\n",
            "Accuracy train:  0.89936\n",
            "Accuracy test:  0.8979\n",
            "Training truck...\n",
            "Accuracy train:  0.9\n",
            "Accuracy test:  0.9\n"
          ],
          "name": "stdout"
        }
      ]
    },
    {
      "metadata": {
        "colab_type": "code",
        "id": "QOdEfpZPWj6n",
        "outputId": "be117b82-e126-4638-8702-520d75a77fab",
        "colab": {
          "base_uri": "https://localhost:8080/",
          "height": 34
        }
      },
      "cell_type": "code",
      "source": [
        "corrects = 0\n",
        "for img,category in grayscale_dataset_test:\n",
        "    linear_img = np.append((img.reshape(img.shape[0]*img.shape[1],1) / 255), [1])\n",
        "    \n",
        "    results = []\n",
        "    for modelo in modelos:\n",
        "        o = perceptron(modelo['Weights'], linear_img)\n",
        "        pred = sigmoid(o)\n",
        "        results.append((pred, modelo['Label']))\n",
        "    results = sorted(results, reverse=True)\n",
        "\n",
        "    if results[0][1] == category:\n",
        "        corrects += 1\n",
        "\n",
        "print(\"General Test with all classes, Acc = \", corrects / len(grayscale_dataset_test))"
      ],
      "execution_count": 16,
      "outputs": [
        {
          "output_type": "stream",
          "text": [
            "General Test with all classes, Acc =  0.269\n"
          ],
          "name": "stdout"
        }
      ]
    }
  ]
}
