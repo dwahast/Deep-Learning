{
  "nbformat": 4,
  "nbformat_minor": 0,
  "metadata": {
    "colab": {
      "name": "CNN_MLP_PyTorch.ipynb",
      "version": "0.3.2",
      "provenance": [],
      "collapsed_sections": [],
      "include_colab_link": true
    },
    "kernelspec": {
      "name": "python3",
      "display_name": "Python 3"
    },
    "accelerator": "GPU"
  },
  "cells": [
    {
      "cell_type": "markdown",
      "metadata": {
        "id": "view-in-github",
        "colab_type": "text"
      },
      "source": [
        "<a href=\"https://colab.research.google.com/github/dwahast/Deep-learning/blob/master/CNN_MLP_PyTorch.ipynb\" target=\"_parent\"><img src=\"https://colab.research.google.com/assets/colab-badge.svg\" alt=\"Open In Colab\"/></a>"
      ]
    },
    {
      "metadata": {
        "id": "T_RsmTkQ98Vz",
        "colab_type": "text"
      },
      "cell_type": "markdown",
      "source": [
        "# Objetivos deste trabalho\n",
        "- Familiarizar-se com a biblioteca PyTorch\n",
        "- Definir arquiteturas MLP simples em PyTorch\n",
        "- Treinar utilizando CIFAR10, testando diferentes arquiteturas, parâmetros, funções de loss e otimizadores\n",
        "- Comparar os resultados obtidos utilizando apenas Perpceptrons\n",
        "- Link útil (https://towardsdatascience.com/cifar-10-image-classification-in-tensorflow-5b501f7dc77c)"
      ]
    },
    {
      "metadata": {
        "id": "qUwhuYBi98V2",
        "colab_type": "code",
        "outputId": "670afb4e-93cf-4513-8ce6-6fff6c7bbf5a",
        "colab": {
          "base_uri": "https://localhost:8080/",
          "height": 34
        }
      },
      "cell_type": "code",
      "source": [
        "%matplotlib inline\n",
        "\n",
        "import numpy as np \n",
        "import matplotlib.pyplot as plt\n",
        "\n",
        "import torch\n",
        "import torch.nn as nn\n",
        "from torch.utils.data import DataLoader\n",
        "\n",
        "import torchvision\n",
        "import torchvision.transforms as transforms\n",
        "\n",
        "import torch.nn.functional as F # softmax/relu\n",
        "\n",
        "print(torch.cuda.is_available())\n"
      ],
      "execution_count": 0,
      "outputs": [
        {
          "output_type": "stream",
          "text": [
            "True\n"
          ],
          "name": "stdout"
        }
      ]
    },
    {
      "metadata": {
        "id": "LU2fLgnR98WA",
        "colab_type": "code",
        "outputId": "365749d2-c932-4d80-d0e6-d914c2f3b782",
        "colab": {
          "base_uri": "https://localhost:8080/",
          "height": 51
        }
      },
      "cell_type": "code",
      "source": [
        "# Carregar os datasets\n",
        "\n",
        "#transform=transforms.Compose([\n",
        "#    transforms.Grayscale(num_output_channels=1),\n",
        "#    transforms.ToTensor()\n",
        "#])\n",
        "\n",
        "transform_train = transforms.Compose([\n",
        "    transforms.RandomCrop(32, padding=4),\n",
        "    transforms.RandomHorizontalFlip(),\n",
        "    transforms.ToTensor(),\n",
        "    transforms.Normalize((0.49139968, 0.48215841, 0.44653091), (0.24703223, 0.24348513, 0.26158784)),\n",
        "])\n",
        "\n",
        "#normaliza o dataset de test mas sem data augmentation\n",
        "transform_test = transforms.Compose([\n",
        "    transforms.ToTensor(),\n",
        "    transforms.Normalize((0.49139968, 0.48215841, 0.44653091), (0.24703223, 0.24348513, 0.26158784)),\n",
        "])\n",
        "\n",
        "dataset_train = torchvision.datasets.CIFAR10(root='./data', train=True,\n",
        "                                        download=True, transform=transform_train)\n",
        "\n",
        "dataset_test = torchvision.datasets.CIFAR10(root='./data', train=False,\n",
        "                                        download=True, transform=transform_test)"
      ],
      "execution_count": 0,
      "outputs": [
        {
          "output_type": "stream",
          "text": [
            "\r0it [00:00, ?it/s]"
          ],
          "name": "stderr"
        },
        {
          "output_type": "stream",
          "text": [
            "Downloading https://www.cs.toronto.edu/~kriz/cifar-10-python.tar.gz to ./data/cifar-10-python.tar.gz\n"
          ],
          "name": "stdout"
        },
        {
          "output_type": "stream",
          "text": [
            "100%|█████████▉| 170434560/170498071 [00:51<00:00, 3418215.88it/s]"
          ],
          "name": "stderr"
        },
        {
          "output_type": "stream",
          "text": [
            "Files already downloaded and verified\n"
          ],
          "name": "stdout"
        }
      ]
    },
    {
      "metadata": {
        "id": "A-o4YkPr98WI",
        "colab_type": "code",
        "outputId": "a63ca484-7d5f-48a4-e448-850da9743955",
        "colab": {
          "base_uri": "https://localhost:8080/",
          "height": 68
        }
      },
      "cell_type": "code",
      "source": [
        "train_loader = DataLoader(dataset=dataset_train, shuffle=True, batch_size=32) #define de Batch_size of the training\n",
        "test_loader = DataLoader(dataset=dataset_test, shuffle=False, batch_size=4)\n",
        "print(len(test_loader))\n",
        "\n",
        "dataiter = iter(train_loader)\n",
        "images, labels = dataiter.next()\n",
        "print(images.size())\n",
        "device = torch.device(\"cuda:0\" if torch.cuda.is_available() else \"cpu\")\n",
        "print(device)"
      ],
      "execution_count": 0,
      "outputs": [
        {
          "output_type": "stream",
          "text": [
            "2500\n",
            "torch.Size([32, 3, 32, 32])\n",
            "cuda:0\n"
          ],
          "name": "stdout"
        }
      ]
    },
    {
      "metadata": {
        "id": "NCdXG0yUlr3A",
        "colab_type": "code",
        "colab": {}
      },
      "cell_type": "code",
      "source": [
        "class CNN(nn.Module):\n",
        "    def __init__(self):\n",
        "        super(CNN,self).__init__()\n",
        "        \n",
        "        self.conv_layer = nn.Sequential(\n",
        "          nn.Conv2d(in_channels=3, out_channels=32, kernel_size=3,stride=1, padding=1),\n",
        "          nn.BatchNorm2d(32),   \n",
        "          nn.ReLU(inplace=True),\n",
        "          nn.Conv2d(in_channels=32, out_channels=64, kernel_size=3, padding=1),\n",
        "          nn.ReLU(inplace=True),\n",
        "          nn.MaxPool2d(kernel_size=2, stride=2),\n",
        "\n",
        "          nn.Conv2d(in_channels=64, out_channels=128, kernel_size=3, padding=1),\n",
        "          nn.BatchNorm2d(128),\n",
        "          nn.ReLU(inplace=True),\n",
        "          nn.Conv2d(in_channels=128, out_channels=128, kernel_size=3, padding=1),\n",
        "          nn.ReLU(inplace=True),\n",
        "          nn.MaxPool2d(kernel_size=2, stride=2),\n",
        "          nn.Dropout2d(p=0.05),\n",
        "\n",
        "          nn.Conv2d(in_channels=128, out_channels=256, kernel_size=3, padding=1),\n",
        "          nn.BatchNorm2d(256),\n",
        "          nn.ReLU(inplace=True),\n",
        "          nn.Conv2d(in_channels=256, out_channels=256, kernel_size=3, padding=1),\n",
        "          nn.ReLU(inplace=True),\n",
        "          nn.MaxPool2d(kernel_size=2, stride=2),\n",
        "          )  \n",
        "        \n",
        "        self.fc_layers = nn.Sequential(\n",
        "            \n",
        "          #Flatten the feature maps. You have 32 feature mapsfrom cnn2. Each of the feature is of size 16x16 --> 32*16*16 = 8192\n",
        "          nn.Dropout(p=0.1),    #Dropout used to reduce overfitting \n",
        "          nn.Linear(32*32*4, 1024),   #Flattened image is fed into linear NN and reduced to half size\n",
        "          nn.ReLU(inplace=True),\n",
        "          nn.Linear(1024, 256),\n",
        "          nn.ReLU(inplace=True),\n",
        "          nn.Linear(256, 64),\n",
        "          nn.Dropout(p=0.1),\n",
        "          nn.Linear(64, 10),\n",
        "          nn.Linear(10,10)  #Since there were so many features, I decided to use 45 layers to get output layers. You can increase the kernels in Maxpooling to reduce image further and reduce number of hidden linear layers.\n",
        "\n",
        "        )\n",
        "        \n",
        "    def forward(self,x):\n",
        "        x = self.conv_layer(x)\n",
        "        x = x.view(x.size(0), -1)\n",
        "        x = self.fc_layers(x)\n",
        "        return x"
      ],
      "execution_count": 0,
      "outputs": []
    },
    {
      "metadata": {
        "id": "L36yfjGr98WO",
        "colab_type": "code",
        "colab": {}
      },
      "cell_type": "code",
      "source": [
        "# Definir a arquitetura MLP\n",
        "# New Arquitecture with RELU   \n",
        "class MLP_Srelu(nn.Module):\n",
        "    def __init__(self):\n",
        "        super(MLP_Srelu, self).__init__()\n",
        "        self.fc1 = nn.Linear(32*32, 256)\n",
        "        self.fc2 = nn.Linear(256, 128)\n",
        "        self.fc3 = nn.Linear(128, 32)\n",
        "        self.fc4 = nn.Linear(32, 10)\n",
        "    def forward(self, x):\n",
        "        x = x.view(-1, 32*32)\n",
        "        x = F.relu(self.fc1(x))\n",
        "        x = F.relu(self.fc2(x))\n",
        "        x = F.relu(self.fc3(x))\n",
        "        x = F.log_softmax(self.fc4(x),dim =1)\n",
        "        return x   \n"
      ],
      "execution_count": 0,
      "outputs": []
    },
    {
      "metadata": {
        "id": "7DSF3ZnQ98WT",
        "colab_type": "code",
        "colab": {}
      },
      "cell_type": "code",
      "source": [
        "model_CNN = CNN()\n",
        "model_CNN = model_CNN.to(device)"
      ],
      "execution_count": 0,
      "outputs": []
    },
    {
      "metadata": {
        "id": "Rh1fBZcW98WZ",
        "colab_type": "code",
        "colab": {}
      },
      "cell_type": "code",
      "source": [
        "# Definir otimizador e loss\n",
        "# Nota: testar outros otimizadores e funções de loss (em particular cross entropy)\n",
        "\n",
        "def optimizer_set(model,optimizer_method, learning_rate):\n",
        "  if optimizer_method == \"sgd\":\n",
        "    optimizer = torch.optim.SGD(model.parameters(), lr = learning_rate, momentum=0.9)\n",
        "  elif optimizer_method == \"adadelta\":\n",
        "    optimizer = torch.optim.Adadelta(model.parameters(), lr = learning_rate)\n",
        "  elif optimizer_method == \"adagrad\":\n",
        "    optimizer = torch.optim.Adagrad(model.parameters(), lr = learning_rate)\n",
        "  elif optimizer_method == \"adamax\":\n",
        "    optimizer = torch.optim.Adamax(model.parameters(), lr = learning_rate)\n",
        "  elif optimizer_method == \"adam\":\n",
        "    optimizer = torch.optim.Adam(model.parameters(), lr = learning_rate)  \n",
        "  elif optimizer_method == \"rms\":\n",
        "    optimizer = torch.optim.RMSprop(model.parameters(), lr = learning_rate)\n",
        "  return optimizer\n",
        "\n",
        "def loss_function_set(loss_function):\n",
        "  if loss_function == \"mse\":\n",
        "    loss_fn = torch.nn.MSELoss()\n",
        "  elif loss_function == \"nllos\":\n",
        "     loss_fn = torch.nn.NLLoss()\n",
        "  elif loss_function == \"cross\":\n",
        "     loss_fn = torch.nn.CrossEntropyLoss()\n",
        "  return loss_fn\n",
        "  "
      ],
      "execution_count": 0,
      "outputs": []
    },
    {
      "metadata": {
        "id": "ZG-R1kCQEweC",
        "colab_type": "code",
        "colab": {}
      },
      "cell_type": "code",
      "source": [
        "def one_hot(label, output_size):\n",
        "    \n",
        "    label_select = np.zeros(output_size)\n",
        "    label_select[label]=1\n",
        "    \n",
        "    return torch.Tensor(label_select)"
      ],
      "execution_count": 0,
      "outputs": []
    },
    {
      "metadata": {
        "colab_type": "code",
        "id": "p87aRLgR2pPo",
        "colab": {}
      },
      "cell_type": "code",
      "source": [
        "def evaluate(model, loss_function, dataset):\n",
        "  model.eval() # set model to Evaluate \"mode\"\n",
        "  losses = []\n",
        "  corrects = 0\n",
        "  current_total = 0\n",
        "  accuracies = 0\n",
        "  loss_fn = loss_function_set(loss_function)\n",
        "  \n",
        "  for image, label in dataset:\n",
        "    image = image.to(device)\n",
        "    label = label.to(device)\n",
        "    outputs = model(image)\n",
        "    losses.append(loss_fn(outputs, label).item())\n",
        "    \n",
        "    _, predicted = outputs.max(1)\n",
        "    current_total += label.size(0)\n",
        "    corrects += predicted.eq(label).sum().item()\n",
        "    \n",
        "    current_total += 1\n",
        "  \n",
        "  accuracy = corrects/current_total\n",
        "\n",
        "  return accuracy, np.mean(losses)\n",
        "      "
      ],
      "execution_count": 0,
      "outputs": []
    },
    {
      "metadata": {
        "id": "rFVQOHzayfj6",
        "colab_type": "text"
      },
      "cell_type": "markdown",
      "source": [
        "#Training function"
      ]
    },
    {
      "metadata": {
        "id": "MELtsUbB98Wf",
        "colab_type": "code",
        "colab": {}
      },
      "cell_type": "code",
      "source": [
        "# Realizar o treinamento aqui\n",
        "def fit(model, epochs, optimizer_method, loss_function, learning_rate):\n",
        "  \n",
        "  print(\"Opt Method:\", optimizer_method.upper(), \"| Loss Function:\", loss_function.upper(), \"| Learning Rate:\", learning_rate)\n",
        "  optimizer = optimizer_set(model,optimizer_method, learning_rate) #optimizer and Learning rate setter\n",
        "  loss_fn = loss_function_set(loss_function) \n",
        "  test_accuracies = []\n",
        "  test_losses = []\n",
        "  train_losses = []\n",
        "  train_accuracies = []\n",
        "  for epoch in range(epochs):\n",
        "    total = 0\n",
        "    corrects = 0\n",
        "    model.train() # Set model to TRAIN \"mode\" (can be set to False for Test)\n",
        "    epoch_losses = []\n",
        "    for image,label in train_loader:\n",
        "      image, label = image.to(device), label.to(device) \n",
        "      optimizer.zero_grad()  # cleaning gradients between mini batches\n",
        "      outputs = model(image) \n",
        "      \n",
        "      if(loss_function == 'mse'):\n",
        "        label_target = one_hot(label,10) # one_hot to set the training class in the escalar\n",
        "        loss = loss_fn(outputs,label_target)\n",
        "      else: \n",
        "        loss = loss_fn(outputs, label)\n",
        "        \n",
        "      loss.backward() # Backpropagation \n",
        "      optimizer.step() # Optimization Method\n",
        "      epoch_losses.append(loss.item())\n",
        "      total += label.size(0)\n",
        "      _, predicted = torch.max(outputs.data, 1)\n",
        "      corrects += (predicted==label).sum().item()\n",
        "      \n",
        "    train_losses.append(np.mean(epoch_losses)) # Append mean losses for each epoch\n",
        "    train_accuracies.append(corrects/total)\n",
        "    \n",
        "\n",
        "    acc, lss = evaluate(model, loss_function, test_loader) #evaluate\n",
        "    test_accuracies.append(acc)\n",
        "    test_losses.append(lss)\n",
        "    \n",
        "    print(\"Epoch:\",epoch, \"- Loss:\", test_losses[-1],\"- Accuracy:\", acc) # Print mean Loss for each epoch\n",
        " \n",
        "  return {\n",
        "      \"Model\": outputs,\n",
        "      \"Test Acc\": test_accuracies,\n",
        "      \"Test Loss\": test_losses,\n",
        "      \"Train Acc\": train_accuracies,\n",
        "      \"Train Loss\": train_losses,\n",
        "      \"Name\": optimizer_method + \" | \" + loss_function + \" | \" + str(learning_rate),\n",
        "      \"Arc\": model\n",
        "      \n",
        "  }"
      ],
      "execution_count": 0,
      "outputs": []
    },
    {
      "metadata": {
        "id": "cFeR8SBEw0ue",
        "colab_type": "text"
      },
      "cell_type": "markdown",
      "source": [
        "# Training Your Model\n",
        "- Variable \"trained_models\" append all models trained\n",
        "- function \"fit\" train and return the Model and the all variable that will be used latter\n",
        "  - *fit(Model, Epochs, Optimizer method, Loss function, Learning rate)*"
      ]
    },
    {
      "metadata": {
        "id": "6kAvty-S98Wk",
        "colab_type": "code",
        "outputId": "6d440f97-9c91-4c53-e87f-77e66d0f35a6",
        "colab": {
          "base_uri": "https://localhost:8080/",
          "height": 1734
        }
      },
      "cell_type": "code",
      "source": [
        "trained_models = []\n",
        "ep = 100 #epocas\n",
        "trained_models.append(fit(model_CNN, ep,\"adadelta\", \"cross\", 0.00173))\n"
      ],
      "execution_count": 11,
      "outputs": [
        {
          "output_type": "stream",
          "text": [
            "Opt Method: ADADELTA | Loss Function: CROSS | Learning Rate: 0.00173\n"
          ],
          "name": "stdout"
        },
        {
          "output_type": "stream",
          "text": [
            "\r170500096it [01:10, 3418215.88it/s]                               "
          ],
          "name": "stderr"
        },
        {
          "output_type": "stream",
          "text": [
            "Epoch: 0 - Loss: 2.285018423652649 - Accuracy: 0.11736\n",
            "Epoch: 1 - Loss: 2.190047298336029 - Accuracy: 0.12224\n",
            "Epoch: 2 - Loss: 2.1395681099891664 - Accuracy: 0.13872\n",
            "Epoch: 3 - Loss: 2.068788256597519 - Accuracy: 0.1816\n",
            "Epoch: 4 - Loss: 1.9642515788078307 - Accuracy: 0.18432\n",
            "Epoch: 5 - Loss: 1.910026028585434 - Accuracy: 0.19912\n",
            "Epoch: 6 - Loss: 1.841008004951477 - Accuracy: 0.2264\n",
            "Epoch: 7 - Loss: 1.7940070563793182 - Accuracy: 0.2424\n",
            "Epoch: 8 - Loss: 1.7310613992452621 - Accuracy: 0.26312\n",
            "Epoch: 9 - Loss: 1.6771764859676361 - Accuracy: 0.27936\n",
            "Epoch: 10 - Loss: 1.6236649500608444 - Accuracy: 0.30632\n",
            "Epoch: 11 - Loss: 1.5814434808254243 - Accuracy: 0.32224\n",
            "Epoch: 12 - Loss: 1.5436695488452912 - Accuracy: 0.334\n",
            "Epoch: 13 - Loss: 1.510461149263382 - Accuracy: 0.34424\n",
            "Epoch: 14 - Loss: 1.4948442468643188 - Accuracy: 0.34864\n",
            "Epoch: 15 - Loss: 1.4694546948432923 - Accuracy: 0.356\n",
            "Epoch: 16 - Loss: 1.447586259841919 - Accuracy: 0.36368\n",
            "Epoch: 17 - Loss: 1.4233263979434967 - Accuracy: 0.3728\n",
            "Epoch: 18 - Loss: 1.3926609134197234 - Accuracy: 0.39216\n",
            "Epoch: 19 - Loss: 1.366575983786583 - Accuracy: 0.39824\n",
            "Epoch: 20 - Loss: 1.337023520231247 - Accuracy: 0.40752\n",
            "Epoch: 21 - Loss: 1.3195223834991454 - Accuracy: 0.41312\n",
            "Epoch: 22 - Loss: 1.296890540242195 - Accuracy: 0.42208\n",
            "Epoch: 23 - Loss: 1.2823826721668243 - Accuracy: 0.42648\n",
            "Epoch: 24 - Loss: 1.2504086166024209 - Accuracy: 0.4376\n",
            "Epoch: 25 - Loss: 1.2320138833999634 - Accuracy: 0.44248\n",
            "Epoch: 26 - Loss: 1.2189743679881095 - Accuracy: 0.4472\n",
            "Epoch: 27 - Loss: 1.1890522439360618 - Accuracy: 0.45688\n",
            "Epoch: 28 - Loss: 1.1747016005158424 - Accuracy: 0.46096\n",
            "Epoch: 29 - Loss: 1.1459507622361182 - Accuracy: 0.47112\n",
            "Epoch: 30 - Loss: 1.1350192069888114 - Accuracy: 0.47312\n",
            "Epoch: 31 - Loss: 1.1186770042300225 - Accuracy: 0.4772\n",
            "Epoch: 32 - Loss: 1.1024925173640252 - Accuracy: 0.4804\n",
            "Epoch: 33 - Loss: 1.0856537098765373 - Accuracy: 0.48712\n",
            "Epoch: 34 - Loss: 1.0762423491120339 - Accuracy: 0.48784\n",
            "Epoch: 35 - Loss: 1.06911565721035 - Accuracy: 0.4904\n",
            "Epoch: 36 - Loss: 1.0429165429353715 - Accuracy: 0.49976\n",
            "Epoch: 37 - Loss: 1.0353266984224319 - Accuracy: 0.50232\n",
            "Epoch: 38 - Loss: 1.026934424853325 - Accuracy: 0.5068\n",
            "Epoch: 39 - Loss: 1.0283009056210517 - Accuracy: 0.50632\n",
            "Epoch: 40 - Loss: 1.0008676879405976 - Accuracy: 0.51008\n",
            "Epoch: 41 - Loss: 1.0004711507797241 - Accuracy: 0.51128\n",
            "Epoch: 42 - Loss: 0.991194915163517 - Accuracy: 0.51448\n",
            "Epoch: 43 - Loss: 0.9812761218905449 - Accuracy: 0.51744\n",
            "Epoch: 44 - Loss: 0.9682229482889175 - Accuracy: 0.522\n",
            "Epoch: 45 - Loss: 0.9651216571331024 - Accuracy: 0.51872\n",
            "Epoch: 46 - Loss: 0.9519277160644531 - Accuracy: 0.52432\n",
            "Epoch: 47 - Loss: 0.9478582072019577 - Accuracy: 0.52616\n",
            "Epoch: 48 - Loss: 0.9347752823114395 - Accuracy: 0.532\n",
            "Epoch: 49 - Loss: 0.9416985639929771 - Accuracy: 0.53072\n",
            "Epoch: 50 - Loss: 0.9213733256220817 - Accuracy: 0.53496\n",
            "Epoch: 51 - Loss: 0.9190391097664833 - Accuracy: 0.53816\n",
            "Epoch: 52 - Loss: 0.9002525251507759 - Accuracy: 0.54136\n",
            "Epoch: 53 - Loss: 0.8996399870991707 - Accuracy: 0.54296\n",
            "Epoch: 54 - Loss: 0.8981735070586204 - Accuracy: 0.54232\n",
            "Epoch: 55 - Loss: 0.8865073746323585 - Accuracy: 0.54928\n",
            "Epoch: 56 - Loss: 0.8885812824249267 - Accuracy: 0.54928\n",
            "Epoch: 57 - Loss: 0.8780816879987716 - Accuracy: 0.55016\n",
            "Epoch: 58 - Loss: 0.8874986547112464 - Accuracy: 0.54816\n",
            "Epoch: 59 - Loss: 0.862566582596302 - Accuracy: 0.55264\n",
            "Epoch: 60 - Loss: 0.8575394949913024 - Accuracy: 0.55352\n",
            "Epoch: 61 - Loss: 0.8545398332238198 - Accuracy: 0.55584\n",
            "Epoch: 62 - Loss: 0.85393431930542 - Accuracy: 0.55664\n",
            "Epoch: 63 - Loss: 0.8566480267763138 - Accuracy: 0.55672\n",
            "Epoch: 64 - Loss: 0.8447895380973816 - Accuracy: 0.56088\n",
            "Epoch: 65 - Loss: 0.8305849449634553 - Accuracy: 0.56368\n",
            "Epoch: 66 - Loss: 0.8358326269149781 - Accuracy: 0.56288\n",
            "Epoch: 67 - Loss: 0.8371336035490036 - Accuracy: 0.56304\n",
            "Epoch: 68 - Loss: 0.8316141102552413 - Accuracy: 0.56312\n",
            "Epoch: 69 - Loss: 0.8174449602603913 - Accuracy: 0.56664\n",
            "Epoch: 70 - Loss: 0.808077927672863 - Accuracy: 0.572\n",
            "Epoch: 71 - Loss: 0.8015306159377098 - Accuracy: 0.57176\n",
            "Epoch: 72 - Loss: 0.802941267311573 - Accuracy: 0.5732\n",
            "Epoch: 73 - Loss: 0.7982363708019257 - Accuracy: 0.57072\n",
            "Epoch: 74 - Loss: 0.7920696511626244 - Accuracy: 0.57704\n",
            "Epoch: 75 - Loss: 0.7960148162007332 - Accuracy: 0.57424\n",
            "Epoch: 76 - Loss: 0.7800183908462525 - Accuracy: 0.57704\n",
            "Epoch: 77 - Loss: 0.778280523622036 - Accuracy: 0.57808\n",
            "Epoch: 78 - Loss: 0.7732944925785065 - Accuracy: 0.5808\n",
            "Epoch: 79 - Loss: 0.7791368636488915 - Accuracy: 0.57936\n",
            "Epoch: 80 - Loss: 0.7715018013358116 - Accuracy: 0.58056\n",
            "Epoch: 81 - Loss: 0.7634876012563705 - Accuracy: 0.58616\n",
            "Epoch: 82 - Loss: 0.760584435236454 - Accuracy: 0.58368\n",
            "Epoch: 83 - Loss: 0.7623865711331368 - Accuracy: 0.58528\n",
            "Epoch: 84 - Loss: 0.7587778476595879 - Accuracy: 0.5864\n",
            "Epoch: 85 - Loss: 0.7511297270178795 - Accuracy: 0.58968\n",
            "Epoch: 86 - Loss: 0.7513967668533326 - Accuracy: 0.58776\n",
            "Epoch: 87 - Loss: 0.7428578076243401 - Accuracy: 0.58936\n",
            "Epoch: 88 - Loss: 0.7404081839323043 - Accuracy: 0.59168\n",
            "Epoch: 89 - Loss: 0.7402410544276238 - Accuracy: 0.59224\n",
            "Epoch: 90 - Loss: 0.7286736906528473 - Accuracy: 0.59568\n",
            "Epoch: 91 - Loss: 0.7309676586389542 - Accuracy: 0.59472\n",
            "Epoch: 92 - Loss: 0.7379692466259002 - Accuracy: 0.5924\n",
            "Epoch: 93 - Loss: 0.7227855386018753 - Accuracy: 0.5976\n",
            "Epoch: 94 - Loss: 0.7355399864435196 - Accuracy: 0.59312\n",
            "Epoch: 95 - Loss: 0.7171265555977822 - Accuracy: 0.59864\n",
            "Epoch: 96 - Loss: 0.7172616758108139 - Accuracy: 0.59888\n",
            "Epoch: 97 - Loss: 0.7139959243178368 - Accuracy: 0.59864\n",
            "Epoch: 98 - Loss: 0.7136725880980491 - Accuracy: 0.59864\n",
            "Epoch: 99 - Loss: 0.7094355902194976 - Accuracy: 0.59984\n"
          ],
          "name": "stdout"
        }
      ]
    },
    {
      "metadata": {
        "id": "wP9_DFmLNnjO",
        "colab_type": "code",
        "outputId": "57dfd17d-e960-4d83-de82-62471bf068ef",
        "colab": {
          "base_uri": "https://localhost:8080/",
          "height": 1734
        }
      },
      "cell_type": "code",
      "source": [
        "model_CNN = CNN().to(device)\n",
        "trained_models.append(fit(model_CNN, ep,\"rms\", \"cross\", 0.00173))"
      ],
      "execution_count": 12,
      "outputs": [
        {
          "output_type": "stream",
          "text": [
            "Opt Method: RMS | Loss Function: CROSS | Learning Rate: 0.00173\n",
            "Epoch: 0 - Loss: 1.8385783720850946 - Accuracy: 0.29064\n",
            "Epoch: 1 - Loss: 1.316152185189724 - Accuracy: 0.4236\n",
            "Epoch: 2 - Loss: 1.1798471197366716 - Accuracy: 0.45832\n",
            "Epoch: 3 - Loss: 1.18070500177145 - Accuracy: 0.4972\n",
            "Epoch: 4 - Loss: 0.8460615733504295 - Accuracy: 0.56472\n",
            "Epoch: 5 - Loss: 1.071621568751335 - Accuracy: 0.53952\n",
            "Epoch: 6 - Loss: 0.8398670177042484 - Accuracy: 0.56976\n",
            "Epoch: 7 - Loss: 0.8469786129176616 - Accuracy: 0.58048\n",
            "Epoch: 8 - Loss: 0.6403204842329026 - Accuracy: 0.62504\n",
            "Epoch: 9 - Loss: 0.6112385973274708 - Accuracy: 0.64008\n",
            "Epoch: 10 - Loss: 0.5688557585418225 - Accuracy: 0.64696\n",
            "Epoch: 11 - Loss: 0.5646509577035904 - Accuracy: 0.65424\n",
            "Epoch: 12 - Loss: 0.5904577005982399 - Accuracy: 0.6456\n",
            "Epoch: 13 - Loss: 0.521135459715128 - Accuracy: 0.66592\n",
            "Epoch: 14 - Loss: 0.6140802320957184 - Accuracy: 0.64072\n",
            "Epoch: 15 - Loss: 0.48919304139614106 - Accuracy: 0.67488\n",
            "Epoch: 16 - Loss: 0.4580606490880251 - Accuracy: 0.68048\n",
            "Epoch: 17 - Loss: 0.542408290630579 - Accuracy: 0.66472\n",
            "Epoch: 18 - Loss: 0.5615472463220358 - Accuracy: 0.65776\n",
            "Epoch: 19 - Loss: 0.6298636331260205 - Accuracy: 0.63768\n",
            "Epoch: 20 - Loss: 0.5738664230525493 - Accuracy: 0.66376\n",
            "Epoch: 21 - Loss: 0.460351793757081 - Accuracy: 0.68088\n",
            "Epoch: 22 - Loss: 0.49008331214636563 - Accuracy: 0.68128\n",
            "Epoch: 23 - Loss: 0.47602762740403415 - Accuracy: 0.68696\n",
            "Epoch: 24 - Loss: 0.49975374748110774 - Accuracy: 0.68024\n",
            "Epoch: 25 - Loss: 0.5022795362442732 - Accuracy: 0.6876\n",
            "Epoch: 26 - Loss: 0.5031336262643338 - Accuracy: 0.68232\n",
            "Epoch: 27 - Loss: 0.44241590668708086 - Accuracy: 0.69032\n",
            "Epoch: 28 - Loss: 0.46992623542193324 - Accuracy: 0.6848\n",
            "Epoch: 29 - Loss: 0.47594259546995166 - Accuracy: 0.6892\n",
            "Epoch: 30 - Loss: 0.4814837766885757 - Accuracy: 0.69192\n",
            "Epoch: 31 - Loss: 0.4846850398875773 - Accuracy: 0.6868\n",
            "Epoch: 32 - Loss: 0.4474882756844163 - Accuracy: 0.69264\n",
            "Epoch: 33 - Loss: 0.4790080360237509 - Accuracy: 0.69376\n",
            "Epoch: 34 - Loss: 0.4567159755036235 - Accuracy: 0.68312\n",
            "Epoch: 35 - Loss: 0.45820640746168795 - Accuracy: 0.69032\n",
            "Epoch: 36 - Loss: 0.44052853676453235 - Accuracy: 0.69304\n",
            "Epoch: 37 - Loss: 0.4495215201254934 - Accuracy: 0.69984\n",
            "Epoch: 38 - Loss: 0.4980168569291942 - Accuracy: 0.69056\n",
            "Epoch: 39 - Loss: 0.3624070097491145 - Accuracy: 0.70656\n",
            "Epoch: 40 - Loss: 0.4989677225716412 - Accuracy: 0.68424\n",
            "Epoch: 41 - Loss: 0.43970336414799094 - Accuracy: 0.69544\n",
            "Epoch: 42 - Loss: 0.48680924642551693 - Accuracy: 0.68552\n",
            "Epoch: 43 - Loss: 0.4718620857115835 - Accuracy: 0.6924\n",
            "Epoch: 44 - Loss: 0.4206817587193102 - Accuracy: 0.69864\n",
            "Epoch: 45 - Loss: 0.5101884671013104 - Accuracy: 0.68064\n",
            "Epoch: 46 - Loss: 0.5090118012189865 - Accuracy: 0.68192\n",
            "Epoch: 47 - Loss: 0.4407352348609362 - Accuracy: 0.70192\n",
            "Epoch: 48 - Loss: 0.4496517580451444 - Accuracy: 0.69392\n",
            "Epoch: 49 - Loss: 0.5802092655198648 - Accuracy: 0.6784\n",
            "Epoch: 50 - Loss: 0.5161798742637038 - Accuracy: 0.68792\n",
            "Epoch: 51 - Loss: 0.4446994970729575 - Accuracy: 0.70104\n",
            "Epoch: 52 - Loss: 0.44778849846422675 - Accuracy: 0.70112\n",
            "Epoch: 53 - Loss: 0.4200049856455997 - Accuracy: 0.70408\n",
            "Epoch: 54 - Loss: 0.5135709943313151 - Accuracy: 0.68704\n",
            "Epoch: 55 - Loss: 0.5303773285664618 - Accuracy: 0.69824\n",
            "Epoch: 56 - Loss: 0.47641534128505736 - Accuracy: 0.69952\n",
            "Epoch: 57 - Loss: 0.47216246340833606 - Accuracy: 0.69936\n",
            "Epoch: 58 - Loss: 0.4278886211231351 - Accuracy: 0.71\n",
            "Epoch: 59 - Loss: 0.45577270916700363 - Accuracy: 0.69968\n",
            "Epoch: 60 - Loss: 0.4567387300178409 - Accuracy: 0.70288\n",
            "Epoch: 61 - Loss: 0.45564634510164614 - Accuracy: 0.70192\n",
            "Epoch: 62 - Loss: 0.4397380386978388 - Accuracy: 0.70656\n",
            "Epoch: 63 - Loss: 0.510412788926065 - Accuracy: 0.68608\n",
            "Epoch: 64 - Loss: 0.430909009963274 - Accuracy: 0.7036\n",
            "Epoch: 65 - Loss: 0.4684014423867688 - Accuracy: 0.7056\n",
            "Epoch: 66 - Loss: 0.5531671135267243 - Accuracy: 0.68632\n",
            "Epoch: 67 - Loss: 0.42133650919422505 - Accuracy: 0.70944\n",
            "Epoch: 68 - Loss: 0.4308844136685133 - Accuracy: 0.70312\n",
            "Epoch: 69 - Loss: 0.4226410741858184 - Accuracy: 0.70792\n",
            "Epoch: 70 - Loss: 0.43339314559400083 - Accuracy: 0.70736\n",
            "Epoch: 71 - Loss: 0.5627396201424301 - Accuracy: 0.68464\n",
            "Epoch: 72 - Loss: 0.5167467961609363 - Accuracy: 0.702\n",
            "Epoch: 73 - Loss: 0.5589158234443515 - Accuracy: 0.69352\n",
            "Epoch: 74 - Loss: 0.543384938653931 - Accuracy: 0.69664\n",
            "Epoch: 75 - Loss: 0.4748610132232308 - Accuracy: 0.70264\n",
            "Epoch: 76 - Loss: 0.4614883603438735 - Accuracy: 0.70608\n",
            "Epoch: 77 - Loss: 0.45136584630310533 - Accuracy: 0.70488\n",
            "Epoch: 78 - Loss: 0.45520433629564944 - Accuracy: 0.69952\n",
            "Epoch: 79 - Loss: 0.4566388836979866 - Accuracy: 0.7036\n",
            "Epoch: 80 - Loss: 0.45754709721170367 - Accuracy: 0.70944\n",
            "Epoch: 81 - Loss: 0.4606760428479407 - Accuracy: 0.70112\n",
            "Epoch: 82 - Loss: 0.4408216972593218 - Accuracy: 0.71216\n",
            "Epoch: 83 - Loss: 0.41141343884542586 - Accuracy: 0.71504\n",
            "Epoch: 84 - Loss: 0.5539971019111574 - Accuracy: 0.6952\n",
            "Epoch: 85 - Loss: 0.5241853164646775 - Accuracy: 0.70616\n",
            "Epoch: 86 - Loss: 0.5569403555694967 - Accuracy: 0.7044\n",
            "Epoch: 87 - Loss: 0.5721558493878692 - Accuracy: 0.69496\n",
            "Epoch: 88 - Loss: 0.4645917994450778 - Accuracy: 0.70568\n",
            "Epoch: 89 - Loss: 0.5330391932852566 - Accuracy: 0.69224\n",
            "Epoch: 90 - Loss: 0.4712391216680408 - Accuracy: 0.71112\n",
            "Epoch: 91 - Loss: 0.6576700867190957 - Accuracy: 0.6672\n",
            "Epoch: 92 - Loss: 0.43679561885921286 - Accuracy: 0.70752\n",
            "Epoch: 93 - Loss: 0.42756287519680336 - Accuracy: 0.70552\n",
            "Epoch: 94 - Loss: 0.5033103382101283 - Accuracy: 0.7052\n",
            "Epoch: 95 - Loss: 0.4782512276723981 - Accuracy: 0.70192\n",
            "Epoch: 96 - Loss: 0.4848070461459458 - Accuracy: 0.70424\n",
            "Epoch: 97 - Loss: 0.4464150736483745 - Accuracy: 0.70616\n",
            "Epoch: 98 - Loss: 0.474823275668174 - Accuracy: 0.70928\n",
            "Epoch: 99 - Loss: 0.730048121652007 - Accuracy: 0.69\n"
          ],
          "name": "stdout"
        }
      ]
    },
    {
      "metadata": {
        "id": "Z97cdcidwW4N",
        "colab_type": "code",
        "colab": {
          "base_uri": "https://localhost:8080/",
          "height": 51
        },
        "outputId": "b329ea62-d9dd-435a-a7a2-8be2747acbd6"
      },
      "cell_type": "code",
      "source": [
        "model_CNN = CNN().to(device)\n",
        "trained_models.append(fit(model_CNN, ep,\"adam\", \"cross\", 0.00173))"
      ],
      "execution_count": 0,
      "outputs": [
        {
          "output_type": "stream",
          "text": [
            "Opt Method: ADAM | Loss Function: CROSS | Learning Rate: 0.00173\n",
            "Epoch: 0 - Loss: 1.4533915749192239 - Accuracy: 0.3728\n"
          ],
          "name": "stdout"
        }
      ]
    },
    {
      "metadata": {
        "id": "NEYr1-Z1wlq-",
        "colab_type": "text"
      },
      "cell_type": "markdown",
      "source": [
        "# Text and Graphical Output"
      ]
    },
    {
      "metadata": {
        "id": "qD3jggrzfXa9",
        "colab_type": "code",
        "colab": {}
      },
      "cell_type": "code",
      "source": [
        "def graphical_outputs(trained_models):\n",
        "  \n",
        "  plt.figure(1)\n",
        "  plt.title(\"\\n\\nAccuracy \" + trained_models[0][\"Name\"].upper() +\"\\n\", fontsize=20, loc=\"left\")\n",
        "  plt.title(\"dotted line = train\")\n",
        "  for models in trained_models:\n",
        "    plt.plot(models[\"Test Acc\"], label = str(models[\"Arc\"]).partition(\"(\")[0])\n",
        "    plt.plot(models[\"Train Acc\"],\"--\") \n",
        "    print(models[\"Arc\"],\"\\nModel Mean ACC:\", np.mean(models[\"Test Acc\"]),\"\\nModel Last ACC:\", models[\"Test Acc\"][-1])\n",
        "\n",
        "  plt.legend(loc='best')\n",
        "  plt.show\n",
        "  \n",
        "  plt.figure(2)\n",
        "  plt.title(\"\\n\\nLosses \" + trained_models[0][\"Name\"].upper() +\"\\n\", fontsize=20, loc=\"left\")\n",
        "  plt.title(\"dotted line = train\")\n",
        "  for models in trained_models:\n",
        "    plt.plot(models[\"Test Loss\"], label = str(models[\"Arc\"]).partition(\"(\")[0])\n",
        "    plt.plot(models[\"Train Loss\"],\"--\") \n",
        "    print(\"\\nModel Mean Loss:\", np.mean(models[\"Test Loss\"]),\"\\nModel Last Loss:\", models[\"Test Loss\"][-1])\n",
        "\n",
        "  plt.legend(loc='best')\n",
        "  plt.show\n"
      ],
      "execution_count": 0,
      "outputs": []
    },
    {
      "metadata": {
        "id": "DDxFC1RGjrLc",
        "colab_type": "code",
        "colab": {
          "base_uri": "https://localhost:8080/",
          "height": 2015
        },
        "outputId": "03c75be5-4653-45de-cfd2-05feca2200d8"
      },
      "cell_type": "code",
      "source": [
        "graphical_outputs(trained_models)"
      ],
      "execution_count": 14,
      "outputs": [
        {
          "output_type": "stream",
          "text": [
            "CNN(\n",
            "  (conv_layer): Sequential(\n",
            "    (0): Conv2d(3, 32, kernel_size=(3, 3), stride=(1, 1), padding=(1, 1))\n",
            "    (1): BatchNorm2d(32, eps=1e-05, momentum=0.1, affine=True, track_running_stats=True)\n",
            "    (2): ReLU(inplace)\n",
            "    (3): Conv2d(32, 64, kernel_size=(3, 3), stride=(1, 1), padding=(1, 1))\n",
            "    (4): ReLU(inplace)\n",
            "    (5): MaxPool2d(kernel_size=2, stride=2, padding=0, dilation=1, ceil_mode=False)\n",
            "    (6): Conv2d(64, 128, kernel_size=(3, 3), stride=(1, 1), padding=(1, 1))\n",
            "    (7): BatchNorm2d(128, eps=1e-05, momentum=0.1, affine=True, track_running_stats=True)\n",
            "    (8): ReLU(inplace)\n",
            "    (9): Conv2d(128, 128, kernel_size=(3, 3), stride=(1, 1), padding=(1, 1))\n",
            "    (10): ReLU(inplace)\n",
            "    (11): MaxPool2d(kernel_size=2, stride=2, padding=0, dilation=1, ceil_mode=False)\n",
            "    (12): Dropout2d(p=0.05)\n",
            "    (13): Conv2d(128, 256, kernel_size=(3, 3), stride=(1, 1), padding=(1, 1))\n",
            "    (14): BatchNorm2d(256, eps=1e-05, momentum=0.1, affine=True, track_running_stats=True)\n",
            "    (15): ReLU(inplace)\n",
            "    (16): Conv2d(256, 256, kernel_size=(3, 3), stride=(1, 1), padding=(1, 1))\n",
            "    (17): ReLU(inplace)\n",
            "    (18): MaxPool2d(kernel_size=2, stride=2, padding=0, dilation=1, ceil_mode=False)\n",
            "  )\n",
            "  (fc_layers): Sequential(\n",
            "    (0): Dropout(p=0.1)\n",
            "    (1): Linear(in_features=4096, out_features=1024, bias=True)\n",
            "    (2): ReLU(inplace)\n",
            "    (3): Linear(in_features=1024, out_features=256, bias=True)\n",
            "    (4): ReLU(inplace)\n",
            "    (5): Linear(in_features=256, out_features=64, bias=True)\n",
            "    (6): Dropout(p=0.1)\n",
            "    (7): Linear(in_features=64, out_features=10, bias=True)\n",
            "    (8): Linear(in_features=10, out_features=10, bias=True)\n",
            "  )\n",
            ") \n",
            "Model Mean ACC: 0.4864432 \n",
            "Model Last ACC: 0.59984\n",
            "CNN(\n",
            "  (conv_layer): Sequential(\n",
            "    (0): Conv2d(3, 32, kernel_size=(3, 3), stride=(1, 1), padding=(1, 1))\n",
            "    (1): BatchNorm2d(32, eps=1e-05, momentum=0.1, affine=True, track_running_stats=True)\n",
            "    (2): ReLU(inplace)\n",
            "    (3): Conv2d(32, 64, kernel_size=(3, 3), stride=(1, 1), padding=(1, 1))\n",
            "    (4): ReLU(inplace)\n",
            "    (5): MaxPool2d(kernel_size=2, stride=2, padding=0, dilation=1, ceil_mode=False)\n",
            "    (6): Conv2d(64, 128, kernel_size=(3, 3), stride=(1, 1), padding=(1, 1))\n",
            "    (7): BatchNorm2d(128, eps=1e-05, momentum=0.1, affine=True, track_running_stats=True)\n",
            "    (8): ReLU(inplace)\n",
            "    (9): Conv2d(128, 128, kernel_size=(3, 3), stride=(1, 1), padding=(1, 1))\n",
            "    (10): ReLU(inplace)\n",
            "    (11): MaxPool2d(kernel_size=2, stride=2, padding=0, dilation=1, ceil_mode=False)\n",
            "    (12): Dropout2d(p=0.05)\n",
            "    (13): Conv2d(128, 256, kernel_size=(3, 3), stride=(1, 1), padding=(1, 1))\n",
            "    (14): BatchNorm2d(256, eps=1e-05, momentum=0.1, affine=True, track_running_stats=True)\n",
            "    (15): ReLU(inplace)\n",
            "    (16): Conv2d(256, 256, kernel_size=(3, 3), stride=(1, 1), padding=(1, 1))\n",
            "    (17): ReLU(inplace)\n",
            "    (18): MaxPool2d(kernel_size=2, stride=2, padding=0, dilation=1, ceil_mode=False)\n",
            "  )\n",
            "  (fc_layers): Sequential(\n",
            "    (0): Dropout(p=0.1)\n",
            "    (1): Linear(in_features=4096, out_features=1024, bias=True)\n",
            "    (2): ReLU(inplace)\n",
            "    (3): Linear(in_features=1024, out_features=256, bias=True)\n",
            "    (4): ReLU(inplace)\n",
            "    (5): Linear(in_features=256, out_features=64, bias=True)\n",
            "    (6): Dropout(p=0.1)\n",
            "    (7): Linear(in_features=64, out_features=10, bias=True)\n",
            "    (8): Linear(in_features=10, out_features=10, bias=True)\n",
            "  )\n",
            ") \n",
            "Model Mean ACC: 0.6745416 \n",
            "Model Last ACC: 0.69\n",
            "\n",
            "Model Mean Loss: 1.0734723079307082 \n",
            "Model Last Loss: 0.7094355902194976\n",
            "\n",
            "Model Mean Loss: 0.5446705166587736 \n",
            "Model Last Loss: 0.730048121652007\n"
          ],
          "name": "stdout"
        },
        {
          "output_type": "display_data",
          "data": {
            "image/png": "[encoded data removed]",
            "text/plain": [
              "<Figure size 432x288 with 1 Axes>"
            ]
          },
          "metadata": {
            "tags": []
          }
        },
        {
          "output_type": "display_data",
          "data": {
            "image/png": "[encoded data removed]",
            "text/plain": [
              "<Figure size 432x288 with 1 Axes>"
            ]
          },
          "metadata": {
            "tags": []
          }
        }
      ]
    }
  ]
}