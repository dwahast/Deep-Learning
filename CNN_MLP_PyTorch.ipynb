{
  "nbformat": 4,
  "nbformat_minor": 0,
  "metadata": {
    "colab": {
      "name": "CNN_MLP_PyTorch.ipynb",
      "version": "0.3.2",
      "provenance": [],
      "collapsed_sections": [],
      "include_colab_link": true
    },
    "kernelspec": {
      "name": "python3",
      "display_name": "Python 3"
    },
    "accelerator": "GPU"
  },
  "cells": [
    {
      "cell_type": "markdown",
      "metadata": {
        "id": "view-in-github",
        "colab_type": "text"
      },
      "source": [
        "<a href=\"https://colab.research.google.com/github/dwahast/Deep-learning/blob/master/CNN_MLP_PyTorch.ipynb\" target=\"_parent\"><img src=\"https://colab.research.google.com/assets/colab-badge.svg\" alt=\"Open In Colab\"/></a>"
      ]
    },
    {
      "metadata": {
        "id": "T_RsmTkQ98Vz",
        "colab_type": "text"
      },
      "cell_type": "markdown",
      "source": [
        "# Objetivos deste trabalho\n",
        "- Familiarizar-se com a biblioteca PyTorch\n",
        "- Definir arquiteturas MLP simples em PyTorch\n",
        "- Treinar utilizando CIFAR10, testando diferentes arquiteturas, parâmetros, funções de loss e otimizadores\n",
        "- Comparar os resultados obtidos utilizando apenas Perpceptrons\n",
        "- Link útil (https://towardsdatascience.com/cifar-10-image-classification-in-tensorflow-5b501f7dc77c)"
      ]
    },
    {
      "metadata": {
        "id": "qUwhuYBi98V2",
        "colab_type": "code",
        "outputId": "2c64b63f-d676-44b9-d4ef-b204876109b4",
        "colab": {
          "base_uri": "https://localhost:8080/",
          "height": 34
        }
      },
      "cell_type": "code",
      "source": [
        "%matplotlib inline\n",
        "\n",
        "import numpy as np \n",
        "import matplotlib.pyplot as plt\n",
        "\n",
        "import torch\n",
        "import torch.nn as nn\n",
        "from torch.utils.data import DataLoader\n",
        "\n",
        "import torchvision\n",
        "import torchvision.transforms as transforms\n",
        "\n",
        "import torch.nn.functional as F # softmax/relu\n",
        "\n",
        "print(torch.cuda.is_available())\n"
      ],
      "execution_count": 3,
      "outputs": [
        {
          "output_type": "stream",
          "text": [
            "True\n"
          ],
          "name": "stdout"
        }
      ]
    },
    {
      "metadata": {
        "id": "LU2fLgnR98WA",
        "colab_type": "code",
        "outputId": "576b7749-880c-4f2f-9c9d-90acb4f6836b",
        "colab": {
          "base_uri": "https://localhost:8080/",
          "height": 51
        }
      },
      "cell_type": "code",
      "source": [
        "# Carregar os datasets\n",
        "\n",
        "#transform=transforms.Compose([\n",
        "#    transforms.Grayscale(num_output_channels=1),\n",
        "#    transforms.ToTensor()\n",
        "#])\n",
        "\n",
        "transform_train = transforms.Compose([\n",
        "    transforms.RandomCrop(32, padding=4),\n",
        "    transforms.RandomHorizontalFlip(),\n",
        "    transforms.ToTensor(),\n",
        "    transforms.Normalize((0.4914, 0.4822, 0.4465), (0.2023, 0.1994, 0.2010)),\n",
        "])\n",
        "\n",
        "#normaliza o dataset de test mas sem data augmentation\n",
        "transform_test = transforms.Compose([\n",
        "    transforms.ToTensor(),\n",
        "    transforms.Normalize((0.4914, 0.4822, 0.4465), (0.2023, 0.1994, 0.2010)),\n",
        "])\n",
        "\n",
        "dataset_train = torchvision.datasets.CIFAR10(root='./data', train=True,\n",
        "                                        download=True, transform=transform_train)\n",
        "\n",
        "dataset_test = torchvision.datasets.CIFAR10(root='./data', train=False,\n",
        "                                        download=True, transform=transform_test)"
      ],
      "execution_count": 4,
      "outputs": [
        {
          "output_type": "stream",
          "text": [
            "  0%|          | 0/170498071 [00:00<?, ?it/s]"
          ],
          "name": "stderr"
        },
        {
          "output_type": "stream",
          "text": [
            "Downloading https://www.cs.toronto.edu/~kriz/cifar-10-python.tar.gz to ./data/cifar-10-python.tar.gz\n"
          ],
          "name": "stdout"
        },
        {
          "output_type": "stream",
          "text": [
            "100%|█████████▉| 170008576/170498071 [00:10<00:00, 16447869.92it/s]"
          ],
          "name": "stderr"
        },
        {
          "output_type": "stream",
          "text": [
            "Files already downloaded and verified\n"
          ],
          "name": "stdout"
        }
      ]
    },
    {
      "metadata": {
        "id": "A-o4YkPr98WI",
        "colab_type": "code",
        "outputId": "211494ac-bac9-4780-c17b-7af648516102",
        "colab": {
          "base_uri": "https://localhost:8080/",
          "height": 68
        }
      },
      "cell_type": "code",
      "source": [
        "train_loader = DataLoader(dataset=dataset_train, shuffle=True, batch_size=32)\n",
        "test_loader = DataLoader(dataset=dataset_test, shuffle=False, batch_size=4)\n",
        "print(len(test_loader))\n",
        "\n",
        "dataiter = iter(train_loader)\n",
        "images, labels = dataiter.next()\n",
        "print(images.size())\n",
        "device = torch.device(\"cuda:0\" if torch.cuda.is_available() else \"cpu\")\n",
        "print(device)"
      ],
      "execution_count": 5,
      "outputs": [
        {
          "output_type": "stream",
          "text": [
            "2500\n",
            "torch.Size([32, 3, 32, 32])\n",
            "cuda:0\n"
          ],
          "name": "stdout"
        }
      ]
    },
    {
      "metadata": {
        "id": "NCdXG0yUlr3A",
        "colab_type": "code",
        "colab": {}
      },
      "cell_type": "code",
      "source": [
        "class CNN(nn.Module):\n",
        "    def __init__(self):\n",
        "        super(CNN,self).__init__()\n",
        "        \n",
        "        self.conv_layer = nn.Sequential(\n",
        "          nn.Conv2d(in_channels=3, out_channels=32, kernel_size=3,stride=1, padding=1),\n",
        "          nn.BatchNorm2d(32),   \n",
        "          nn.ReLU(inplace=True),\n",
        "          nn.Conv2d(in_channels=32, out_channels=64, kernel_size=3, padding=1),\n",
        "          nn.ReLU(inplace=True),\n",
        "          nn.MaxPool2d(kernel_size=2, stride=2),\n",
        "\n",
        "          nn.Conv2d(in_channels=64, out_channels=128, kernel_size=3, padding=1),\n",
        "          nn.BatchNorm2d(128),\n",
        "          nn.ReLU(inplace=True),\n",
        "          nn.Conv2d(in_channels=128, out_channels=128, kernel_size=3, padding=1),\n",
        "          nn.ReLU(inplace=True),\n",
        "          nn.MaxPool2d(kernel_size=2, stride=2),\n",
        "          nn.Dropout2d(p=0.05),\n",
        "\n",
        "          nn.Conv2d(in_channels=128, out_channels=256, kernel_size=3, padding=1),\n",
        "          nn.BatchNorm2d(256),\n",
        "          nn.ReLU(inplace=True),\n",
        "          nn.Conv2d(in_channels=256, out_channels=256, kernel_size=3, padding=1),\n",
        "          nn.ReLU(inplace=True),\n",
        "          nn.MaxPool2d(kernel_size=2, stride=2),\n",
        "          )  \n",
        "        \n",
        "        self.fc_layers = nn.Sequential(\n",
        "            \n",
        "          #Flatten the feature maps. You have 32 feature mapsfrom cnn2. Each of the feature is of size 16x16 --> 32*16*16 = 8192\n",
        "          nn.Dropout(p=0.1),    #Dropout used to reduce overfitting \n",
        "          nn.Linear(32*32*4, 2048),   #Flattened image is fed into linear NN and reduced to half size\n",
        "          nn.ReLU(inplace=True),\n",
        "          nn.Linear(2048, 512),\n",
        "          nn.ReLU(inplace=True),\n",
        "          nn.Linear(512, 128),\n",
        "          nn.Dropout(p=0.1),\n",
        "          nn.Linear(128, 10)    #Since there were so many features, I decided to use 45 layers to get output layers. You can increase the kernels in Maxpooling to reduce image further and reduce number of hidden linear layers.\n",
        "\n",
        "        )\n",
        "        \n",
        "    def forward(self,x):\n",
        "        x = self.conv_layer(x)\n",
        "        x = x.view(x.size(0), -1)\n",
        "        x = self.fc_layers(x)\n",
        "        return x"
      ],
      "execution_count": 0,
      "outputs": []
    },
    {
      "metadata": {
        "id": "L36yfjGr98WO",
        "colab_type": "code",
        "colab": {}
      },
      "cell_type": "code",
      "source": [
        "# Definir a arquitetura MLP\n",
        "# New Arquitecture with RELU   \n",
        "class MLP_Srelu(nn.Module):\n",
        "    def __init__(self):\n",
        "        super(MLP_Srelu, self).__init__()\n",
        "        self.fc1 = nn.Linear(32*32, 256)\n",
        "        self.fc2 = nn.Linear(256, 128)\n",
        "        self.fc3 = nn.Linear(128, 32)\n",
        "        self.fc4 = nn.Linear(32, 10)\n",
        "    def forward(self, x):\n",
        "        x = x.view(-1, 32*32)\n",
        "        x = F.relu(self.fc1(x))\n",
        "        x = F.relu(self.fc2(x))\n",
        "        x = F.relu(self.fc3(x))\n",
        "        x = F.log_softmax(self.fc4(x),dim =1)\n",
        "        return x   \n"
      ],
      "execution_count": 0,
      "outputs": []
    },
    {
      "metadata": {
        "id": "7DSF3ZnQ98WT",
        "colab_type": "code",
        "outputId": "fda69774-1af9-4ea6-fee8-8ef124d5924d",
        "colab": {
          "base_uri": "https://localhost:8080/",
          "height": 51
        }
      },
      "cell_type": "code",
      "source": [
        "model_Srelu = MLP_Srelu()\n",
        "model_CNN = CNN()\n",
        "\n",
        "model_Srelu = model_Srelu.to(device)\n",
        "model_CNN = model_CNN.to(device)\n",
        "print(\"******** CUDA MODEL ENABLE *********\\n\")\n",
        "\n",
        "#print(model_CNN)"
      ],
      "execution_count": 8,
      "outputs": [
        {
          "output_type": "stream",
          "text": [
            "******** CUDA MODEL ENABLE *********\n",
            "\n"
          ],
          "name": "stdout"
        }
      ]
    },
    {
      "metadata": {
        "id": "Rh1fBZcW98WZ",
        "colab_type": "code",
        "colab": {}
      },
      "cell_type": "code",
      "source": [
        "# Definir otimizador e loss\n",
        "# Nota: testar outros otimizadores e funções de loss (em particular cross entropy)\n",
        "\n",
        "def optimizer_set(model,optimizer_method, learning_rate):\n",
        "  if optimizer_method == \"sgd\":\n",
        "    optimizer = torch.optim.SGD(model.parameters(), lr = learning_rate, momentum=0.9)\n",
        "  elif optimizer_method == \"adadelta\":\n",
        "    optimizer = torch.optim.Adadelta(model.parameters(), lr = learning_rate)\n",
        "  elif optimizer_method == \"adagrad\":\n",
        "    optimizer = torch.optim.Adagrad(model.parameters(), lr = learning_rate)\n",
        "  elif optimizer_method == \"adamax\":\n",
        "    optimizer = torch.optim.Adamax(model.parameters(), lr = learning_rate)\n",
        "  elif optimizer_method == \"adam\":\n",
        "    optimizer = torch.optim.Adam(model.parameters(), lr = learning_rate)  \n",
        "  elif optimizer_method == \"rms\":\n",
        "    optimizer = torch.optim.RMSprop(model.parameters(), lr = learning_rate)\n",
        "  return optimizer\n",
        "\n",
        "def loss_function_set(loss_function):\n",
        "  if loss_function == \"mse\":\n",
        "    loss_fn = torch.nn.MSELoss()\n",
        "  elif loss_function == \"nllos\":\n",
        "     loss_fn = torch.nn.NLLoss()\n",
        "  elif loss_function == \"cross\":\n",
        "     loss_fn = torch.nn.CrossEntropyLoss()\n",
        "  return loss_fn\n",
        "  "
      ],
      "execution_count": 0,
      "outputs": []
    },
    {
      "metadata": {
        "id": "ZG-R1kCQEweC",
        "colab_type": "code",
        "colab": {}
      },
      "cell_type": "code",
      "source": [
        "def one_hot(label, output_size):\n",
        "    \n",
        "    label_select = np.zeros(output_size)\n",
        "    label_select[label]=1\n",
        "    \n",
        "    return torch.Tensor(label_select)"
      ],
      "execution_count": 0,
      "outputs": []
    },
    {
      "metadata": {
        "colab_type": "code",
        "id": "p87aRLgR2pPo",
        "colab": {}
      },
      "cell_type": "code",
      "source": [
        "def evaluate(model, loss_function, dataset):\n",
        "  model.eval() # set model to Evaluate \"mode\"\n",
        " # losses = []\n",
        "  corrects = 0\n",
        "  current_total = 0\n",
        "  accuracies = 0\n",
        "  \n",
        " # loss_fn = loss_function_set(loss_function)\n",
        "  \n",
        "  for image, label in dataset:\n",
        "    image = image.to(device)\n",
        "    label = label.to(device)\n",
        "    outputs = model(image)\n",
        "    \n",
        "    _, predicted = outputs.max(1)\n",
        "    current_total += label.size(0)\n",
        "    corrects += predicted.eq(label).sum().item()\n",
        "    \n",
        "    current_total += 1\n",
        "  \n",
        "  accuracy = corrects/current_total\n",
        "\n",
        "  return accuracy #, np.mean(losses)\n",
        "      "
      ],
      "execution_count": 0,
      "outputs": []
    },
    {
      "metadata": {
        "id": "rFVQOHzayfj6",
        "colab_type": "text"
      },
      "cell_type": "markdown",
      "source": [
        "#Training function"
      ]
    },
    {
      "metadata": {
        "id": "MELtsUbB98Wf",
        "colab_type": "code",
        "colab": {}
      },
      "cell_type": "code",
      "source": [
        "# Realizar o treinamento aqui\n",
        "def fit(model, epochs, optimizer_method, loss_function, learning_rate):\n",
        "  \n",
        "  print(\"Opt Method:\", optimizer_method.upper(), \"| Loss Function:\", loss_function.upper(), \"| Learning Rate:\", learning_rate)\n",
        "  optimizer = optimizer_set(model,optimizer_method, learning_rate) #optimizer and Learning rate setter\n",
        "  loss_fn = loss_function_set(loss_function) \n",
        "  accuracies = []\n",
        "  losses = []\n",
        "  train_acc = []\n",
        "  for epoch in range(epochs):\n",
        "    model.train() # Set model to TRAIN \"mode\" (can be set to False for Test)\n",
        "    epoch_losses = []\n",
        "    for image,label in train_loader:\n",
        "      image = image.to(device)\n",
        "      label = label.to(device)\n",
        "      \n",
        "      optimizer.zero_grad()  # cleaning gradients between mini batches\n",
        "      outputs = model(image) \n",
        "      \n",
        "      if(loss_function == 'mse'):\n",
        "        label_target = one_hot(label,10) # one_hot to set the training class in the escalar\n",
        "        loss = loss_fn(outputs,label_target)\n",
        "      else: \n",
        "        loss = loss_fn(outputs, label)\n",
        "        \n",
        "      loss.backward() # Backpropagation \n",
        "      optimizer.step() # Optimization Method\n",
        "      \n",
        "      epoch_losses.append(loss.item())\n",
        "\n",
        "    losses.append(np.mean(epoch_losses)) # Append mean losses for each epoch\n",
        "   \n",
        "    \n",
        "    acc = evaluate(model, loss_function, train_loader)\n",
        "    train_acc.append(acc)\n",
        "    acc = evaluate(model, loss_function, test_loader) #evaluate\n",
        "    accuracies.append(acc)\n",
        "    \n",
        "    #if(epoch%10==0):\n",
        "    print(\"Epoch:\",epoch, \"- Average loss:\", np.mean(epoch_losses),\"- Accuracy:\", acc) # Print mean Loss for each epoch\n",
        " \n",
        "  return {\n",
        "      \"Model\": outputs,\n",
        "      \"Acc\": accuracies,\n",
        "      \"Train Acc\": train_acc,\n",
        "      \"Loss\": losses,\n",
        "      \"Name\": optimizer_method + \" | \" + loss_function + \" | \" + str(learning_rate),\n",
        "      \"Arc\": model\n",
        "      #\"Evaluate Train Loss\": train_losses,\n",
        "      \n",
        "  }"
      ],
      "execution_count": 0,
      "outputs": []
    },
    {
      "metadata": {
        "id": "cFeR8SBEw0ue",
        "colab_type": "text"
      },
      "cell_type": "markdown",
      "source": [
        "# Training Your Model\n",
        "- Variable \"trained_models\" append all models trained\n",
        "- function \"fit\" train and return the Model and the all variable that will be used latter\n",
        "  - *fit(Model, Epochs, Optimizer method, Loss function, Learning rate)*"
      ]
    },
    {
      "metadata": {
        "id": "6kAvty-S98Wk",
        "colab_type": "code",
        "outputId": "536a1b37-dfca-471a-cc70-fae5c40fff6a",
        "colab": {
          "base_uri": "https://localhost:8080/",
          "height": 1054
        }
      },
      "cell_type": "code",
      "source": [
        "# TREINO ESTOCASTICO\n",
        "trained_models = []\n",
        "ep = 100 #epocas\n",
        "trained_models.append(fit(model_CNN,ep,\"adadelta\", \"cross\", 0.001))\n"
      ],
      "execution_count": 15,
      "outputs": [
        {
          "output_type": "stream",
          "text": [
            "Opt Method: ADADELTA | Loss Function: CROSS | Learning Rate: 0.0045\n",
            "Epoch: 0 - Average loss: 1.6830617524230624 - Accuracy: 0.34168\n",
            "Epoch: 1 - Average loss: 1.5377672936621951 - Accuracy: 0.3852\n",
            "Epoch: 2 - Average loss: 1.4426375259517175 - Accuracy: 0.41768\n",
            "Epoch: 3 - Average loss: 1.3623446414505758 - Accuracy: 0.44184\n",
            "Epoch: 4 - Average loss: 1.2920793051988135 - Accuracy: 0.45104\n",
            "Epoch: 5 - Average loss: 1.239948171953017 - Accuracy: 0.47208\n",
            "Epoch: 6 - Average loss: 1.189518184785422 - Accuracy: 0.48968\n",
            "Epoch: 7 - Average loss: 1.1482650941560761 - Accuracy: 0.50448\n",
            "Epoch: 8 - Average loss: 1.1052320990056008 - Accuracy: 0.50928\n",
            "Epoch: 9 - Average loss: 1.0699990495457836 - Accuracy: 0.51672\n",
            "Epoch: 10 - Average loss: 1.0370162801718148 - Accuracy: 0.51992\n",
            "Epoch: 11 - Average loss: 1.00845578246138 - Accuracy: 0.5332\n",
            "Epoch: 12 - Average loss: 0.9822507521431948 - Accuracy: 0.53536\n",
            "Epoch: 13 - Average loss: 0.9593352043926144 - Accuracy: 0.54768\n",
            "Epoch: 14 - Average loss: 0.9353346386477495 - Accuracy: 0.554\n",
            "Epoch: 15 - Average loss: 0.9143175487898133 - Accuracy: 0.55368\n",
            "Epoch: 16 - Average loss: 0.887558382002116 - Accuracy: 0.55968\n",
            "Epoch: 17 - Average loss: 0.8710153466108436 - Accuracy: 0.56632\n",
            "Epoch: 18 - Average loss: 0.8559620678234161 - Accuracy: 0.57328\n",
            "Epoch: 19 - Average loss: 0.8406543313351031 - Accuracy: 0.57664\n",
            "Epoch: 20 - Average loss: 0.8187744202555866 - Accuracy: 0.57752\n",
            "Epoch: 21 - Average loss: 0.8077399797799567 - Accuracy: 0.58544\n",
            "Epoch: 22 - Average loss: 0.785576736267301 - Accuracy: 0.58784\n",
            "Epoch: 23 - Average loss: 0.7720695653369011 - Accuracy: 0.5944\n",
            "Epoch: 24 - Average loss: 0.7566716607876947 - Accuracy: 0.59656\n",
            "Epoch: 25 - Average loss: 0.7481969352608984 - Accuracy: 0.59624\n",
            "Epoch: 26 - Average loss: 0.7293422196301145 - Accuracy: 0.60536\n",
            "Epoch: 27 - Average loss: 0.7179379558532725 - Accuracy: 0.60488\n",
            "Epoch: 28 - Average loss: 0.7115565682746475 - Accuracy: 0.61184\n",
            "Epoch: 29 - Average loss: 0.6949996417406196 - Accuracy: 0.61056\n",
            "Epoch: 30 - Average loss: 0.6840090520932594 - Accuracy: 0.61576\n",
            "Epoch: 31 - Average loss: 0.6684578914083278 - Accuracy: 0.61464\n",
            "Epoch: 32 - Average loss: 0.6643250445410447 - Accuracy: 0.62056\n",
            "Epoch: 33 - Average loss: 0.6509665768457694 - Accuracy: 0.62152\n",
            "Epoch: 34 - Average loss: 0.6362040082537358 - Accuracy: 0.62952\n",
            "Epoch: 35 - Average loss: 0.6341775053217101 - Accuracy: 0.62584\n",
            "Epoch: 36 - Average loss: 0.6252276625815524 - Accuracy: 0.6232\n",
            "Epoch: 37 - Average loss: 0.6093223645034236 - Accuracy: 0.6328\n",
            "Epoch: 38 - Average loss: 0.6058033096794128 - Accuracy: 0.63096\n",
            "Epoch: 39 - Average loss: 0.5997238025421984 - Accuracy: 0.6368\n",
            "Epoch: 40 - Average loss: 0.5865497367262307 - Accuracy: 0.6376\n",
            "Epoch: 41 - Average loss: 0.5788458614626224 - Accuracy: 0.63848\n",
            "Epoch: 42 - Average loss: 0.571303497349232 - Accuracy: 0.63576\n",
            "Epoch: 43 - Average loss: 0.5638990281429798 - Accuracy: 0.6404\n",
            "Epoch: 44 - Average loss: 0.560577453012201 - Accuracy: 0.6416\n",
            "Epoch: 45 - Average loss: 0.5547865918591399 - Accuracy: 0.6468\n",
            "Epoch: 46 - Average loss: 0.5375587324816221 - Accuracy: 0.64384\n",
            "Epoch: 47 - Average loss: 0.5309426591648784 - Accuracy: 0.6496\n",
            "Epoch: 48 - Average loss: 0.5266016364402674 - Accuracy: 0.65032\n",
            "Epoch: 49 - Average loss: 0.5217973445175705 - Accuracy: 0.64904\n",
            "Epoch: 50 - Average loss: 0.5108613832278733 - Accuracy: 0.64968\n",
            "Epoch: 51 - Average loss: 0.5060212227848959 - Accuracy: 0.6524\n",
            "Epoch: 52 - Average loss: 0.5010295834961948 - Accuracy: 0.65056\n",
            "Epoch: 53 - Average loss: 0.4941968401072884 - Accuracy: 0.6556\n",
            "Epoch: 54 - Average loss: 0.49026017212288087 - Accuracy: 0.65576\n",
            "Epoch: 55 - Average loss: 0.4837046875138734 - Accuracy: 0.65392\n",
            "Epoch: 56 - Average loss: 0.4772924785088135 - Accuracy: 0.65328\n",
            "Epoch: 57 - Average loss: 0.47282574643271896 - Accuracy: 0.65816\n",
            "Epoch: 58 - Average loss: 0.4650927242642401 - Accuracy: 0.66008\n",
            "Epoch: 59 - Average loss: 0.46128965872301175 - Accuracy: 0.66264\n"
          ],
          "name": "stdout"
        }
      ]
    },
    {
      "metadata": {
        "id": "NEYr1-Z1wlq-",
        "colab_type": "text"
      },
      "cell_type": "markdown",
      "source": [
        "# Text and Graphical Output"
      ]
    },
    {
      "metadata": {
        "id": "qD3jggrzfXa9",
        "colab_type": "code",
        "colab": {}
      },
      "cell_type": "code",
      "source": [
        "def graphical_outputs(trained_models):\n",
        "  plt.title(\"\\n\\nAccuracy \" + trained_models[0][\"Name\"].upper() +\"\\n\", fontsize=20, loc=\"left\")\n",
        "  plt.title(\"dotted line = train\")\n",
        "  for models in trained_models:\n",
        "    plt.plot(models[\"Acc\"], label = str(models[\"Arc\"]).partition(\"(\")[0])\n",
        "    plt.plot(models[\"Train Acc\"],\"--\") \n",
        "    print(models[\"Arc\"],\"\\n\", \"Mean ACC: \", np.mean(models[\"Acc\"]),\"\\nMax ACC:\", models[\"Acc\"][-1])\n",
        "\n",
        "  plt.legend(loc='best')\n",
        "  plt.show\n"
      ],
      "execution_count": 0,
      "outputs": []
    },
    {
      "metadata": {
        "id": "DDxFC1RGjrLc",
        "colab_type": "code",
        "colab": {
          "base_uri": "https://localhost:8080/",
          "height": 948
        },
        "outputId": "0336b718-485f-46b9-9ff0-67d6bdbf1faf"
      },
      "cell_type": "code",
      "source": [
        "graphical_outputs(trained_models)"
      ],
      "execution_count": 17,
      "outputs": [
        {
          "output_type": "stream",
          "text": [
            "CNN(\n",
            "  (conv_layer): Sequential(\n",
            "    (0): Conv2d(3, 32, kernel_size=(3, 3), stride=(1, 1), padding=(1, 1))\n",
            "    (1): BatchNorm2d(32, eps=1e-05, momentum=0.1, affine=True, track_running_stats=True)\n",
            "    (2): ReLU(inplace)\n",
            "    (3): Conv2d(32, 64, kernel_size=(3, 3), stride=(1, 1), padding=(1, 1))\n",
            "    (4): ReLU(inplace)\n",
            "    (5): MaxPool2d(kernel_size=2, stride=2, padding=0, dilation=1, ceil_mode=False)\n",
            "    (6): Conv2d(64, 128, kernel_size=(3, 3), stride=(1, 1), padding=(1, 1))\n",
            "    (7): BatchNorm2d(128, eps=1e-05, momentum=0.1, affine=True, track_running_stats=True)\n",
            "    (8): ReLU(inplace)\n",
            "    (9): Conv2d(128, 128, kernel_size=(3, 3), stride=(1, 1), padding=(1, 1))\n",
            "    (10): ReLU(inplace)\n",
            "    (11): MaxPool2d(kernel_size=2, stride=2, padding=0, dilation=1, ceil_mode=False)\n",
            "    (12): Dropout2d(p=0.05)\n",
            "    (13): Conv2d(128, 256, kernel_size=(3, 3), stride=(1, 1), padding=(1, 1))\n",
            "    (14): BatchNorm2d(256, eps=1e-05, momentum=0.1, affine=True, track_running_stats=True)\n",
            "    (15): ReLU(inplace)\n",
            "    (16): Conv2d(256, 256, kernel_size=(3, 3), stride=(1, 1), padding=(1, 1))\n",
            "    (17): ReLU(inplace)\n",
            "    (18): MaxPool2d(kernel_size=2, stride=2, padding=0, dilation=1, ceil_mode=False)\n",
            "  )\n",
            "  (fc_layers): Sequential(\n",
            "    (0): Dropout(p=0.1)\n",
            "    (1): Linear(in_features=4096, out_features=1024, bias=True)\n",
            "    (2): ReLU(inplace)\n",
            "    (3): Linear(in_features=1024, out_features=512, bias=True)\n",
            "    (4): ReLU(inplace)\n",
            "    (5): Linear(in_features=512, out_features=128, bias=True)\n",
            "    (6): Dropout(p=0.1)\n",
            "    (7): Linear(in_features=128, out_features=10, bias=True)\n",
            "  )\n",
            ") \n",
            " Mean ACC:  0.5876200000000001 \n",
            "Max ACC: 0.66264\n"
          ],
          "name": "stdout"
        },
        {
          "output_type": "display_data",
          "data": {
            "image/png": "[encoded data removed]",
            "text/plain": [
              "<Figure size 432x288 with 1 Axes>"
            ]
          },
          "metadata": {
            "tags": []
          }
        }
      ]
    }
  ]
}