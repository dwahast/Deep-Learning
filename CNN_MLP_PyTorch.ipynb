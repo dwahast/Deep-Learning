{
  "nbformat": 4,
  "nbformat_minor": 0,
  "metadata": {
    "colab": {
      "name": "CNN_MLP_PyTorch.ipynb",
      "version": "0.3.2",
      "provenance": [],
      "collapsed_sections": [],
      "include_colab_link": true
    },
    "kernelspec": {
      "name": "python3",
      "display_name": "Python 3"
    },
    "accelerator": "GPU"
  },
  "cells": [
    {
      "cell_type": "markdown",
      "metadata": {
        "id": "view-in-github",
        "colab_type": "text"
      },
      "source": [
        "<a href=\"https://colab.research.google.com/github/dwahast/Deep-learning/blob/master/CNN_MLP_PyTorch.ipynb\" target=\"_parent\"><img src=\"https://colab.research.google.com/assets/colab-badge.svg\" alt=\"Open In Colab\"/></a>"
      ]
    },
    {
      "metadata": {
        "id": "T_RsmTkQ98Vz",
        "colab_type": "text"
      },
      "cell_type": "markdown",
      "source": [
        "# Objetivos deste trabalho\n",
        "- Familiarizar-se com a biblioteca PyTorch\n",
        "- Definir arquiteturas MLP simples em PyTorch\n",
        "- Treinar utilizando CIFAR10, testando diferentes arquiteturas, parâmetros, funções de loss e otimizadores\n",
        "- Comparar os resultados obtidos utilizando apenas Perpceptrons\n",
        "- Link útil (https://towardsdatascience.com/cifar-10-image-classification-in-tensorflow-5b501f7dc77c)"
      ]
    },
    {
      "metadata": {
        "id": "qUwhuYBi98V2",
        "colab_type": "code",
        "outputId": "510fc674-7ad4-439e-8e35-49ec9c89c6ad",
        "colab": {
          "base_uri": "https://localhost:8080/",
          "height": 51
        }
      },
      "cell_type": "code",
      "source": [
        "%matplotlib inline\n",
        "\n",
        "import numpy as np \n",
        "import matplotlib.pyplot as plt\n",
        "\n",
        "import torch\n",
        "import torch.nn as nn\n",
        "from torch.utils.data import DataLoader\n",
        "\n",
        "import torchvision\n",
        "import torchvision.transforms as transforms\n",
        "\n",
        "import torch.nn.functional as F # softmax/relu\n",
        "\n",
        "\n",
        "import tensorflow as tf #GPU \n",
        "from tensorflow.python.client import device_lib\n",
        "\n",
        "print(tf.test.gpu_device_name())\n",
        "print(torch.cuda.is_available())\n",
        "\n",
        "\n",
        "#print(device_lib.list_local_devices())\n",
        "\n",
        "#import pandas as pd # organize files \n"
      ],
      "execution_count": 1,
      "outputs": [
        {
          "output_type": "stream",
          "text": [
            "/device:GPU:0\n",
            "True\n"
          ],
          "name": "stdout"
        }
      ]
    },
    {
      "metadata": {
        "id": "LU2fLgnR98WA",
        "colab_type": "code",
        "outputId": "27e55d88-7dc0-428c-9cbc-fe4900bbecdb",
        "colab": {
          "base_uri": "https://localhost:8080/",
          "height": 51
        }
      },
      "cell_type": "code",
      "source": [
        "# Carregar os datasets\n",
        "\n",
        "#transform=transforms.Compose([\n",
        "#    transforms.Grayscale(num_output_channels=1),\n",
        "#    transforms.ToTensor()\n",
        "#])\n",
        "\n",
        "transform_train = transforms.Compose([\n",
        "    transforms.RandomCrop(32, padding=4),\n",
        "    transforms.RandomHorizontalFlip(),\n",
        "    transforms.ToTensor(),\n",
        "    transforms.Normalize((0.4914, 0.4822, 0.4465), (0.2023, 0.1994, 0.2010)),\n",
        "])\n",
        "\n",
        "#normaliza o dataset de test mas sem data augmentation\n",
        "transform_test = transforms.Compose([\n",
        "    transforms.ToTensor(),\n",
        "    transforms.Normalize((0.4914, 0.4822, 0.4465), (0.2023, 0.1994, 0.2010)),\n",
        "])\n",
        "\n",
        "dataset_train = torchvision.datasets.CIFAR10(root='./data', train=True,\n",
        "                                        download=True, transform=transform_train)\n",
        "\n",
        "dataset_test = torchvision.datasets.CIFAR10(root='./data', train=False,\n",
        "                                        download=True, transform=transform_test)"
      ],
      "execution_count": 2,
      "outputs": [
        {
          "output_type": "stream",
          "text": [
            "\r0it [00:00, ?it/s]"
          ],
          "name": "stderr"
        },
        {
          "output_type": "stream",
          "text": [
            "Downloading https://www.cs.toronto.edu/~kriz/cifar-10-python.tar.gz to ./data/cifar-10-python.tar.gz\n"
          ],
          "name": "stdout"
        },
        {
          "output_type": "stream",
          "text": [
            "100%|█████████▉| 170369024/170498071 [00:30<00:00, 5630447.64it/s]"
          ],
          "name": "stderr"
        },
        {
          "output_type": "stream",
          "text": [
            "Files already downloaded and verified\n"
          ],
          "name": "stdout"
        }
      ]
    },
    {
      "metadata": {
        "id": "A-o4YkPr98WI",
        "colab_type": "code",
        "outputId": "b011748d-3aa8-4248-cf4e-c96dd8614b2d",
        "colab": {
          "base_uri": "https://localhost:8080/",
          "height": 51
        }
      },
      "cell_type": "code",
      "source": [
        "train_loader = DataLoader(dataset=dataset_train, shuffle=True, batch_size=32)\n",
        "test_loader = DataLoader(dataset=dataset_test, shuffle=False)\n",
        "print(len(test_loader))\n",
        "\n",
        "dataiter = iter(train_loader)\n",
        "images, labels = dataiter.next()\n",
        "print(images.size())"
      ],
      "execution_count": 3,
      "outputs": [
        {
          "output_type": "stream",
          "text": [
            "10000\n",
            "torch.Size([1, 3, 32, 32])\n"
          ],
          "name": "stdout"
        }
      ]
    },
    {
      "metadata": {
        "id": "NCdXG0yUlr3A",
        "colab_type": "code",
        "colab": {}
      },
      "cell_type": "code",
      "source": [
        "class CNN(nn.Module):\n",
        "    def __init__(self):\n",
        "        super(CNN,self).__init__()\n",
        "        \n",
        "        self.conv_layer = nn.Sequential(\n",
        "          nn.Conv2d(in_channels=3, out_channels=32, kernel_size=3,stride=1, padding=1),\n",
        "          nn.BatchNorm2d(32),   \n",
        "          nn.ReLU(inplace=True),\n",
        "          nn.Conv2d(in_channels=32, out_channels=64, kernel_size=3, padding=1),\n",
        "          nn.ReLU(inplace=True),\n",
        "          nn.MaxPool2d(kernel_size=2, stride=2),\n",
        "\n",
        "          nn.Conv2d(in_channels=64, out_channels=128, kernel_size=3, padding=1),\n",
        "          nn.BatchNorm2d(128),\n",
        "          nn.ReLU(inplace=True),\n",
        "          nn.Conv2d(in_channels=128, out_channels=128, kernel_size=3, padding=1),\n",
        "          nn.ReLU(inplace=True),\n",
        "          nn.MaxPool2d(kernel_size=2, stride=2),\n",
        "          nn.Dropout2d(p=0.05),\n",
        "\n",
        "          nn.Conv2d(in_channels=128, out_channels=256, kernel_size=3, padding=1),\n",
        "          nn.BatchNorm2d(256),\n",
        "          nn.ReLU(inplace=True),\n",
        "          nn.Conv2d(in_channels=256, out_channels=256, kernel_size=3, padding=1),\n",
        "          nn.ReLU(inplace=True),\n",
        "          nn.MaxPool2d(kernel_size=2, stride=2),\n",
        "          )  \n",
        "        \n",
        "        self.fc_layers = nn.Sequential(\n",
        "            \n",
        "          #Flatten the feature maps. You have 32 feature mapsfrom cnn2. Each of the feature is of size 16x16 --> 32*16*16 = 8192\n",
        "          nn.Linear(32*32*4, 1024),   #Flattened image is fed into linear NN and reduced to half size\n",
        "          nn.Dropout(p=0.1),                    #Dropout used to reduce overfitting\n",
        "          nn.Linear(1024, 512),\n",
        "          nn.Dropout(p=0.5),\n",
        "          nn.Linear(512, 256),\n",
        "          nn.Dropout(p=0.1),\n",
        "          nn.Linear(256, 96),\n",
        "          nn.Dropout(p=0.1),\n",
        "          nn.Linear(96, 10)    #Since there were so many features, I decided to use 45 layers to get output layers. You can increase the kernels in Maxpooling to reduce image further and reduce number of hidden linear layers.\n",
        "\n",
        "        )\n",
        "        \n",
        "    def forward(self,x):\n",
        "        x = self.conv_layer(x)\n",
        "        x = x.view(x.size(0), -1)\n",
        "        x = self.fc_layers(x)\n",
        "        return x"
      ],
      "execution_count": 0,
      "outputs": []
    },
    {
      "metadata": {
        "id": "L36yfjGr98WO",
        "colab_type": "code",
        "colab": {}
      },
      "cell_type": "code",
      "source": [
        "# Definir a arquitetura MLP\n",
        "\n",
        "class MLP(nn.Module):\n",
        "    def __init__(self):\n",
        "        super(MLP, self).__init__()\n",
        "        self.fc1 = nn.Linear(32*32, 20)\n",
        "        self.fc2 = nn.Linear(20, 10)\n",
        "        self.activation_function = nn.Sigmoid()\n",
        "    def forward(self, x):\n",
        "        x = x.view(-1, 32*32)\n",
        "        x = self.activation_function(self.fc1(x))\n",
        "        x = self.activation_function(self.fc2(x))\n",
        "        return x\n",
        "# Arquitecture with RELU      \n",
        "class MLP_relu(nn.Module):\n",
        "    def __init__(self):\n",
        "        super(MLP_relu, self).__init__()\n",
        "        self.fc1 = nn.Linear(32*32, 20)\n",
        "        self.fc2 = nn.Linear(20, 10)\n",
        "    def forward(self, x):\n",
        "        x = x.view(-1, 32*32)\n",
        "        x = F.relu(self.fc1(x))\n",
        "        x = F.log_softmax(self.fc2(x),dim =1)\n",
        "        return x\n",
        "      \n",
        "# New Arquitecture with RELU   \n",
        "class MLP_Srelu(nn.Module):\n",
        "    def __init__(self):\n",
        "        super(MLP_Srelu, self).__init__()\n",
        "        self.fc1 = nn.Linear(32*32, 256)\n",
        "        self.fc2 = nn.Linear(256, 128)\n",
        "        self.fc3 = nn.Linear(128, 32)\n",
        "        self.fc4 = nn.Linear(32, 10)\n",
        "    def forward(self, x):\n",
        "        x = x.view(-1, 32*32)\n",
        "        x = F.relu(self.fc1(x))\n",
        "        x = F.relu(self.fc2(x))\n",
        "        x = F.relu(self.fc3(x))\n",
        "        x = F.log_softmax(self.fc4(x),dim =1)\n",
        "        return x   \n"
      ],
      "execution_count": 0,
      "outputs": []
    },
    {
      "metadata": {
        "id": "7DSF3ZnQ98WT",
        "colab_type": "code",
        "outputId": "9b0e486d-1f4d-4411-b8cb-3ac1c1901e46",
        "colab": {
          "base_uri": "https://localhost:8080/",
          "height": 51
        }
      },
      "cell_type": "code",
      "source": [
        "model_std = MLP()\n",
        "model_relu = MLP_relu()\n",
        "model_Srelu = MLP_Srelu()\n",
        "model_CNN = CNN()\n",
        "\n",
        "CUDA = torch.cuda.is_available()\n",
        "if CUDA:\n",
        "    model_std = model_std.cuda()\n",
        "    model_relu = model_relu.cuda()\n",
        "    model_Srelu = model_Srelu.cuda()\n",
        "    model_CNN = model_CNN.cuda()\n",
        "    print(\"******** CUDA MODEL ENABLE *********\\n\")\n",
        "\n",
        "#print(model_CNN)"
      ],
      "execution_count": 6,
      "outputs": [
        {
          "output_type": "stream",
          "text": [
            "******** CUDA MODEL ENABLE *********\n",
            "\n"
          ],
          "name": "stdout"
        }
      ]
    },
    {
      "metadata": {
        "id": "Rh1fBZcW98WZ",
        "colab_type": "code",
        "colab": {}
      },
      "cell_type": "code",
      "source": [
        "# Definir otimizador e loss\n",
        "# Nota: testar outros otimizadores e funções de loss (em particular cross entropy)\n",
        "\n",
        "def optimizer_set(model,optimizer_method, learning_rate):\n",
        "  if optimizer_method == \"sgd\":\n",
        "    optimizer = torch.optim.SGD(model.parameters(), lr = learning_rate, momentum=0.9)\n",
        "  elif optimizer_method == \"adadelta\":\n",
        "    optimizer = torch.optim.Adadelta(model.parameters(), lr = learning_rate)\n",
        "  elif optimizer_method == \"adagrad\":\n",
        "    optimizer = torch.optim.Adagrad(model.parameters(), lr = learning_rate)\n",
        "  elif optimizer_method == \"adamax\":\n",
        "    optimizer = torch.optim.Adamax(model.parameters(), lr = learning_rate)\n",
        "  elif optimizer_method == \"adam\":\n",
        "    optimizer = torch.optim.Adam(model.parameters(), lr = learning_rate)  \n",
        "  elif optimizer_method == \"rms\":\n",
        "    optimizer = torch.optim.RMSprop(model.parameters(), lr = learning_rate)\n",
        "  return optimizer\n",
        "\n",
        "def loss_function_set(loss_function):\n",
        "  if loss_function == \"mse\":\n",
        "    loss_fn = torch.nn.MSELoss()\n",
        "  elif loss_function == \"nllos\":\n",
        "     loss_fn = torch.nn.NLLoss()\n",
        "  elif loss_function == \"cross\":\n",
        "     loss_fn = torch.nn.CrossEntropyLoss()\n",
        "  return loss_fn\n",
        "  "
      ],
      "execution_count": 0,
      "outputs": []
    },
    {
      "metadata": {
        "id": "ZG-R1kCQEweC",
        "colab_type": "code",
        "colab": {}
      },
      "cell_type": "code",
      "source": [
        "def one_hot(label, output_size):\n",
        "    \n",
        "    label_select = np.zeros(output_size)\n",
        "    label_select[label]=1\n",
        "    \n",
        "    return torch.Tensor(label_select)"
      ],
      "execution_count": 0,
      "outputs": []
    },
    {
      "metadata": {
        "colab_type": "code",
        "id": "p87aRLgR2pPo",
        "colab": {}
      },
      "cell_type": "code",
      "source": [
        "def evaluate(model, loss_function, dataset):\n",
        "  model.eval() # set model to Evaluate \"mode\"\n",
        " # losses = []\n",
        "  corrects = 0\n",
        "  current_total = 0\n",
        "  accuracies = 0\n",
        "  \n",
        " # loss_fn = loss_function_set(loss_function)\n",
        "  \n",
        "  for image, label in dataset:\n",
        "    CUDA = torch.cuda.is_available()\n",
        "    if CUDA:\n",
        "      image = image.cuda()\n",
        "      label = label.cuda()\n",
        "    \n",
        "    outputs = model(image)\n",
        "    \n",
        "   # if(loss_function == 'mse'):\n",
        "   #   label_target = one_hot(label,10) # one_hot to set the training class in the escalar\n",
        "   #   loss = loss_fn(outputs,label_target)\n",
        "   # else:\n",
        "   #   loss = loss_fn(outputs,label)\n",
        "      \n",
        "   # losses.append(loss.item())\n",
        "    \n",
        "    _, predicted = torch.max(outputs.data, 1)\n",
        "    \n",
        "    if(predicted==label):\n",
        "      corrects += 1\n",
        "    \n",
        "    current_total += 1\n",
        "  \n",
        "  accuracy = corrects/current_total\n",
        "\n",
        "  return accuracy #, np.mean(losses)\n",
        "      "
      ],
      "execution_count": 0,
      "outputs": []
    },
    {
      "metadata": {
        "id": "rFVQOHzayfj6",
        "colab_type": "text"
      },
      "cell_type": "markdown",
      "source": [
        "#Training function"
      ]
    },
    {
      "metadata": {
        "id": "MELtsUbB98Wf",
        "colab_type": "code",
        "colab": {}
      },
      "cell_type": "code",
      "source": [
        "# Realizar o treinamento aqui\n",
        "def fit(model, epochs, optimizer_method, loss_function, learning_rate):\n",
        "  \n",
        "  print(\"Opt Method:\", optimizer_method.upper(), \"| Loss Function:\", loss_function.upper(), \"| Learning Rate:\", learning_rate)\n",
        "  optimizer = optimizer_set(model,optimizer_method, learning_rate) #optimizer and Learning rate setter\n",
        "  loss_fn = loss_function_set(loss_function) \n",
        "  accuracies = []\n",
        "  losses = []\n",
        "  train_acc = []\n",
        "  for epoch in range(epochs):\n",
        "    model.train() # Set model to TRAIN \"mode\" (can be set to False for Test)\n",
        "    epoch_losses = []\n",
        "    for image,label in train_loader:\n",
        "      CUDA = torch.cuda.is_available()\n",
        "      if CUDA:\n",
        "        image = image.cuda()\n",
        "        label = label.cuda()\n",
        "      \n",
        "      optimizer.zero_grad()  # cleaning gradients between mini batches\n",
        "      outputs = model(image) \n",
        "      \n",
        "      if(loss_function == 'mse'):\n",
        "        label_target = one_hot(label,10) # one_hot to set the training class in the escalar\n",
        "        loss = loss_fn(outputs,label_target)\n",
        "      else: \n",
        "        loss = loss_fn(outputs, label)\n",
        "        \n",
        "      loss.backward() # Backpropagation \n",
        "      optimizer.step() # Optimization Method\n",
        "      \n",
        "      epoch_losses.append(loss.item())\n",
        "\n",
        "    losses.append(np.mean(epoch_losses)) # Append mean losses for each epoch\n",
        "   \n",
        "    \n",
        "    acc = evaluate(model, loss_function, train_loader)\n",
        "    train_acc.append(acc)\n",
        "    acc = evaluate(model, loss_function, test_loader) #evaluate\n",
        "    accuracies.append(acc)\n",
        "    \n",
        "    #if(epoch%10==0):\n",
        "    print(\"Epoch:\",epoch, \"- Average loss:\", np.mean(epoch_losses),\"- Accuracy:\", acc) # Print mean Loss for each epoch\n",
        " \n",
        "  return {\n",
        "      \"Model\": outputs,\n",
        "      \"Acc\": accuracies,\n",
        "      \"Train Acc\": train_acc,\n",
        "      \"Loss\": losses,\n",
        "      \"Name\": optimizer_method + \" | \" + loss_function + \" | \" + str(learning_rate),\n",
        "      \"Arc\": model\n",
        "      #\"Evaluate Train Loss\": train_losses,\n",
        "      \n",
        "  }"
      ],
      "execution_count": 0,
      "outputs": []
    },
    {
      "metadata": {
        "id": "cFeR8SBEw0ue",
        "colab_type": "text"
      },
      "cell_type": "markdown",
      "source": [
        "# Training Your Model\n",
        "- Variable \"trained_models\" append all models trained\n",
        "- function \"fit\" train and return the Model and the all variable that will be used latter\n",
        "  - *fit(Model, Epochs, Optimizer method, Loss function, Learning rate)*"
      ]
    },
    {
      "metadata": {
        "id": "6kAvty-S98Wk",
        "colab_type": "code",
        "outputId": "d139586f-bf97-4fb5-db43-8656089876eb",
        "colab": {
          "base_uri": "https://localhost:8080/",
          "height": 884
        }
      },
      "cell_type": "code",
      "source": [
        "# TREINO ESTOCASTICO\n",
        "trained_models = []\n",
        "ep = 50 #epocas\n",
        "trained_models.append(fit(model_CNN,ep,\"adadelta\", \"cross\", 0.001))\n"
      ],
      "execution_count": 11,
      "outputs": [
        {
          "output_type": "stream",
          "text": [
            "Opt Method: ADADELTA | Loss Function: CROSS | Learning Rate: 0.001\n"
          ],
          "name": "stdout"
        },
        {
          "output_type": "stream",
          "text": [
            "\r170500096it [00:49, 5630447.64it/s]                               "
          ],
          "name": "stderr"
        },
        {
          "output_type": "stream",
          "text": [
            "Epoch: 0 - Average loss: 2.106484047811031 - Accuracy: 0.2983\n",
            "Epoch: 1 - Average loss: 1.7845571892619132 - Accuracy: 0.3456\n",
            "Epoch: 2 - Average loss: 1.621505954222679 - Accuracy: 0.3843\n",
            "Epoch: 3 - Average loss: 1.526562838394642 - Accuracy: 0.418\n",
            "Epoch: 4 - Average loss: 1.4483696310186387 - Accuracy: 0.4107\n",
            "Epoch: 5 - Average loss: 1.3837930758464336 - Accuracy: 0.449\n",
            "Epoch: 6 - Average loss: 1.3418473608362675 - Accuracy: 0.4512\n",
            "Epoch: 7 - Average loss: 1.2967846457147598 - Accuracy: 0.4653\n",
            "Epoch: 8 - Average loss: 1.2707603407990933 - Accuracy: 0.4779\n",
            "Epoch: 9 - Average loss: 1.2372692675149441 - Accuracy: 0.482\n",
            "Epoch: 10 - Average loss: 1.20557392248936 - Accuracy: 0.5079\n",
            "Epoch: 11 - Average loss: 1.1745548505052925 - Accuracy: 0.5121\n",
            "Epoch: 12 - Average loss: 1.1553563786216452 - Accuracy: 0.5097\n",
            "Epoch: 13 - Average loss: 1.1319216933468357 - Accuracy: 0.5067\n",
            "Epoch: 14 - Average loss: 1.1117733499684557 - Accuracy: 0.539\n",
            "Epoch: 15 - Average loss: 1.0894200545607506 - Accuracy: 0.5122\n",
            "Epoch: 16 - Average loss: 1.0663322804257553 - Accuracy: 0.5159\n",
            "Epoch: 17 - Average loss: 1.055324197911229 - Accuracy: 0.5326\n",
            "Epoch: 18 - Average loss: 1.03521747401556 - Accuracy: 0.533\n",
            "Epoch: 19 - Average loss: 1.020102347623501 - Accuracy: 0.5441\n",
            "Epoch: 20 - Average loss: 1.0057682320854346 - Accuracy: 0.5508\n",
            "Epoch: 21 - Average loss: 0.995228910353193 - Accuracy: 0.5584\n",
            "Epoch: 22 - Average loss: 0.977882290564701 - Accuracy: 0.5737\n",
            "Epoch: 23 - Average loss: 0.9653351594262197 - Accuracy: 0.5664\n",
            "Epoch: 24 - Average loss: 0.9620789589603199 - Accuracy: 0.5603\n",
            "Epoch: 25 - Average loss: 0.9473733164051268 - Accuracy: 0.5825\n",
            "Epoch: 26 - Average loss: 0.93535996469229 - Accuracy: 0.5548\n",
            "Epoch: 27 - Average loss: 0.9281841017833585 - Accuracy: 0.5666\n",
            "Epoch: 28 - Average loss: 0.9168602350313868 - Accuracy: 0.5357\n",
            "Epoch: 29 - Average loss: 0.9077198877134895 - Accuracy: 0.5608\n",
            "Epoch: 30 - Average loss: 0.8975746970600728 - Accuracy: 0.5889\n",
            "Epoch: 31 - Average loss: 0.8906972435633093 - Accuracy: 0.5789\n",
            "Epoch: 32 - Average loss: 0.8799344297842053 - Accuracy: 0.5882\n",
            "Epoch: 33 - Average loss: 0.8723736324913102 - Accuracy: 0.5902\n",
            "Epoch: 34 - Average loss: 0.8665936503213527 - Accuracy: 0.5788\n",
            "Epoch: 35 - Average loss: 0.85933040994204 - Accuracy: 0.5987\n",
            "Epoch: 36 - Average loss: 0.8480134173428873 - Accuracy: 0.5756\n",
            "Epoch: 37 - Average loss: 0.8474016926662578 - Accuracy: 0.5501\n",
            "Epoch: 38 - Average loss: 0.8398166427981295 - Accuracy: 0.5902\n",
            "Epoch: 39 - Average loss: 0.8217905447489675 - Accuracy: 0.5805\n",
            "Epoch: 40 - Average loss: 0.8270256958414428 - Accuracy: 0.5961\n",
            "Epoch: 41 - Average loss: 0.8152216990170581 - Accuracy: 0.5963\n",
            "Epoch: 42 - Average loss: 0.809802421424471 - Accuracy: 0.6001\n",
            "Epoch: 43 - Average loss: 0.8046913394379989 - Accuracy: 0.5795\n",
            "Epoch: 44 - Average loss: 0.8006026672944799 - Accuracy: 0.5892\n",
            "Epoch: 45 - Average loss: 0.7926058777817665 - Accuracy: 0.6171\n",
            "Epoch: 46 - Average loss: 0.7852459493992524 - Accuracy: 0.6002\n",
            "Epoch: 47 - Average loss: 0.781290463093184 - Accuracy: 0.6202\n",
            "Epoch: 48 - Average loss: 0.7811114576119836 - Accuracy: 0.5961\n",
            "Epoch: 49 - Average loss: 0.774377331150457 - Accuracy: 0.6056\n"
          ],
          "name": "stdout"
        }
      ]
    },
    {
      "metadata": {
        "id": "NEYr1-Z1wlq-",
        "colab_type": "text"
      },
      "cell_type": "markdown",
      "source": [
        "# Text and Graphical Output"
      ]
    },
    {
      "metadata": {
        "id": "qD3jggrzfXa9",
        "colab_type": "code",
        "colab": {}
      },
      "cell_type": "code",
      "source": [
        "def graphical_outputs(trained_models):\n",
        "  plt.title(\"\\n\\nAccuracy \" + trained_models[0][\"Name\"].upper() +\"\\n\", fontsize=20, loc=\"left\")\n",
        "  plt.title(\"dotted line = train\")\n",
        "  for models in trained_models:\n",
        "    plt.plot(models[\"Acc\"], label = str(models[\"Arc\"]).partition(\"(\")[0])\n",
        "    plt.plot(models[\"Train Acc\"],\"--\") \n",
        "    print(models[\"Arc\"],\"\\n\", \"ACC: \", np.mean(models[\"Acc\"]),\"\\n\")\n",
        "\n",
        "  plt.legend(loc='best')\n",
        "  plt.show\n"
      ],
      "execution_count": 0,
      "outputs": []
    },
    {
      "metadata": {
        "id": "DDxFC1RGjrLc",
        "colab_type": "code",
        "colab": {
          "base_uri": "https://localhost:8080/",
          "height": 965
        },
        "outputId": "b25f3a17-d841-4049-8c8d-2d6b6b4132bf"
      },
      "cell_type": "code",
      "source": [
        "graphical_outputs(trained_models)"
      ],
      "execution_count": 13,
      "outputs": [
        {
          "output_type": "stream",
          "text": [
            "CNN(\n",
            "  (conv_layer): Sequential(\n",
            "    (0): Conv2d(3, 32, kernel_size=(3, 3), stride=(1, 1), padding=(1, 1))\n",
            "    (1): BatchNorm2d(32, eps=1e-05, momentum=0.1, affine=True, track_running_stats=True)\n",
            "    (2): ReLU(inplace)\n",
            "    (3): Conv2d(32, 64, kernel_size=(3, 3), stride=(1, 1), padding=(1, 1))\n",
            "    (4): ReLU(inplace)\n",
            "    (5): MaxPool2d(kernel_size=2, stride=2, padding=0, dilation=1, ceil_mode=False)\n",
            "    (6): Conv2d(64, 128, kernel_size=(3, 3), stride=(1, 1), padding=(1, 1))\n",
            "    (7): BatchNorm2d(128, eps=1e-05, momentum=0.1, affine=True, track_running_stats=True)\n",
            "    (8): ReLU(inplace)\n",
            "    (9): Conv2d(128, 128, kernel_size=(3, 3), stride=(1, 1), padding=(1, 1))\n",
            "    (10): ReLU(inplace)\n",
            "    (11): MaxPool2d(kernel_size=2, stride=2, padding=0, dilation=1, ceil_mode=False)\n",
            "    (12): Dropout2d(p=0.05)\n",
            "    (13): Conv2d(128, 256, kernel_size=(3, 3), stride=(1, 1), padding=(1, 1))\n",
            "    (14): BatchNorm2d(256, eps=1e-05, momentum=0.1, affine=True, track_running_stats=True)\n",
            "    (15): ReLU(inplace)\n",
            "    (16): Conv2d(256, 256, kernel_size=(3, 3), stride=(1, 1), padding=(1, 1))\n",
            "    (17): ReLU(inplace)\n",
            "    (18): MaxPool2d(kernel_size=2, stride=2, padding=0, dilation=1, ceil_mode=False)\n",
            "  )\n",
            "  (fc_layers): Sequential(\n",
            "    (0): Linear(in_features=4096, out_features=1024, bias=True)\n",
            "    (1): Dropout(p=0.1)\n",
            "    (2): Linear(in_features=1024, out_features=512, bias=True)\n",
            "    (3): Dropout(p=0.5)\n",
            "    (4): Linear(in_features=512, out_features=256, bias=True)\n",
            "    (5): Dropout(p=0.1)\n",
            "    (6): Linear(in_features=256, out_features=96, bias=True)\n",
            "    (7): Dropout(p=0.1)\n",
            "    (8): Linear(in_features=96, out_features=10, bias=True)\n",
            "  )\n",
            ") \n",
            " ACC:  0.5365199999999999 \n",
            "\n"
          ],
          "name": "stdout"
        },
        {
          "output_type": "display_data",
          "data": {
            "image/png": "[encoded data removed]",
            "text/plain": [
              "<Figure size 432x288 with 1 Axes>"
            ]
          },
          "metadata": {
            "tags": []
          }
        }
      ]
    },
    {
      "metadata": {
        "id": "GVB5SDeO5X0c",
        "colab_type": "code",
        "colab": {}
      },
      "cell_type": "code",
      "source": [
        "# TREINO ESTOCASTICO\n",
        "#trained_models1 = [] #Model com batch\n",
        "#model_CNN = CNN()\n",
        "#train_loader = DataLoader(dataset=dataset_train, shuffle=True, batch_size =32)\n",
        "#ep = 50 #epocas\n",
        "#trained_models1.append(fit(model_CNN,ep,\"adadelta\", \"cross\", 0.001))"
      ],
      "execution_count": 0,
      "outputs": []
    },
    {
      "metadata": {
        "id": "DkVkBWjA5acm",
        "colab_type": "code",
        "colab": {}
      },
      "cell_type": "code",
      "source": [
        "#graphical_outputs(trained_models1)"
      ],
      "execution_count": 0,
      "outputs": []
    }
  ]
}